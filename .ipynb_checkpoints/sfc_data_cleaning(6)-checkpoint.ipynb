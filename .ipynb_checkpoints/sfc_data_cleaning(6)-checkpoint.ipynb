{
 "cells": [
  {
   "cell_type": "markdown",
   "id": "41a4dff2",
   "metadata": {},
   "source": [
    "# SFC PAYGo Solar Credit Repayment Competition"
   ]
  },
  {
   "cell_type": "markdown",
   "id": "4b008102",
   "metadata": {},
   "source": [
    "<br>"
   ]
  },
  {
   "cell_type": "code",
   "execution_count": 1,
   "id": "57351821",
   "metadata": {},
   "outputs": [],
   "source": [
    "import pandas as pd\n",
    "import missingno as msno\n",
    "import seaborn as sns\n",
    "import numpy as np\n",
    "import ast\n",
    "from fancyimpute import IterativeImputer\n",
    "from dateutil.relativedelta import *\n",
    "from sklearn.preprocessing import LabelEncoder"
   ]
  },
  {
   "cell_type": "code",
   "execution_count": 2,
   "id": "2c53cda4",
   "metadata": {},
   "outputs": [],
   "source": [
    "train = pd.read_csv(\"Train.csv\")"
   ]
  },
  {
   "cell_type": "code",
   "execution_count": 3,
   "id": "228056ef",
   "metadata": {},
   "outputs": [
    {
     "data": {
      "text/html": [
       "<div>\n",
       "<style scoped>\n",
       "    .dataframe tbody tr th:only-of-type {\n",
       "        vertical-align: middle;\n",
       "    }\n",
       "\n",
       "    .dataframe tbody tr th {\n",
       "        vertical-align: top;\n",
       "    }\n",
       "\n",
       "    .dataframe thead th {\n",
       "        text-align: right;\n",
       "    }\n",
       "</style>\n",
       "<table border=\"1\" class=\"dataframe\">\n",
       "  <thead>\n",
       "    <tr style=\"text-align: right;\">\n",
       "      <th></th>\n",
       "      <th>ID</th>\n",
       "      <th>TransactionDates</th>\n",
       "      <th>PaymentsHistory</th>\n",
       "      <th>m1</th>\n",
       "      <th>m2</th>\n",
       "      <th>m3</th>\n",
       "      <th>m4</th>\n",
       "      <th>m5</th>\n",
       "      <th>m6</th>\n",
       "    </tr>\n",
       "  </thead>\n",
       "  <tbody>\n",
       "    <tr>\n",
       "      <th>0</th>\n",
       "      <td>ID_MR53LEX</td>\n",
       "      <td>['04-2018', '05-2018', '06-2018', '07-2018', '...</td>\n",
       "      <td>[3600.0, 750.0, 350.0, 65.0, 95.0, 135.0, 85.0...</td>\n",
       "      <td>880.0</td>\n",
       "      <td>930.0</td>\n",
       "      <td>495.0</td>\n",
       "      <td>715.0</td>\n",
       "      <td>220.0</td>\n",
       "      <td>385.0</td>\n",
       "    </tr>\n",
       "    <tr>\n",
       "      <th>1</th>\n",
       "      <td>ID_3D7NQUH</td>\n",
       "      <td>['04-2018', '05-2018', '06-2018', '07-2018', '...</td>\n",
       "      <td>[2940.0, 970.0, 380.0, 880.0, 385.0, 440.0, 11...</td>\n",
       "      <td>660.0</td>\n",
       "      <td>935.0</td>\n",
       "      <td>935.0</td>\n",
       "      <td>825.0</td>\n",
       "      <td>770.0</td>\n",
       "      <td>935.0</td>\n",
       "    </tr>\n",
       "    <tr>\n",
       "      <th>2</th>\n",
       "      <td>ID_0IWQNPI</td>\n",
       "      <td>['02-2020', '03-2020', '04-2020', '05-2020', '...</td>\n",
       "      <td>[2850.0, 1500.0, 1350.0, 610.0, 200.0, 250.0]</td>\n",
       "      <td>700.0</td>\n",
       "      <td>1350.0</td>\n",
       "      <td>1550.0</td>\n",
       "      <td>1400.0</td>\n",
       "      <td>1450.0</td>\n",
       "      <td>1200.0</td>\n",
       "    </tr>\n",
       "    <tr>\n",
       "      <th>3</th>\n",
       "      <td>ID_IY8SYB9</td>\n",
       "      <td>['09-2017', '10-2017', '11-2017', '12-2017', '...</td>\n",
       "      <td>[2200.0, 1420.0, 1180.0, 900.0, 1400.0, 780.0,...</td>\n",
       "      <td>580.0</td>\n",
       "      <td>480.0</td>\n",
       "      <td>800.0</td>\n",
       "      <td>1260.0</td>\n",
       "      <td>1650.0</td>\n",
       "      <td>530.0</td>\n",
       "    </tr>\n",
       "    <tr>\n",
       "      <th>4</th>\n",
       "      <td>ID_9XHL7VZ</td>\n",
       "      <td>['09-2017', '10-2017', '11-2017', '12-2017', '...</td>\n",
       "      <td>[2640.0, 910.0, 480.0, 280.0, 200.0, 180.0, 33...</td>\n",
       "      <td>40.0</td>\n",
       "      <td>440.0</td>\n",
       "      <td>460.0</td>\n",
       "      <td>360.0</td>\n",
       "      <td>80.0</td>\n",
       "      <td>330.0</td>\n",
       "    </tr>\n",
       "  </tbody>\n",
       "</table>\n",
       "</div>"
      ],
      "text/plain": [
       "           ID                                   TransactionDates  \\\n",
       "0  ID_MR53LEX  ['04-2018', '05-2018', '06-2018', '07-2018', '...   \n",
       "1  ID_3D7NQUH  ['04-2018', '05-2018', '06-2018', '07-2018', '...   \n",
       "2  ID_0IWQNPI  ['02-2020', '03-2020', '04-2020', '05-2020', '...   \n",
       "3  ID_IY8SYB9  ['09-2017', '10-2017', '11-2017', '12-2017', '...   \n",
       "4  ID_9XHL7VZ  ['09-2017', '10-2017', '11-2017', '12-2017', '...   \n",
       "\n",
       "                                     PaymentsHistory     m1      m2      m3  \\\n",
       "0  [3600.0, 750.0, 350.0, 65.0, 95.0, 135.0, 85.0...  880.0   930.0   495.0   \n",
       "1  [2940.0, 970.0, 380.0, 880.0, 385.0, 440.0, 11...  660.0   935.0   935.0   \n",
       "2      [2850.0, 1500.0, 1350.0, 610.0, 200.0, 250.0]  700.0  1350.0  1550.0   \n",
       "3  [2200.0, 1420.0, 1180.0, 900.0, 1400.0, 780.0,...  580.0   480.0   800.0   \n",
       "4  [2640.0, 910.0, 480.0, 280.0, 200.0, 180.0, 33...   40.0   440.0   460.0   \n",
       "\n",
       "       m4      m5      m6  \n",
       "0   715.0   220.0   385.0  \n",
       "1   825.0   770.0   935.0  \n",
       "2  1400.0  1450.0  1200.0  \n",
       "3  1260.0  1650.0   530.0  \n",
       "4   360.0    80.0   330.0  "
      ]
     },
     "execution_count": 3,
     "metadata": {},
     "output_type": "execute_result"
    }
   ],
   "source": [
    "train.head()"
   ]
  },
  {
   "cell_type": "code",
   "execution_count": 4,
   "id": "f8d6ddc5",
   "metadata": {},
   "outputs": [
    {
     "data": {
      "text/plain": [
       "ID                   object\n",
       "TransactionDates     object\n",
       "PaymentsHistory      object\n",
       "m1                  float64\n",
       "m2                  float64\n",
       "m3                  float64\n",
       "m4                  float64\n",
       "m5                  float64\n",
       "m6                  float64\n",
       "dtype: object"
      ]
     },
     "execution_count": 4,
     "metadata": {},
     "output_type": "execute_result"
    }
   ],
   "source": [
    "train.dtypes"
   ]
  },
  {
   "cell_type": "code",
   "execution_count": 5,
   "id": "5c61402d",
   "metadata": {},
   "outputs": [
    {
     "data": {
      "text/plain": [
       "(28007, 9)"
      ]
     },
     "execution_count": 5,
     "metadata": {},
     "output_type": "execute_result"
    }
   ],
   "source": [
    "train.shape"
   ]
  },
  {
   "cell_type": "code",
   "execution_count": 6,
   "id": "91e2153e",
   "metadata": {},
   "outputs": [
    {
     "data": {
      "text/html": [
       "<div>\n",
       "<style scoped>\n",
       "    .dataframe tbody tr th:only-of-type {\n",
       "        vertical-align: middle;\n",
       "    }\n",
       "\n",
       "    .dataframe tbody tr th {\n",
       "        vertical-align: top;\n",
       "    }\n",
       "\n",
       "    .dataframe thead th {\n",
       "        text-align: right;\n",
       "    }\n",
       "</style>\n",
       "<table border=\"1\" class=\"dataframe\">\n",
       "  <thead>\n",
       "    <tr style=\"text-align: right;\">\n",
       "      <th></th>\n",
       "      <th>m1</th>\n",
       "      <th>m2</th>\n",
       "      <th>m3</th>\n",
       "      <th>m4</th>\n",
       "      <th>m5</th>\n",
       "      <th>m6</th>\n",
       "    </tr>\n",
       "  </thead>\n",
       "  <tbody>\n",
       "    <tr>\n",
       "      <th>count</th>\n",
       "      <td>28007.000000</td>\n",
       "      <td>28007.000000</td>\n",
       "      <td>28007.000000</td>\n",
       "      <td>28007.000000</td>\n",
       "      <td>28007.000000</td>\n",
       "      <td>28007.000000</td>\n",
       "    </tr>\n",
       "    <tr>\n",
       "      <th>mean</th>\n",
       "      <td>815.411683</td>\n",
       "      <td>807.101617</td>\n",
       "      <td>797.641161</td>\n",
       "      <td>815.011033</td>\n",
       "      <td>827.719463</td>\n",
       "      <td>692.115150</td>\n",
       "    </tr>\n",
       "    <tr>\n",
       "      <th>std</th>\n",
       "      <td>686.130805</td>\n",
       "      <td>839.772177</td>\n",
       "      <td>696.809281</td>\n",
       "      <td>715.582046</td>\n",
       "      <td>796.379837</td>\n",
       "      <td>1416.301221</td>\n",
       "    </tr>\n",
       "    <tr>\n",
       "      <th>min</th>\n",
       "      <td>1.000000</td>\n",
       "      <td>1.000000</td>\n",
       "      <td>1.000000</td>\n",
       "      <td>1.000000</td>\n",
       "      <td>1.000000</td>\n",
       "      <td>1.000000</td>\n",
       "    </tr>\n",
       "    <tr>\n",
       "      <th>25%</th>\n",
       "      <td>275.000000</td>\n",
       "      <td>250.000000</td>\n",
       "      <td>220.000000</td>\n",
       "      <td>230.000000</td>\n",
       "      <td>220.000000</td>\n",
       "      <td>130.000000</td>\n",
       "    </tr>\n",
       "    <tr>\n",
       "      <th>50%</th>\n",
       "      <td>820.000000</td>\n",
       "      <td>800.000000</td>\n",
       "      <td>790.000000</td>\n",
       "      <td>815.000000</td>\n",
       "      <td>840.000000</td>\n",
       "      <td>480.000000</td>\n",
       "    </tr>\n",
       "    <tr>\n",
       "      <th>75%</th>\n",
       "      <td>1200.000000</td>\n",
       "      <td>1200.000000</td>\n",
       "      <td>1200.000000</td>\n",
       "      <td>1200.000000</td>\n",
       "      <td>1205.000000</td>\n",
       "      <td>915.000000</td>\n",
       "    </tr>\n",
       "    <tr>\n",
       "      <th>max</th>\n",
       "      <td>33890.000000</td>\n",
       "      <td>94044.000000</td>\n",
       "      <td>32005.000000</td>\n",
       "      <td>33403.000000</td>\n",
       "      <td>64106.000000</td>\n",
       "      <td>96814.000000</td>\n",
       "    </tr>\n",
       "  </tbody>\n",
       "</table>\n",
       "</div>"
      ],
      "text/plain": [
       "                 m1            m2            m3            m4            m5  \\\n",
       "count  28007.000000  28007.000000  28007.000000  28007.000000  28007.000000   \n",
       "mean     815.411683    807.101617    797.641161    815.011033    827.719463   \n",
       "std      686.130805    839.772177    696.809281    715.582046    796.379837   \n",
       "min        1.000000      1.000000      1.000000      1.000000      1.000000   \n",
       "25%      275.000000    250.000000    220.000000    230.000000    220.000000   \n",
       "50%      820.000000    800.000000    790.000000    815.000000    840.000000   \n",
       "75%     1200.000000   1200.000000   1200.000000   1200.000000   1205.000000   \n",
       "max    33890.000000  94044.000000  32005.000000  33403.000000  64106.000000   \n",
       "\n",
       "                 m6  \n",
       "count  28007.000000  \n",
       "mean     692.115150  \n",
       "std     1416.301221  \n",
       "min        1.000000  \n",
       "25%      130.000000  \n",
       "50%      480.000000  \n",
       "75%      915.000000  \n",
       "max    96814.000000  "
      ]
     },
     "execution_count": 6,
     "metadata": {},
     "output_type": "execute_result"
    }
   ],
   "source": [
    "train.describe()"
   ]
  },
  {
   "cell_type": "code",
   "execution_count": 7,
   "id": "d9dc1d59",
   "metadata": {},
   "outputs": [],
   "source": [
    "train['FirstTransactionDate'] = np.nan"
   ]
  },
  {
   "cell_type": "code",
   "execution_count": 8,
   "id": "c45067a3",
   "metadata": {},
   "outputs": [],
   "source": [
    "train['LastTransactionDate'] = np.nan"
   ]
  },
  {
   "cell_type": "code",
   "execution_count": 9,
   "id": "1695e43e",
   "metadata": {},
   "outputs": [],
   "source": [
    "train[\"TotalPastPayments\"] = np.nan"
   ]
  },
  {
   "cell_type": "code",
   "execution_count": 10,
   "id": "32ba971b",
   "metadata": {},
   "outputs": [],
   "source": [
    "train[\"NumPayments\"] = np.nan"
   ]
  },
  {
   "cell_type": "code",
   "execution_count": 11,
   "id": "99f5cef9",
   "metadata": {},
   "outputs": [
    {
     "name": "stderr",
     "output_type": "stream",
     "text": [
      "/Users/matthewohanian/opt/anaconda3/lib/python3.9/site-packages/pandas/core/indexing.py:1732: SettingWithCopyWarning: \n",
      "A value is trying to be set on a copy of a slice from a DataFrame\n",
      "\n",
      "See the caveats in the documentation: https://pandas.pydata.org/pandas-docs/stable/user_guide/indexing.html#returning-a-view-versus-a-copy\n",
      "  self._setitem_single_block(indexer, value, name)\n"
     ]
    },
    {
     "data": {
      "text/html": [
       "<div>\n",
       "<style scoped>\n",
       "    .dataframe tbody tr th:only-of-type {\n",
       "        vertical-align: middle;\n",
       "    }\n",
       "\n",
       "    .dataframe tbody tr th {\n",
       "        vertical-align: top;\n",
       "    }\n",
       "\n",
       "    .dataframe thead th {\n",
       "        text-align: right;\n",
       "    }\n",
       "</style>\n",
       "<table border=\"1\" class=\"dataframe\">\n",
       "  <thead>\n",
       "    <tr style=\"text-align: right;\">\n",
       "      <th></th>\n",
       "      <th>ID</th>\n",
       "      <th>TransactionDates</th>\n",
       "      <th>PaymentsHistory</th>\n",
       "      <th>m1</th>\n",
       "      <th>m2</th>\n",
       "      <th>m3</th>\n",
       "      <th>m4</th>\n",
       "      <th>m5</th>\n",
       "      <th>m6</th>\n",
       "      <th>FirstTransactionDate</th>\n",
       "      <th>LastTransactionDate</th>\n",
       "      <th>TotalPastPayments</th>\n",
       "      <th>NumPayments</th>\n",
       "    </tr>\n",
       "  </thead>\n",
       "  <tbody>\n",
       "    <tr>\n",
       "      <th>0</th>\n",
       "      <td>ID_MR53LEX</td>\n",
       "      <td>[2018-04-01, 2018-05-01, 2018-06-01, 2018-07-0...</td>\n",
       "      <td>[3600.0, 750.0, 350.0, 65.0, 95.0, 135.0, 85.0...</td>\n",
       "      <td>880.0</td>\n",
       "      <td>930.0</td>\n",
       "      <td>495.0</td>\n",
       "      <td>715.0</td>\n",
       "      <td>220.0</td>\n",
       "      <td>385.0</td>\n",
       "      <td>2018-04-01</td>\n",
       "      <td>2020-11-01</td>\n",
       "      <td>16035.0</td>\n",
       "      <td>31.0</td>\n",
       "    </tr>\n",
       "    <tr>\n",
       "      <th>1</th>\n",
       "      <td>ID_3D7NQUH</td>\n",
       "      <td>[2018-04-01, 2018-05-01, 2018-06-01, 2018-07-0...</td>\n",
       "      <td>[2940.0, 970.0, 380.0, 880.0, 385.0, 440.0, 11...</td>\n",
       "      <td>660.0</td>\n",
       "      <td>935.0</td>\n",
       "      <td>935.0</td>\n",
       "      <td>825.0</td>\n",
       "      <td>770.0</td>\n",
       "      <td>935.0</td>\n",
       "      <td>2018-04-01</td>\n",
       "      <td>2020-11-01</td>\n",
       "      <td>22136.0</td>\n",
       "      <td>30.0</td>\n",
       "    </tr>\n",
       "    <tr>\n",
       "      <th>2</th>\n",
       "      <td>ID_0IWQNPI</td>\n",
       "      <td>[2020-02-01, 2020-03-01, 2020-04-01, 2020-05-0...</td>\n",
       "      <td>[2850.0, 1500.0, 1350.0, 610.0, 200.0, 250.0]</td>\n",
       "      <td>700.0</td>\n",
       "      <td>1350.0</td>\n",
       "      <td>1550.0</td>\n",
       "      <td>1400.0</td>\n",
       "      <td>1450.0</td>\n",
       "      <td>1200.0</td>\n",
       "      <td>2020-02-01</td>\n",
       "      <td>2020-07-01</td>\n",
       "      <td>6760.0</td>\n",
       "      <td>6.0</td>\n",
       "    </tr>\n",
       "    <tr>\n",
       "      <th>3</th>\n",
       "      <td>ID_IY8SYB9</td>\n",
       "      <td>[2017-09-01, 2017-10-01, 2017-11-01, 2017-12-0...</td>\n",
       "      <td>[2200.0, 1420.0, 1180.0, 900.0, 1400.0, 780.0,...</td>\n",
       "      <td>580.0</td>\n",
       "      <td>480.0</td>\n",
       "      <td>800.0</td>\n",
       "      <td>1260.0</td>\n",
       "      <td>1650.0</td>\n",
       "      <td>530.0</td>\n",
       "      <td>2017-09-01</td>\n",
       "      <td>2018-06-01</td>\n",
       "      <td>11260.0</td>\n",
       "      <td>10.0</td>\n",
       "    </tr>\n",
       "    <tr>\n",
       "      <th>4</th>\n",
       "      <td>ID_9XHL7VZ</td>\n",
       "      <td>[2017-09-01, 2017-10-01, 2017-11-01, 2017-12-0...</td>\n",
       "      <td>[2640.0, 910.0, 480.0, 280.0, 200.0, 180.0, 33...</td>\n",
       "      <td>40.0</td>\n",
       "      <td>440.0</td>\n",
       "      <td>460.0</td>\n",
       "      <td>360.0</td>\n",
       "      <td>80.0</td>\n",
       "      <td>330.0</td>\n",
       "      <td>2017-09-01</td>\n",
       "      <td>2019-11-01</td>\n",
       "      <td>7779.0</td>\n",
       "      <td>22.0</td>\n",
       "    </tr>\n",
       "  </tbody>\n",
       "</table>\n",
       "</div>"
      ],
      "text/plain": [
       "           ID                                   TransactionDates  \\\n",
       "0  ID_MR53LEX  [2018-04-01, 2018-05-01, 2018-06-01, 2018-07-0...   \n",
       "1  ID_3D7NQUH  [2018-04-01, 2018-05-01, 2018-06-01, 2018-07-0...   \n",
       "2  ID_0IWQNPI  [2020-02-01, 2020-03-01, 2020-04-01, 2020-05-0...   \n",
       "3  ID_IY8SYB9  [2017-09-01, 2017-10-01, 2017-11-01, 2017-12-0...   \n",
       "4  ID_9XHL7VZ  [2017-09-01, 2017-10-01, 2017-11-01, 2017-12-0...   \n",
       "\n",
       "                                     PaymentsHistory     m1      m2      m3  \\\n",
       "0  [3600.0, 750.0, 350.0, 65.0, 95.0, 135.0, 85.0...  880.0   930.0   495.0   \n",
       "1  [2940.0, 970.0, 380.0, 880.0, 385.0, 440.0, 11...  660.0   935.0   935.0   \n",
       "2      [2850.0, 1500.0, 1350.0, 610.0, 200.0, 250.0]  700.0  1350.0  1550.0   \n",
       "3  [2200.0, 1420.0, 1180.0, 900.0, 1400.0, 780.0,...  580.0   480.0   800.0   \n",
       "4  [2640.0, 910.0, 480.0, 280.0, 200.0, 180.0, 33...   40.0   440.0   460.0   \n",
       "\n",
       "       m4      m5      m6 FirstTransactionDate LastTransactionDate  \\\n",
       "0   715.0   220.0   385.0           2018-04-01          2020-11-01   \n",
       "1   825.0   770.0   935.0           2018-04-01          2020-11-01   \n",
       "2  1400.0  1450.0  1200.0           2020-02-01          2020-07-01   \n",
       "3  1260.0  1650.0   530.0           2017-09-01          2018-06-01   \n",
       "4   360.0    80.0   330.0           2017-09-01          2019-11-01   \n",
       "\n",
       "   TotalPastPayments  NumPayments  \n",
       "0            16035.0         31.0  \n",
       "1            22136.0         30.0  \n",
       "2             6760.0          6.0  \n",
       "3            11260.0         10.0  \n",
       "4             7779.0         22.0  "
      ]
     },
     "execution_count": 11,
     "metadata": {},
     "output_type": "execute_result"
    }
   ],
   "source": [
    "sum_payments = 0.0\n",
    "\n",
    "for i,data in train.iterrows():\n",
    "    transaction_dates = []\n",
    "    payments = []\n",
    "    dates = data.iloc[1][1:-1].split(\", \")\n",
    "    paymentshistory = data.iloc[2][1:-1].split(\", \")\n",
    "    for date in dates:\n",
    "        transaction_dates.append(pd.to_datetime(date[1:-1]).date())\n",
    "    train.TransactionDates.iloc[i] = np.array(transaction_dates)\n",
    "    train.LastTransactionDate.iloc[i] = transaction_dates[-1]\n",
    "    train.FirstTransactionDate.iloc[i] = transaction_dates[0]\n",
    "    \n",
    "    for payment in paymentshistory:\n",
    "        payments.append(float(payment))\n",
    "    train.PaymentsHistory.iloc[i] = np.array(payments)\n",
    "    train.NumPayments.iloc[i] = len(payments)\n",
    "    \n",
    "    \n",
    "    train.TotalPastPayments.iloc[i] = sum(payments)\n",
    "train.head()"
   ]
  },
  {
   "cell_type": "code",
   "execution_count": null,
   "id": "8fa98c16",
   "metadata": {},
   "outputs": [],
   "source": []
  },
  {
   "cell_type": "code",
   "execution_count": 12,
   "id": "48a8327a",
   "metadata": {},
   "outputs": [],
   "source": [
    "date_list = []\n",
    "for i,data in train.iterrows():\n",
    "    dates = data[1]\n",
    "    for date in dates:\n",
    "        if not date in date_list:\n",
    "            date_list.append(date)\n",
    "date_list.sort()\n",
    "\n",
    "            "
   ]
  },
  {
   "cell_type": "code",
   "execution_count": 13,
   "id": "d77f68a7",
   "metadata": {},
   "outputs": [
    {
     "data": {
      "text/html": [
       "<div>\n",
       "<style scoped>\n",
       "    .dataframe tbody tr th:only-of-type {\n",
       "        vertical-align: middle;\n",
       "    }\n",
       "\n",
       "    .dataframe tbody tr th {\n",
       "        vertical-align: top;\n",
       "    }\n",
       "\n",
       "    .dataframe thead th {\n",
       "        text-align: right;\n",
       "    }\n",
       "</style>\n",
       "<table border=\"1\" class=\"dataframe\">\n",
       "  <thead>\n",
       "    <tr style=\"text-align: right;\">\n",
       "      <th></th>\n",
       "      <th>ID</th>\n",
       "      <th>TransactionDates</th>\n",
       "      <th>PaymentsHistory</th>\n",
       "      <th>m1</th>\n",
       "      <th>m2</th>\n",
       "      <th>m3</th>\n",
       "      <th>m4</th>\n",
       "      <th>m5</th>\n",
       "      <th>m6</th>\n",
       "      <th>FirstTransactionDate</th>\n",
       "      <th>...</th>\n",
       "      <th>2020-02-01</th>\n",
       "      <th>2020-03-01</th>\n",
       "      <th>2020-04-01</th>\n",
       "      <th>2020-05-01</th>\n",
       "      <th>2020-06-01</th>\n",
       "      <th>2020-07-01</th>\n",
       "      <th>2020-08-01</th>\n",
       "      <th>2020-09-01</th>\n",
       "      <th>2020-10-01</th>\n",
       "      <th>2020-11-01</th>\n",
       "    </tr>\n",
       "  </thead>\n",
       "  <tbody>\n",
       "    <tr>\n",
       "      <th>0</th>\n",
       "      <td>ID_MR53LEX</td>\n",
       "      <td>[2018-04-01, 2018-05-01, 2018-06-01, 2018-07-0...</td>\n",
       "      <td>[3600.0, 750.0, 350.0, 65.0, 95.0, 135.0, 85.0...</td>\n",
       "      <td>880.0</td>\n",
       "      <td>930.0</td>\n",
       "      <td>495.0</td>\n",
       "      <td>715.0</td>\n",
       "      <td>220.0</td>\n",
       "      <td>385.0</td>\n",
       "      <td>2018-04-01</td>\n",
       "      <td>...</td>\n",
       "      <td>NaN</td>\n",
       "      <td>NaN</td>\n",
       "      <td>NaN</td>\n",
       "      <td>NaN</td>\n",
       "      <td>NaN</td>\n",
       "      <td>NaN</td>\n",
       "      <td>NaN</td>\n",
       "      <td>NaN</td>\n",
       "      <td>NaN</td>\n",
       "      <td>NaN</td>\n",
       "    </tr>\n",
       "    <tr>\n",
       "      <th>1</th>\n",
       "      <td>ID_3D7NQUH</td>\n",
       "      <td>[2018-04-01, 2018-05-01, 2018-06-01, 2018-07-0...</td>\n",
       "      <td>[2940.0, 970.0, 380.0, 880.0, 385.0, 440.0, 11...</td>\n",
       "      <td>660.0</td>\n",
       "      <td>935.0</td>\n",
       "      <td>935.0</td>\n",
       "      <td>825.0</td>\n",
       "      <td>770.0</td>\n",
       "      <td>935.0</td>\n",
       "      <td>2018-04-01</td>\n",
       "      <td>...</td>\n",
       "      <td>NaN</td>\n",
       "      <td>NaN</td>\n",
       "      <td>NaN</td>\n",
       "      <td>NaN</td>\n",
       "      <td>NaN</td>\n",
       "      <td>NaN</td>\n",
       "      <td>NaN</td>\n",
       "      <td>NaN</td>\n",
       "      <td>NaN</td>\n",
       "      <td>NaN</td>\n",
       "    </tr>\n",
       "    <tr>\n",
       "      <th>2</th>\n",
       "      <td>ID_0IWQNPI</td>\n",
       "      <td>[2020-02-01, 2020-03-01, 2020-04-01, 2020-05-0...</td>\n",
       "      <td>[2850.0, 1500.0, 1350.0, 610.0, 200.0, 250.0]</td>\n",
       "      <td>700.0</td>\n",
       "      <td>1350.0</td>\n",
       "      <td>1550.0</td>\n",
       "      <td>1400.0</td>\n",
       "      <td>1450.0</td>\n",
       "      <td>1200.0</td>\n",
       "      <td>2020-02-01</td>\n",
       "      <td>...</td>\n",
       "      <td>NaN</td>\n",
       "      <td>NaN</td>\n",
       "      <td>NaN</td>\n",
       "      <td>NaN</td>\n",
       "      <td>NaN</td>\n",
       "      <td>NaN</td>\n",
       "      <td>NaN</td>\n",
       "      <td>NaN</td>\n",
       "      <td>NaN</td>\n",
       "      <td>NaN</td>\n",
       "    </tr>\n",
       "    <tr>\n",
       "      <th>3</th>\n",
       "      <td>ID_IY8SYB9</td>\n",
       "      <td>[2017-09-01, 2017-10-01, 2017-11-01, 2017-12-0...</td>\n",
       "      <td>[2200.0, 1420.0, 1180.0, 900.0, 1400.0, 780.0,...</td>\n",
       "      <td>580.0</td>\n",
       "      <td>480.0</td>\n",
       "      <td>800.0</td>\n",
       "      <td>1260.0</td>\n",
       "      <td>1650.0</td>\n",
       "      <td>530.0</td>\n",
       "      <td>2017-09-01</td>\n",
       "      <td>...</td>\n",
       "      <td>NaN</td>\n",
       "      <td>NaN</td>\n",
       "      <td>NaN</td>\n",
       "      <td>NaN</td>\n",
       "      <td>NaN</td>\n",
       "      <td>NaN</td>\n",
       "      <td>NaN</td>\n",
       "      <td>NaN</td>\n",
       "      <td>NaN</td>\n",
       "      <td>NaN</td>\n",
       "    </tr>\n",
       "    <tr>\n",
       "      <th>4</th>\n",
       "      <td>ID_9XHL7VZ</td>\n",
       "      <td>[2017-09-01, 2017-10-01, 2017-11-01, 2017-12-0...</td>\n",
       "      <td>[2640.0, 910.0, 480.0, 280.0, 200.0, 180.0, 33...</td>\n",
       "      <td>40.0</td>\n",
       "      <td>440.0</td>\n",
       "      <td>460.0</td>\n",
       "      <td>360.0</td>\n",
       "      <td>80.0</td>\n",
       "      <td>330.0</td>\n",
       "      <td>2017-09-01</td>\n",
       "      <td>...</td>\n",
       "      <td>NaN</td>\n",
       "      <td>NaN</td>\n",
       "      <td>NaN</td>\n",
       "      <td>NaN</td>\n",
       "      <td>NaN</td>\n",
       "      <td>NaN</td>\n",
       "      <td>NaN</td>\n",
       "      <td>NaN</td>\n",
       "      <td>NaN</td>\n",
       "      <td>NaN</td>\n",
       "    </tr>\n",
       "  </tbody>\n",
       "</table>\n",
       "<p>5 rows × 74 columns</p>\n",
       "</div>"
      ],
      "text/plain": [
       "           ID                                   TransactionDates  \\\n",
       "0  ID_MR53LEX  [2018-04-01, 2018-05-01, 2018-06-01, 2018-07-0...   \n",
       "1  ID_3D7NQUH  [2018-04-01, 2018-05-01, 2018-06-01, 2018-07-0...   \n",
       "2  ID_0IWQNPI  [2020-02-01, 2020-03-01, 2020-04-01, 2020-05-0...   \n",
       "3  ID_IY8SYB9  [2017-09-01, 2017-10-01, 2017-11-01, 2017-12-0...   \n",
       "4  ID_9XHL7VZ  [2017-09-01, 2017-10-01, 2017-11-01, 2017-12-0...   \n",
       "\n",
       "                                     PaymentsHistory     m1      m2      m3  \\\n",
       "0  [3600.0, 750.0, 350.0, 65.0, 95.0, 135.0, 85.0...  880.0   930.0   495.0   \n",
       "1  [2940.0, 970.0, 380.0, 880.0, 385.0, 440.0, 11...  660.0   935.0   935.0   \n",
       "2      [2850.0, 1500.0, 1350.0, 610.0, 200.0, 250.0]  700.0  1350.0  1550.0   \n",
       "3  [2200.0, 1420.0, 1180.0, 900.0, 1400.0, 780.0,...  580.0   480.0   800.0   \n",
       "4  [2640.0, 910.0, 480.0, 280.0, 200.0, 180.0, 33...   40.0   440.0   460.0   \n",
       "\n",
       "       m4      m5      m6 FirstTransactionDate  ... 2020-02-01  2020-03-01  \\\n",
       "0   715.0   220.0   385.0           2018-04-01  ...        NaN         NaN   \n",
       "1   825.0   770.0   935.0           2018-04-01  ...        NaN         NaN   \n",
       "2  1400.0  1450.0  1200.0           2020-02-01  ...        NaN         NaN   \n",
       "3  1260.0  1650.0   530.0           2017-09-01  ...        NaN         NaN   \n",
       "4   360.0    80.0   330.0           2017-09-01  ...        NaN         NaN   \n",
       "\n",
       "   2020-04-01  2020-05-01  2020-06-01  2020-07-01  2020-08-01  2020-09-01  \\\n",
       "0         NaN         NaN         NaN         NaN         NaN         NaN   \n",
       "1         NaN         NaN         NaN         NaN         NaN         NaN   \n",
       "2         NaN         NaN         NaN         NaN         NaN         NaN   \n",
       "3         NaN         NaN         NaN         NaN         NaN         NaN   \n",
       "4         NaN         NaN         NaN         NaN         NaN         NaN   \n",
       "\n",
       "   2020-10-01  2020-11-01  \n",
       "0         NaN         NaN  \n",
       "1         NaN         NaN  \n",
       "2         NaN         NaN  \n",
       "3         NaN         NaN  \n",
       "4         NaN         NaN  \n",
       "\n",
       "[5 rows x 74 columns]"
      ]
     },
     "execution_count": 13,
     "metadata": {},
     "output_type": "execute_result"
    }
   ],
   "source": [
    "for col in date_list:\n",
    "    train[col] = np.nan\n",
    "train.head()"
   ]
  },
  {
   "cell_type": "code",
   "execution_count": null,
   "id": "44bdd184",
   "metadata": {},
   "outputs": [
    {
     "name": "stderr",
     "output_type": "stream",
     "text": [
      "/var/folders/bf/1rqft59539x2lszpd3glzgq40000gn/T/ipykernel_11675/3220214417.py:3: SettingWithCopyWarning: \n",
      "A value is trying to be set on a copy of a slice from a DataFrame\n",
      "\n",
      "See the caveats in the documentation: https://pandas.pydata.org/pandas-docs/stable/user_guide/indexing.html#returning-a-view-versus-a-copy\n",
      "  train[data[1][j]][i] = data[2][j]\n"
     ]
    }
   ],
   "source": [
    "for i, data in train.iterrows():\n",
    "    for j in range(len(data[2])):\n",
    "        train[data[1][j]][i] = data[2][j]"
   ]
  },
  {
   "cell_type": "code",
   "execution_count": null,
   "id": "37394db6",
   "metadata": {},
   "outputs": [],
   "source": [
    "for i, data in train.iterrows():\n",
    "    first = data[9]\n",
    "    last = data[10]\n",
    "    while first != last:\n",
    "        first += relativedelta(months=+1)\n",
    "        if train.loc[i,first]== float(\"nan\"):\n",
    "            train.loc[i,first] = 0.0\n",
    "            \n",
    "            \n",
    "            \n",
    "        "
   ]
  },
  {
   "cell_type": "code",
   "execution_count": null,
   "id": "39df4f07",
   "metadata": {},
   "outputs": [],
   "source": [
    "train.drop(columns=[\"TransactionDates\", \"PaymentsHistory\"], inplace = True)\n",
    "train.head()"
   ]
  },
  {
   "cell_type": "code",
   "execution_count": null,
   "id": "e9736402",
   "metadata": {},
   "outputs": [],
   "source": [
    "train.columns = train.columns.astype(str)"
   ]
  },
  {
   "cell_type": "code",
   "execution_count": null,
   "id": "9e8ec971",
   "metadata": {},
   "outputs": [],
   "source": [
    "train.fillna(0, inplace=True)"
   ]
  },
  {
   "cell_type": "code",
   "execution_count": null,
   "id": "47ec5caa",
   "metadata": {},
   "outputs": [],
   "source": [
    "train.head()"
   ]
  },
  {
   "cell_type": "code",
   "execution_count": null,
   "id": "f6a51f63",
   "metadata": {},
   "outputs": [],
   "source": [
    "sns.relplot(x=\"2018-04-01\",y=\"m1\",data=train,kind=\"scatter\")"
   ]
  },
  {
   "cell_type": "code",
   "execution_count": null,
   "id": "b81e9a50",
   "metadata": {},
   "outputs": [],
   "source": [
    "train.describe()"
   ]
  },
  {
   "cell_type": "code",
   "execution_count": null,
   "id": "fe246d4b",
   "metadata": {},
   "outputs": [],
   "source": [
    "def print_boxplot(attr):\n",
    "    sns.boxplot(x=train[attr])\n",
    "    \n"
   ]
  },
  {
   "cell_type": "code",
   "execution_count": null,
   "id": "f27e3505",
   "metadata": {},
   "outputs": [],
   "source": [
    "print_boxplot(\"m1\")"
   ]
  },
  {
   "cell_type": "code",
   "execution_count": null,
   "id": "9272273e",
   "metadata": {},
   "outputs": [],
   "source": [
    "train = train.loc[train.m1<=10000,:]"
   ]
  },
  {
   "cell_type": "code",
   "execution_count": null,
   "id": "27f07571",
   "metadata": {},
   "outputs": [],
   "source": [
    "print_boxplot(\"m2\")"
   ]
  },
  {
   "cell_type": "code",
   "execution_count": null,
   "id": "db083181",
   "metadata": {},
   "outputs": [],
   "source": [
    "train = train.loc[train.m2<=6000,:]"
   ]
  },
  {
   "cell_type": "code",
   "execution_count": null,
   "id": "8211d966",
   "metadata": {},
   "outputs": [],
   "source": [
    "print_boxplot(\"m3\")"
   ]
  },
  {
   "cell_type": "code",
   "execution_count": null,
   "id": "a3bb1e51",
   "metadata": {},
   "outputs": [],
   "source": [
    "train = train.loc[train.m3<=15000,:]"
   ]
  },
  {
   "cell_type": "code",
   "execution_count": null,
   "id": "b6b7875f",
   "metadata": {},
   "outputs": [],
   "source": [
    "print_boxplot(\"m4\")"
   ]
  },
  {
   "cell_type": "code",
   "execution_count": null,
   "id": "75c776c0",
   "metadata": {},
   "outputs": [],
   "source": [
    "train = train.loc[train.m4<=10000,:]"
   ]
  },
  {
   "cell_type": "code",
   "execution_count": null,
   "id": "46e2f66d",
   "metadata": {},
   "outputs": [],
   "source": [
    "print_boxplot(\"m5\")"
   ]
  },
  {
   "cell_type": "code",
   "execution_count": null,
   "id": "cc9fa1f3",
   "metadata": {},
   "outputs": [],
   "source": [
    "train = train.loc[train.m5<=10000,:]"
   ]
  },
  {
   "cell_type": "code",
   "execution_count": null,
   "id": "25fcb8a4",
   "metadata": {},
   "outputs": [],
   "source": [
    "print_boxplot(\"m6\")"
   ]
  },
  {
   "cell_type": "code",
   "execution_count": null,
   "id": "2197abd8",
   "metadata": {},
   "outputs": [],
   "source": [
    "train = train.loc[train.m6<=40000,:]"
   ]
  },
  {
   "cell_type": "code",
   "execution_count": null,
   "id": "9c445a27",
   "metadata": {},
   "outputs": [],
   "source": [
    "test = pd.read_csv(\"Test.csv\")"
   ]
  },
  {
   "cell_type": "code",
   "execution_count": null,
   "id": "8df1b5f8",
   "metadata": {},
   "outputs": [],
   "source": [
    "test.head()"
   ]
  },
  {
   "cell_type": "code",
   "execution_count": null,
   "id": "8386feb3",
   "metadata": {},
   "outputs": [],
   "source": [
    "test.dtypes"
   ]
  },
  {
   "cell_type": "code",
   "execution_count": null,
   "id": "776ffd6c",
   "metadata": {},
   "outputs": [],
   "source": [
    "test.shape"
   ]
  },
  {
   "cell_type": "code",
   "execution_count": null,
   "id": "c534c475",
   "metadata": {},
   "outputs": [],
   "source": [
    "test.nunique()"
   ]
  },
  {
   "cell_type": "code",
   "execution_count": null,
   "id": "510c1570",
   "metadata": {},
   "outputs": [],
   "source": [
    "test.isnull().sum()"
   ]
  },
  {
   "cell_type": "code",
   "execution_count": null,
   "id": "54b8e5d4",
   "metadata": {},
   "outputs": [],
   "source": [
    "test['FirstTransactionDate'] = np.nan"
   ]
  },
  {
   "cell_type": "code",
   "execution_count": null,
   "id": "b3c0ad6b",
   "metadata": {},
   "outputs": [],
   "source": [
    "test['LastTransactionDate'] = np.nan"
   ]
  },
  {
   "cell_type": "code",
   "execution_count": null,
   "id": "e385257d",
   "metadata": {},
   "outputs": [],
   "source": [
    "test[\"TotalPastPayments\"] = np.nan"
   ]
  },
  {
   "cell_type": "code",
   "execution_count": null,
   "id": "1fa751e5",
   "metadata": {},
   "outputs": [],
   "source": [
    "test[\"NumPayments\"] = np.nan"
   ]
  },
  {
   "cell_type": "code",
   "execution_count": null,
   "id": "d96e0fe5",
   "metadata": {},
   "outputs": [],
   "source": [
    "sum_payments = 0.0\n",
    "\n",
    "for i,data in test.iterrows():\n",
    "    transaction_dates = []\n",
    "    payments = []\n",
    "    dates = data.iloc[1][1:-1].split(\", \")\n",
    "    paymentshistory = data.iloc[2][1:-1].split(\", \")\n",
    "    for date in dates:\n",
    "        transaction_dates.append(pd.to_datetime(date[1:-1]).date())\n",
    "    test.TransactionDates.iloc[i] = np.array(transaction_dates)\n",
    "    test.LastTransactionDate.iloc[i] = transaction_dates[-1]\n",
    "    test.FirstTransactionDate.iloc[i] = transaction_dates[0]\n",
    "    \n",
    "    for payment in paymentshistory:\n",
    "        payments.append(float(payment))\n",
    "    test.PaymentsHistory.iloc[i] = np.array(payments)\n",
    "    test.NumPayments.iloc[i] = len(payments)\n",
    "   \n",
    "    \n",
    "    \n",
    "    test.TotalPastPayments.iloc[i] = sum(payments)\n"
   ]
  },
  {
   "cell_type": "code",
   "execution_count": null,
   "id": "bd8cef3d",
   "metadata": {},
   "outputs": [],
   "source": [
    "date_list_test = []\n",
    "for i,data in test.iterrows():\n",
    "    dates = data[1]\n",
    "    for date in dates:\n",
    "        if not date in date_list_test:\n",
    "            date_list_test.append(date)\n",
    "date_list_test.sort()\n"
   ]
  },
  {
   "cell_type": "code",
   "execution_count": null,
   "id": "7b3c9ea8",
   "metadata": {},
   "outputs": [],
   "source": [
    "for col in date_list_test:\n",
    "    test[col] = np.nan\n"
   ]
  },
  {
   "cell_type": "code",
   "execution_count": null,
   "id": "506292a3",
   "metadata": {},
   "outputs": [],
   "source": [
    "for i, data in test.iterrows():\n",
    "    for j in range(len(data[2])):\n",
    "        test[data[1][j]][i] = data[2][j]"
   ]
  },
  {
   "cell_type": "code",
   "execution_count": null,
   "id": "b661733d",
   "metadata": {},
   "outputs": [],
   "source": [
    "test.drop(columns=[\"TransactionDates\", \"PaymentsHistory\"], inplace = True)\n"
   ]
  },
  {
   "cell_type": "code",
   "execution_count": null,
   "id": "2bf07ea9",
   "metadata": {},
   "outputs": [],
   "source": [
    "test.columns = test.columns.astype(str)"
   ]
  },
  {
   "cell_type": "code",
   "execution_count": null,
   "id": "0015d22b",
   "metadata": {},
   "outputs": [],
   "source": [
    "test.fillna(0, inplace=True)"
   ]
  },
  {
   "cell_type": "code",
   "execution_count": null,
   "id": "03d590b6",
   "metadata": {},
   "outputs": [],
   "source": [
    "test.head()"
   ]
  },
  {
   "cell_type": "code",
   "execution_count": null,
   "id": "929cdca1",
   "metadata": {},
   "outputs": [],
   "source": [
    "metadata = pd.read_csv(\"metadata.csv\")"
   ]
  },
  {
   "cell_type": "code",
   "execution_count": null,
   "id": "2f5df0a1",
   "metadata": {},
   "outputs": [],
   "source": [
    "metadata.head()"
   ]
  },
  {
   "cell_type": "code",
   "execution_count": null,
   "id": "4c10494a",
   "metadata": {
    "scrolled": true
   },
   "outputs": [],
   "source": [
    "metadata.dtypes"
   ]
  },
  {
   "cell_type": "code",
   "execution_count": null,
   "id": "35d57061",
   "metadata": {},
   "outputs": [],
   "source": [
    "metadata.shape"
   ]
  },
  {
   "cell_type": "code",
   "execution_count": null,
   "id": "e1ffa1e8",
   "metadata": {},
   "outputs": [],
   "source": [
    "metadata.columns"
   ]
  },
  {
   "cell_type": "code",
   "execution_count": null,
   "id": "ebd55f4b",
   "metadata": {},
   "outputs": [],
   "source": [
    "metadata.duplicated()"
   ]
  },
  {
   "cell_type": "code",
   "execution_count": null,
   "id": "28474d7a",
   "metadata": {},
   "outputs": [],
   "source": [
    "metadata.RegistrationDate = pd.to_datetime(metadata.RegistrationDate, format=\"%Y/%m/%d %H:%M:%S\")\n",
    "metadata.RegistrationDate"
   ]
  },
  {
   "cell_type": "code",
   "execution_count": null,
   "id": "6f513023",
   "metadata": {},
   "outputs": [],
   "source": [
    "metadata.ExpectedTermDate = pd.to_datetime(metadata.ExpectedTermDate, format=\"%Y/%m/%d %H:%M:%S\")\n",
    "metadata.FirstPaymentDate = pd.to_datetime(metadata.FirstPaymentDate, format=\"%Y/%m/%d %H:%M:%S\")\n",
    "metadata.LastPaymentDate = pd.to_datetime(metadata.LastPaymentDate, format=\"%Y/%m/%d %H:%M:%S\")\n",
    "metadata.UpsellDate = pd.to_datetime(metadata.UpsellDate, format=\"%Y/%m/%d %H:%M:%S\")"
   ]
  },
  {
   "cell_type": "code",
   "execution_count": null,
   "id": "60152fbf",
   "metadata": {},
   "outputs": [],
   "source": [
    "metadata.dtypes"
   ]
  },
  {
   "cell_type": "code",
   "execution_count": null,
   "id": "80afa7e2",
   "metadata": {},
   "outputs": [],
   "source": [
    "metadata.isnull().sum()"
   ]
  },
  {
   "cell_type": "code",
   "execution_count": null,
   "id": "40800a22",
   "metadata": {},
   "outputs": [],
   "source": [
    "metadata.isnull().sum()/metadata.shape[0]*100"
   ]
  },
  {
   "cell_type": "code",
   "execution_count": null,
   "id": "a01da4cf",
   "metadata": {},
   "outputs": [],
   "source": [
    "msno.matrix(metadata)"
   ]
  },
  {
   "cell_type": "markdown",
   "id": "c2937756",
   "metadata": {},
   "source": [
    "Dropping UpsellDate because of too many missing values"
   ]
  },
  {
   "cell_type": "code",
   "execution_count": null,
   "id": "209aa87a",
   "metadata": {},
   "outputs": [],
   "source": [
    "metadata.drop(columns = \"UpsellDate\", inplace = True)"
   ]
  },
  {
   "cell_type": "code",
   "execution_count": null,
   "id": "0b25016f",
   "metadata": {},
   "outputs": [],
   "source": [
    "metadata.Region.unique()"
   ]
  },
  {
   "cell_type": "code",
   "execution_count": null,
   "id": "ba20a7a4",
   "metadata": {},
   "outputs": [],
   "source": [
    "metadata.describe()"
   ]
  },
  {
   "cell_type": "code",
   "execution_count": null,
   "id": "59fd160e",
   "metadata": {},
   "outputs": [],
   "source": [
    "impute = metadata[['Deposit', 'AccessoryRate', 'RatePerUnit', 'DaysOnDeposit', \n",
    "                   'Term', 'TotalContractValue', 'Age']]\n",
    "impute = impute.to_numpy()\n",
    "impute = IterativeImputer().fit_transform(impute)\n",
    "metadata.Age = impute[:,-1]\n",
    "msno.matrix(metadata)"
   ]
  },
  {
   "cell_type": "code",
   "execution_count": null,
   "id": "666e3709",
   "metadata": {},
   "outputs": [],
   "source": [
    "sns.boxplot(x=metadata.Age)"
   ]
  },
  {
   "cell_type": "code",
   "execution_count": null,
   "id": "86e8557b",
   "metadata": {},
   "outputs": [],
   "source": [
    "metadata.loc[(metadata.Age>100)]"
   ]
  },
  {
   "cell_type": "code",
   "execution_count": null,
   "id": "6e782b2a",
   "metadata": {},
   "outputs": [],
   "source": [
    "#metadata = metadata.loc[metadata.Age<=100]"
   ]
  },
  {
   "cell_type": "code",
   "execution_count": null,
   "id": "87416f88",
   "metadata": {},
   "outputs": [],
   "source": [
    "metadata.Region.fillna(value=metadata.Region.mode()[0], inplace=True)\n",
    "msno.matrix(metadata)"
   ]
  },
  {
   "cell_type": "code",
   "execution_count": null,
   "id": "f55f31c4",
   "metadata": {},
   "outputs": [],
   "source": [
    "metadata.head(10)"
   ]
  },
  {
   "cell_type": "code",
   "execution_count": null,
   "id": "bfab1e55",
   "metadata": {},
   "outputs": [],
   "source": [
    "metadata.dtypes"
   ]
  },
  {
   "cell_type": "code",
   "execution_count": null,
   "id": "ef4ccc4a",
   "metadata": {},
   "outputs": [],
   "source": [
    "metadata.loc[(metadata.FirstPaymentDate.dt.date-metadata.RegistrationDate.dt.date) > pd.to_timedelta(metadata.DaysOnDeposit, unit=\"d\")]"
   ]
  },
  {
   "cell_type": "code",
   "execution_count": null,
   "id": "0bf78647",
   "metadata": {},
   "outputs": [],
   "source": [
    "metadata.loc[metadata.LastPaymentDate.dt.date > metadata.ExpectedTermDate.dt.date ]"
   ]
  },
  {
   "cell_type": "code",
   "execution_count": null,
   "id": "503a5d72",
   "metadata": {},
   "outputs": [],
   "source": [
    "metadata[\"DaysLate\"] = (metadata.LastPaymentDate.dt.date - metadata.ExpectedTermDate.dt.date).astype('timedelta64[D]')\n",
    "metadata.loc[metadata.DaysLate<=0,\"DaysLate\"]=0.0"
   ]
  },
  {
   "cell_type": "code",
   "execution_count": null,
   "id": "6f642eb0",
   "metadata": {},
   "outputs": [],
   "source": [
    "metadata[\"ExpectedTerm\"] = (metadata.LastPaymentDate.dt.date - metadata.FirstPaymentDate.dt.date).astype('timedelta64[D]')"
   ]
  },
  {
   "cell_type": "code",
   "execution_count": null,
   "id": "851b0545",
   "metadata": {},
   "outputs": [],
   "source": [
    "metadata.head()"
   ]
  },
  {
   "cell_type": "code",
   "execution_count": null,
   "id": "ae0fb521",
   "metadata": {},
   "outputs": [],
   "source": [
    "metadata.nunique()"
   ]
  },
  {
   "cell_type": "markdown",
   "id": "31de43b7",
   "metadata": {},
   "source": [
    "Since the supplier name is same for all the IDs. We can drop SupplierName col.\n",
    "The payment method is also the same and that can be dropped as well.\n"
   ]
  },
  {
   "cell_type": "code",
   "execution_count": null,
   "id": "613d7904",
   "metadata": {},
   "outputs": [],
   "source": [
    "metadata.drop(columns=[\"SupplierName\",\"PaymentMethod\"],inplace=True)"
   ]
  },
  {
   "cell_type": "markdown",
   "id": "2484b599",
   "metadata": {},
   "source": [
    "Dropping categorical variables for now"
   ]
  },
  {
   "cell_type": "code",
   "execution_count": null,
   "id": "6274a130",
   "metadata": {},
   "outputs": [],
   "source": [
    "#metadata.drop(columns=[\"RegistrationDate\", \"rateTypeEntity\", \"MainApplicantGender\", \"Region\", \"Town\", \"Occupation\", \"ExpectedTermDate\", \"FirstPaymentDate\", \"LastPaymentDate\"],inplace=True)"
   ]
  },
  {
   "cell_type": "code",
   "execution_count": null,
   "id": "bea2118f",
   "metadata": {},
   "outputs": [],
   "source": [
    "metadata.shape"
   ]
  },
  {
   "cell_type": "code",
   "execution_count": null,
   "id": "a1cb5592",
   "metadata": {},
   "outputs": [],
   "source": [
    "metadata.dtypes"
   ]
  },
  {
   "cell_type": "code",
   "execution_count": null,
   "id": "4ad8e5e4",
   "metadata": {},
   "outputs": [],
   "source": [
    "metadata.drop(columns=[\"RegistrationDate\",\"ExpectedTermDate\", \"FirstPaymentDate\", \"LastPaymentDate\",\"Town\"], inplace=True)"
   ]
  },
  {
   "cell_type": "code",
   "execution_count": null,
   "id": "2932e292",
   "metadata": {},
   "outputs": [],
   "source": [
    "label_encoder = LabelEncoder()"
   ]
  },
  {
   "cell_type": "code",
   "execution_count": null,
   "id": "75f72f5b",
   "metadata": {},
   "outputs": [],
   "source": [
    "#metadata[\"rateTypeEntity\"]=label_encoder.fit_transform(metadata[\"rateTypeEntity\"])"
   ]
  },
  {
   "cell_type": "code",
   "execution_count": null,
   "id": "9b4b9517",
   "metadata": {},
   "outputs": [],
   "source": [
    "#metadata[\"MainApplicantGender\"]=label_encoder.fit_transform(metadata[\"MainApplicantGender\"])"
   ]
  },
  {
   "cell_type": "code",
   "execution_count": null,
   "id": "1548148a",
   "metadata": {},
   "outputs": [],
   "source": [
    "#metadata[\"Region\"]=label_encoder.fit_transform(metadata[\"Region\"])"
   ]
  },
  {
   "cell_type": "code",
   "execution_count": null,
   "id": "26c44253",
   "metadata": {},
   "outputs": [],
   "source": [
    "#metadata[\"Occupation\"]=label_encoder.fit_transform(metadata[\"Occupation\"])"
   ]
  },
  {
   "cell_type": "code",
   "execution_count": null,
   "id": "9073f8d8",
   "metadata": {},
   "outputs": [],
   "source": [
    "metadata = pd.get_dummies(metadata, columns=[\"rateTypeEntity\", \"MainApplicantGender\", \"Region\", \"Occupation\"])"
   ]
  },
  {
   "cell_type": "code",
   "execution_count": null,
   "id": "be236d81",
   "metadata": {},
   "outputs": [],
   "source": [
    "merged_test = pd.merge(left=metadata, right=test, on=\"ID\")"
   ]
  },
  {
   "cell_type": "code",
   "execution_count": null,
   "id": "97b169e6",
   "metadata": {},
   "outputs": [],
   "source": [
    "merged_test"
   ]
  },
  {
   "cell_type": "code",
   "execution_count": null,
   "id": "0384c1f6",
   "metadata": {},
   "outputs": [],
   "source": [
    "merged_test.drop(columns=['FirstTransactionDate', 'LastTransactionDate'],inplace=True)"
   ]
  },
  {
   "cell_type": "code",
   "execution_count": null,
   "id": "f14cff13",
   "metadata": {},
   "outputs": [],
   "source": [
    "merged_test.to_pickle(\"merged_test-processed.pkl\")"
   ]
  },
  {
   "cell_type": "code",
   "execution_count": null,
   "id": "643f07a4",
   "metadata": {},
   "outputs": [],
   "source": [
    "merged_train = pd.merge(left=metadata, right=train, on=\"ID\")"
   ]
  },
  {
   "cell_type": "code",
   "execution_count": null,
   "id": "91e56407",
   "metadata": {},
   "outputs": [],
   "source": [
    "merged_train"
   ]
  },
  {
   "cell_type": "code",
   "execution_count": null,
   "id": "1182ec17",
   "metadata": {},
   "outputs": [],
   "source": [
    "merged_train.drop(columns=['FirstTransactionDate', 'LastTransactionDate'],inplace=True)"
   ]
  },
  {
   "cell_type": "code",
   "execution_count": null,
   "id": "7d1b3519",
   "metadata": {},
   "outputs": [],
   "source": [
    "merged_train.to_pickle(\"merged_train-processed.pkl\")"
   ]
  },
  {
   "cell_type": "code",
   "execution_count": null,
   "id": "acc335a8",
   "metadata": {},
   "outputs": [],
   "source": []
  }
 ],
 "metadata": {
  "kernelspec": {
   "display_name": "Python 3 (ipykernel)",
   "language": "python",
   "name": "python3"
  },
  "language_info": {
   "codemirror_mode": {
    "name": "ipython",
    "version": 3
   },
   "file_extension": ".py",
   "mimetype": "text/x-python",
   "name": "python",
   "nbconvert_exporter": "python",
   "pygments_lexer": "ipython3",
   "version": "3.9.7"
  }
 },
 "nbformat": 4,
 "nbformat_minor": 5
}
