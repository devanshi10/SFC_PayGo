{
 "cells": [
  {
   "cell_type": "code",
   "execution_count": 2,
   "id": "33e3d7bb-c14c-4970-b4d2-acb50cb1dc09",
   "metadata": {},
   "outputs": [],
   "source": [
    "# Introduction to the sfc paygo solar credit repayment competition Project "
   ]
  },
  {
   "cell_type": "code",
   "execution_count": 3,
   "id": "8a62ebc4-d97b-48a9-b475-6da430412cb9",
   "metadata": {},
   "outputs": [],
   "source": [
    "#import the required libs"
   ]
  },
  {
   "cell_type": "code",
   "execution_count": 1,
   "id": "117fc14f-79dc-406d-ac73-170375d52bad",
   "metadata": {},
   "outputs": [],
   "source": [
    "import numpy as np\n",
    "import pandas as pd\n",
    "import matplotlib.pyplot as plt"
   ]
  },
  {
   "cell_type": "code",
   "execution_count": 5,
   "id": "f9276cfe-6b27-4cd4-be32-7a7a16f77072",
   "metadata": {},
   "outputs": [],
   "source": [
    "#import the the data"
   ]
  },
  {
   "cell_type": "code",
   "execution_count": 13,
   "id": "5cf1e68d-6b17-4840-a267-c35b69555f04",
   "metadata": {},
   "outputs": [
    {
     "ename": "SyntaxError",
     "evalue": "invalid syntax (2796047120.py, line 2)",
     "output_type": "error",
     "traceback": [
      "\u001b[1;36m  Input \u001b[1;32mIn [13]\u001b[1;36m\u001b[0m\n\u001b[1;33m    ls '../../'\u001b[0m\n\u001b[1;37m       ^\u001b[0m\n\u001b[1;31mSyntaxError\u001b[0m\u001b[1;31m:\u001b[0m invalid syntax\n"
     ]
    }
   ],
   "source": [
    "#list the files \n",
    "ls '../../'\n"
   ]
  },
  {
   "cell_type": "code",
   "execution_count": 2,
   "id": "c751c051-88bd-4907-9d3c-901f43b0ef7a",
   "metadata": {},
   "outputs": [],
   "source": [
    "metada = pd.read_csv('../metadata.csv',usecols=['ID','Deposit','PaymentMethod','rateTypeEntity',\n",
    "                                                'RatePerUnit','DaysOnDeposit',\n",
    "                                                'TotalContractValue','ExpectedTermDate','FirstPaymentDate','LastPaymentDate'])"
   ]
  },
  {
   "cell_type": "code",
   "execution_count": 3,
   "id": "58876989-7bb2-4b0f-aecf-5462de01d931",
   "metadata": {},
   "outputs": [
    {
     "data": {
      "text/html": [
       "<div>\n",
       "<style scoped>\n",
       "    .dataframe tbody tr th:only-of-type {\n",
       "        vertical-align: middle;\n",
       "    }\n",
       "\n",
       "    .dataframe tbody tr th {\n",
       "        vertical-align: top;\n",
       "    }\n",
       "\n",
       "    .dataframe thead th {\n",
       "        text-align: right;\n",
       "    }\n",
       "</style>\n",
       "<table border=\"1\" class=\"dataframe\">\n",
       "  <thead>\n",
       "    <tr style=\"text-align: right;\">\n",
       "      <th></th>\n",
       "      <th>ID</th>\n",
       "      <th>Deposit</th>\n",
       "      <th>PaymentMethod</th>\n",
       "      <th>rateTypeEntity</th>\n",
       "      <th>RatePerUnit</th>\n",
       "      <th>DaysOnDeposit</th>\n",
       "      <th>TotalContractValue</th>\n",
       "      <th>ExpectedTermDate</th>\n",
       "      <th>FirstPaymentDate</th>\n",
       "      <th>LastPaymentDate</th>\n",
       "    </tr>\n",
       "  </thead>\n",
       "  <tbody>\n",
       "    <tr>\n",
       "      <th>0</th>\n",
       "      <td>ID_K00S4N4</td>\n",
       "      <td>2000</td>\n",
       "      <td>FINANCED</td>\n",
       "      <td>DAILY</td>\n",
       "      <td>35</td>\n",
       "      <td>7</td>\n",
       "      <td>14740.0</td>\n",
       "      <td>2016-12-08 00:00:00</td>\n",
       "      <td>2015-12-10 09:52:35</td>\n",
       "      <td>2016-10-23 04:52:30</td>\n",
       "    </tr>\n",
       "    <tr>\n",
       "      <th>1</th>\n",
       "      <td>ID_6L67PAA</td>\n",
       "      <td>2000</td>\n",
       "      <td>FINANCED</td>\n",
       "      <td>DAILY</td>\n",
       "      <td>35</td>\n",
       "      <td>7</td>\n",
       "      <td>14740.0</td>\n",
       "      <td>2016-12-07 00:00:00</td>\n",
       "      <td>2015-12-09 13:14:03</td>\n",
       "      <td>2020-05-24 15:32:18</td>\n",
       "    </tr>\n",
       "    <tr>\n",
       "      <th>2</th>\n",
       "      <td>ID_102CV85</td>\n",
       "      <td>2000</td>\n",
       "      <td>FINANCED</td>\n",
       "      <td>DAILY</td>\n",
       "      <td>35</td>\n",
       "      <td>7</td>\n",
       "      <td>29480.0</td>\n",
       "      <td>2017-01-13 00:00:00</td>\n",
       "      <td>2015-12-18 06:22:34</td>\n",
       "      <td>2017-02-01 15:23:44</td>\n",
       "    </tr>\n",
       "    <tr>\n",
       "      <th>3</th>\n",
       "      <td>ID_HXBJFHB</td>\n",
       "      <td>2000</td>\n",
       "      <td>FINANCED</td>\n",
       "      <td>DAILY</td>\n",
       "      <td>35</td>\n",
       "      <td>7</td>\n",
       "      <td>14740.0</td>\n",
       "      <td>2016-11-23 00:00:00</td>\n",
       "      <td>2015-11-25 13:25:57</td>\n",
       "      <td>2017-05-22 16:46:54</td>\n",
       "    </tr>\n",
       "    <tr>\n",
       "      <th>4</th>\n",
       "      <td>ID_3K9VZ5J</td>\n",
       "      <td>2000</td>\n",
       "      <td>FINANCED</td>\n",
       "      <td>DAILY</td>\n",
       "      <td>35</td>\n",
       "      <td>7</td>\n",
       "      <td>14740.0</td>\n",
       "      <td>2016-11-30 00:00:00</td>\n",
       "      <td>2015-12-05 10:34:32</td>\n",
       "      <td>2017-05-12 16:50:52</td>\n",
       "    </tr>\n",
       "    <tr>\n",
       "      <th>...</th>\n",
       "      <td>...</td>\n",
       "      <td>...</td>\n",
       "      <td>...</td>\n",
       "      <td>...</td>\n",
       "      <td>...</td>\n",
       "      <td>...</td>\n",
       "      <td>...</td>\n",
       "      <td>...</td>\n",
       "      <td>...</td>\n",
       "      <td>...</td>\n",
       "    </tr>\n",
       "    <tr>\n",
       "      <th>37338</th>\n",
       "      <td>ID_OKJ96OW</td>\n",
       "      <td>2400</td>\n",
       "      <td>FINANCED</td>\n",
       "      <td>DAILY</td>\n",
       "      <td>50</td>\n",
       "      <td>3</td>\n",
       "      <td>14400.0</td>\n",
       "      <td>2020-10-17 18:26:52</td>\n",
       "      <td>2020-02-20 18:26:58</td>\n",
       "      <td>2020-12-19 07:16:44</td>\n",
       "    </tr>\n",
       "    <tr>\n",
       "      <th>37339</th>\n",
       "      <td>ID_5J9OMUP</td>\n",
       "      <td>2400</td>\n",
       "      <td>FINANCED</td>\n",
       "      <td>DAILY</td>\n",
       "      <td>50</td>\n",
       "      <td>3</td>\n",
       "      <td>14400.0</td>\n",
       "      <td>2020-10-17 18:30:59</td>\n",
       "      <td>2020-02-20 18:31:06</td>\n",
       "      <td>2021-05-18 16:07:49</td>\n",
       "    </tr>\n",
       "    <tr>\n",
       "      <th>37340</th>\n",
       "      <td>ID_J4I8Z2V</td>\n",
       "      <td>3000</td>\n",
       "      <td>FINANCED</td>\n",
       "      <td>DAILY</td>\n",
       "      <td>40</td>\n",
       "      <td>3</td>\n",
       "      <td>16600.0</td>\n",
       "      <td>2021-01-25 18:42:26</td>\n",
       "      <td>2020-02-20 18:42:33</td>\n",
       "      <td>2021-04-21 15:59:37</td>\n",
       "    </tr>\n",
       "    <tr>\n",
       "      <th>37341</th>\n",
       "      <td>ID_GHHAQ9D</td>\n",
       "      <td>2400</td>\n",
       "      <td>FINANCED</td>\n",
       "      <td>DAILY</td>\n",
       "      <td>50</td>\n",
       "      <td>3</td>\n",
       "      <td>14400.0</td>\n",
       "      <td>2020-10-17 18:46:30</td>\n",
       "      <td>2020-02-20 18:46:37</td>\n",
       "      <td>2021-04-24 19:06:01</td>\n",
       "    </tr>\n",
       "    <tr>\n",
       "      <th>37342</th>\n",
       "      <td>ID_PAI1FJK</td>\n",
       "      <td>2400</td>\n",
       "      <td>FINANCED</td>\n",
       "      <td>DAILY</td>\n",
       "      <td>50</td>\n",
       "      <td>3</td>\n",
       "      <td>14400.0</td>\n",
       "      <td>2020-10-17 19:30:43</td>\n",
       "      <td>2020-02-20 19:30:49</td>\n",
       "      <td>2021-05-26 18:52:23</td>\n",
       "    </tr>\n",
       "  </tbody>\n",
       "</table>\n",
       "<p>37343 rows × 10 columns</p>\n",
       "</div>"
      ],
      "text/plain": [
       "               ID  Deposit PaymentMethod rateTypeEntity  RatePerUnit  \\\n",
       "0      ID_K00S4N4     2000      FINANCED          DAILY           35   \n",
       "1      ID_6L67PAA     2000      FINANCED          DAILY           35   \n",
       "2      ID_102CV85     2000      FINANCED          DAILY           35   \n",
       "3      ID_HXBJFHB     2000      FINANCED          DAILY           35   \n",
       "4      ID_3K9VZ5J     2000      FINANCED          DAILY           35   \n",
       "...           ...      ...           ...            ...          ...   \n",
       "37338  ID_OKJ96OW     2400      FINANCED          DAILY           50   \n",
       "37339  ID_5J9OMUP     2400      FINANCED          DAILY           50   \n",
       "37340  ID_J4I8Z2V     3000      FINANCED          DAILY           40   \n",
       "37341  ID_GHHAQ9D     2400      FINANCED          DAILY           50   \n",
       "37342  ID_PAI1FJK     2400      FINANCED          DAILY           50   \n",
       "\n",
       "       DaysOnDeposit  TotalContractValue     ExpectedTermDate  \\\n",
       "0                  7             14740.0  2016-12-08 00:00:00   \n",
       "1                  7             14740.0  2016-12-07 00:00:00   \n",
       "2                  7             29480.0  2017-01-13 00:00:00   \n",
       "3                  7             14740.0  2016-11-23 00:00:00   \n",
       "4                  7             14740.0  2016-11-30 00:00:00   \n",
       "...              ...                 ...                  ...   \n",
       "37338              3             14400.0  2020-10-17 18:26:52   \n",
       "37339              3             14400.0  2020-10-17 18:30:59   \n",
       "37340              3             16600.0  2021-01-25 18:42:26   \n",
       "37341              3             14400.0  2020-10-17 18:46:30   \n",
       "37342              3             14400.0  2020-10-17 19:30:43   \n",
       "\n",
       "          FirstPaymentDate      LastPaymentDate  \n",
       "0      2015-12-10 09:52:35  2016-10-23 04:52:30  \n",
       "1      2015-12-09 13:14:03  2020-05-24 15:32:18  \n",
       "2      2015-12-18 06:22:34  2017-02-01 15:23:44  \n",
       "3      2015-11-25 13:25:57  2017-05-22 16:46:54  \n",
       "4      2015-12-05 10:34:32  2017-05-12 16:50:52  \n",
       "...                    ...                  ...  \n",
       "37338  2020-02-20 18:26:58  2020-12-19 07:16:44  \n",
       "37339  2020-02-20 18:31:06  2021-05-18 16:07:49  \n",
       "37340  2020-02-20 18:42:33  2021-04-21 15:59:37  \n",
       "37341  2020-02-20 18:46:37  2021-04-24 19:06:01  \n",
       "37342  2020-02-20 19:30:49  2021-05-26 18:52:23  \n",
       "\n",
       "[37343 rows x 10 columns]"
      ]
     },
     "execution_count": 3,
     "metadata": {},
     "output_type": "execute_result"
    }
   ],
   "source": [
    "metada"
   ]
  },
  {
   "cell_type": "code",
   "execution_count": 4,
   "id": "c00ad770-a613-4f2a-98a4-71d01f76480e",
   "metadata": {},
   "outputs": [],
   "source": [
    "test = pd.read_csv('../Test.csv')"
   ]
  },
  {
   "cell_type": "code",
   "execution_count": 5,
   "id": "53a73f79-71e1-47ef-b207-55af4cb950e4",
   "metadata": {},
   "outputs": [
    {
     "data": {
      "text/html": [
       "<div>\n",
       "<style scoped>\n",
       "    .dataframe tbody tr th:only-of-type {\n",
       "        vertical-align: middle;\n",
       "    }\n",
       "\n",
       "    .dataframe tbody tr th {\n",
       "        vertical-align: top;\n",
       "    }\n",
       "\n",
       "    .dataframe thead th {\n",
       "        text-align: right;\n",
       "    }\n",
       "</style>\n",
       "<table border=\"1\" class=\"dataframe\">\n",
       "  <thead>\n",
       "    <tr style=\"text-align: right;\">\n",
       "      <th></th>\n",
       "      <th>ID</th>\n",
       "      <th>TransactionDates</th>\n",
       "      <th>PaymentsHistory</th>\n",
       "    </tr>\n",
       "  </thead>\n",
       "  <tbody>\n",
       "    <tr>\n",
       "      <th>0</th>\n",
       "      <td>ID_6L67PAA</td>\n",
       "      <td>['12-2015', '01-2016', '02-2016', '03-2016', '...</td>\n",
       "      <td>[4000.0, 1050.0, 1050.0, 1050.0, 1050.0, 400.0]</td>\n",
       "    </tr>\n",
       "    <tr>\n",
       "      <th>1</th>\n",
       "      <td>ID_VJ80SX2</td>\n",
       "      <td>['12-2015', '01-2016', '02-2016', '03-2016', '...</td>\n",
       "      <td>[3000.0, 850.0, 750.0, 1500.0, 650.0, 1250.0, ...</td>\n",
       "    </tr>\n",
       "    <tr>\n",
       "      <th>2</th>\n",
       "      <td>ID_7OU9HLK</td>\n",
       "      <td>['12-2015', '01-2016', '03-2016', '05-2016', '...</td>\n",
       "      <td>[2400.0, 300.0, 500.0, 450.0, 675.0, 700.0, 87...</td>\n",
       "    </tr>\n",
       "    <tr>\n",
       "      <th>3</th>\n",
       "      <td>ID_WVWTPGK</td>\n",
       "      <td>['12-2015', '01-2016', '02-2016', '03-2016', '...</td>\n",
       "      <td>[4700.0, 1200.0, 950.0, 1200.0, 900.0, 1110.0,...</td>\n",
       "    </tr>\n",
       "    <tr>\n",
       "      <th>4</th>\n",
       "      <td>ID_04DSDQS</td>\n",
       "      <td>['12-2015', '01-2016', '02-2016', '03-2016', '...</td>\n",
       "      <td>[4800.0, 750.0, 995.0, 995.0, 1300.0, 750.0, 1...</td>\n",
       "    </tr>\n",
       "    <tr>\n",
       "      <th>...</th>\n",
       "      <td>...</td>\n",
       "      <td>...</td>\n",
       "      <td>...</td>\n",
       "    </tr>\n",
       "    <tr>\n",
       "      <th>9331</th>\n",
       "      <td>ID_ATLMXQX</td>\n",
       "      <td>['02-2020', '03-2020', '04-2020', '05-2020', '...</td>\n",
       "      <td>[2690.0, 270.0, 770.0, 1100.0, 700.0, 550.0, 5...</td>\n",
       "    </tr>\n",
       "    <tr>\n",
       "      <th>9332</th>\n",
       "      <td>ID_DYMC72D</td>\n",
       "      <td>['02-2020', '03-2020', '04-2020', '05-2020', '...</td>\n",
       "      <td>[2950.0, 1550.0, 1500.0, 900.0, 80.0, 1550.0, ...</td>\n",
       "    </tr>\n",
       "    <tr>\n",
       "      <th>9333</th>\n",
       "      <td>ID_5CBGHCN</td>\n",
       "      <td>['02-2020', '03-2020', '04-2020', '05-2020', '...</td>\n",
       "      <td>[2550.0, 500.0, 550.0, 250.0, 200.0, 450.0, 45...</td>\n",
       "    </tr>\n",
       "    <tr>\n",
       "      <th>9334</th>\n",
       "      <td>ID_HYHB585</td>\n",
       "      <td>['02-2020', '03-2020', '04-2020', '05-2020', '...</td>\n",
       "      <td>[2700.0, 800.0, 250.0, 300.0, 1100.0, 950.0, 8...</td>\n",
       "    </tr>\n",
       "    <tr>\n",
       "      <th>9335</th>\n",
       "      <td>ID_WKQPWF3</td>\n",
       "      <td>['02-2020', '03-2020', '04-2020', '05-2020', '...</td>\n",
       "      <td>[2300.0, 1320.0, 1050.0, 1300.0, 1150.0]</td>\n",
       "    </tr>\n",
       "  </tbody>\n",
       "</table>\n",
       "<p>9336 rows × 3 columns</p>\n",
       "</div>"
      ],
      "text/plain": [
       "              ID                                   TransactionDates  \\\n",
       "0     ID_6L67PAA  ['12-2015', '01-2016', '02-2016', '03-2016', '...   \n",
       "1     ID_VJ80SX2  ['12-2015', '01-2016', '02-2016', '03-2016', '...   \n",
       "2     ID_7OU9HLK  ['12-2015', '01-2016', '03-2016', '05-2016', '...   \n",
       "3     ID_WVWTPGK  ['12-2015', '01-2016', '02-2016', '03-2016', '...   \n",
       "4     ID_04DSDQS  ['12-2015', '01-2016', '02-2016', '03-2016', '...   \n",
       "...          ...                                                ...   \n",
       "9331  ID_ATLMXQX  ['02-2020', '03-2020', '04-2020', '05-2020', '...   \n",
       "9332  ID_DYMC72D  ['02-2020', '03-2020', '04-2020', '05-2020', '...   \n",
       "9333  ID_5CBGHCN  ['02-2020', '03-2020', '04-2020', '05-2020', '...   \n",
       "9334  ID_HYHB585  ['02-2020', '03-2020', '04-2020', '05-2020', '...   \n",
       "9335  ID_WKQPWF3  ['02-2020', '03-2020', '04-2020', '05-2020', '...   \n",
       "\n",
       "                                        PaymentsHistory  \n",
       "0       [4000.0, 1050.0, 1050.0, 1050.0, 1050.0, 400.0]  \n",
       "1     [3000.0, 850.0, 750.0, 1500.0, 650.0, 1250.0, ...  \n",
       "2     [2400.0, 300.0, 500.0, 450.0, 675.0, 700.0, 87...  \n",
       "3     [4700.0, 1200.0, 950.0, 1200.0, 900.0, 1110.0,...  \n",
       "4     [4800.0, 750.0, 995.0, 995.0, 1300.0, 750.0, 1...  \n",
       "...                                                 ...  \n",
       "9331  [2690.0, 270.0, 770.0, 1100.0, 700.0, 550.0, 5...  \n",
       "9332  [2950.0, 1550.0, 1500.0, 900.0, 80.0, 1550.0, ...  \n",
       "9333  [2550.0, 500.0, 550.0, 250.0, 200.0, 450.0, 45...  \n",
       "9334  [2700.0, 800.0, 250.0, 300.0, 1100.0, 950.0, 8...  \n",
       "9335           [2300.0, 1320.0, 1050.0, 1300.0, 1150.0]  \n",
       "\n",
       "[9336 rows x 3 columns]"
      ]
     },
     "execution_count": 5,
     "metadata": {},
     "output_type": "execute_result"
    }
   ],
   "source": [
    "test"
   ]
  },
  {
   "cell_type": "code",
   "execution_count": 6,
   "id": "5e669cb4-ccc4-4ded-9734-d7743badbc78",
   "metadata": {},
   "outputs": [
    {
     "data": {
      "text/plain": [
       "(9336, 3)"
      ]
     },
     "execution_count": 6,
     "metadata": {},
     "output_type": "execute_result"
    }
   ],
   "source": [
    "test.shape"
   ]
  },
  {
   "cell_type": "code",
   "execution_count": 7,
   "id": "f2eeb7cc-89d7-40bf-ab0d-78767c7d429c",
   "metadata": {},
   "outputs": [],
   "source": [
    "train = pd.read_csv('../Train.csv')"
   ]
  },
  {
   "cell_type": "code",
   "execution_count": null,
   "id": "6556db7f-c7f4-4e90-aba3-15e1bb0030c8",
   "metadata": {},
   "outputs": [],
   "source": []
  },
  {
   "cell_type": "code",
   "execution_count": null,
   "id": "d4f12bba-c356-4c88-a8f4-dc8cbcaabb37",
   "metadata": {},
   "outputs": [],
   "source": []
  },
  {
   "cell_type": "code",
   "execution_count": 8,
   "id": "c3a1c93c-40db-4775-b537-e1fd01f8da0a",
   "metadata": {},
   "outputs": [
    {
     "ename": "AttributeError",
     "evalue": "'str' object has no attribute 'sort_index'",
     "output_type": "error",
     "traceback": [
      "\u001b[1;31m---------------------------------------------------------------------------\u001b[0m",
      "\u001b[1;31mAttributeError\u001b[0m                            Traceback (most recent call last)",
      "Input \u001b[1;32mIn [8]\u001b[0m, in \u001b[0;36m<cell line: 1>\u001b[1;34m()\u001b[0m\n\u001b[1;32m----> 1\u001b[0m \u001b[43mtrain\u001b[49m\u001b[43m[\u001b[49m\u001b[38;5;124;43m'\u001b[39;49m\u001b[38;5;124;43mTransactionDates\u001b[39;49m\u001b[38;5;124;43m'\u001b[39;49m\u001b[43m]\u001b[49m\u001b[43m[\u001b[49m\u001b[38;5;241;43m0\u001b[39;49m\u001b[43m]\u001b[49m\u001b[38;5;241;43m.\u001b[39;49m\u001b[43msort_index\u001b[49m(ascending\u001b[38;5;241m=\u001b[39m\u001b[38;5;28;01mTrue\u001b[39;00m)\n",
      "\u001b[1;31mAttributeError\u001b[0m: 'str' object has no attribute 'sort_index'"
     ]
    }
   ],
   "source": [
    "train['TransactionDates'][0].sort_index(ascending=True)"
   ]
  },
  {
   "cell_type": "code",
   "execution_count": 9,
   "id": "4d566a64-6326-4711-84e6-978192479799",
   "metadata": {},
   "outputs": [
    {
     "ename": "NameError",
     "evalue": "name 'sort_values' is not defined",
     "output_type": "error",
     "traceback": [
      "\u001b[1;31m---------------------------------------------------------------------------\u001b[0m",
      "\u001b[1;31mNameError\u001b[0m                                 Traceback (most recent call last)",
      "Input \u001b[1;32mIn [9]\u001b[0m, in \u001b[0;36m<cell line: 1>\u001b[1;34m()\u001b[0m\n\u001b[1;32m----> 1\u001b[0m \u001b[43msort_values\u001b[49m\n",
      "\u001b[1;31mNameError\u001b[0m: name 'sort_values' is not defined"
     ]
    }
   ],
   "source": [
    "sort_values"
   ]
  },
  {
   "cell_type": "code",
   "execution_count": null,
   "id": "5d9fe38b-152d-45bc-8807-277cbf61559c",
   "metadata": {},
   "outputs": [],
   "source": []
  },
  {
   "cell_type": "code",
   "execution_count": null,
   "id": "adfc6449-a6ec-4395-8725-afd8f4338bc0",
   "metadata": {},
   "outputs": [],
   "source": []
  },
  {
   "cell_type": "code",
   "execution_count": 10,
   "id": "0df904e8-49d3-4998-b2a9-a6c77d2ecc99",
   "metadata": {},
   "outputs": [
    {
     "data": {
      "text/plain": [
       "(28007, 9)"
      ]
     },
     "execution_count": 10,
     "metadata": {},
     "output_type": "execute_result"
    }
   ],
   "source": [
    "train.shape"
   ]
  },
  {
   "cell_type": "code",
   "execution_count": 11,
   "id": "d653f4fe-5c00-44ff-8840-8e7da7ace2df",
   "metadata": {},
   "outputs": [
    {
     "data": {
      "text/plain": [
       "74686"
      ]
     },
     "execution_count": 11,
     "metadata": {},
     "output_type": "execute_result"
    }
   ],
   "source": [
    "len(train)+len(test)+len(metada)"
   ]
  },
  {
   "cell_type": "code",
   "execution_count": 9,
   "id": "930c34ea-e800-4ec5-87c7-1ecba69a898a",
   "metadata": {},
   "outputs": [],
   "source": [
    "mer = pd.concat([metada,test,train],join='inner')"
   ]
  },
  {
   "cell_type": "code",
   "execution_count": 10,
   "id": "45382911-e94d-4429-8cab-053c744943c9",
   "metadata": {},
   "outputs": [
    {
     "data": {
      "text/html": [
       "<div>\n",
       "<style scoped>\n",
       "    .dataframe tbody tr th:only-of-type {\n",
       "        vertical-align: middle;\n",
       "    }\n",
       "\n",
       "    .dataframe tbody tr th {\n",
       "        vertical-align: top;\n",
       "    }\n",
       "\n",
       "    .dataframe thead th {\n",
       "        text-align: right;\n",
       "    }\n",
       "</style>\n",
       "<table border=\"1\" class=\"dataframe\">\n",
       "  <thead>\n",
       "    <tr style=\"text-align: right;\">\n",
       "      <th></th>\n",
       "      <th>ID</th>\n",
       "    </tr>\n",
       "  </thead>\n",
       "  <tbody>\n",
       "    <tr>\n",
       "      <th>0</th>\n",
       "      <td>ID_K00S4N4</td>\n",
       "    </tr>\n",
       "    <tr>\n",
       "      <th>1</th>\n",
       "      <td>ID_6L67PAA</td>\n",
       "    </tr>\n",
       "    <tr>\n",
       "      <th>2</th>\n",
       "      <td>ID_102CV85</td>\n",
       "    </tr>\n",
       "    <tr>\n",
       "      <th>3</th>\n",
       "      <td>ID_HXBJFHB</td>\n",
       "    </tr>\n",
       "    <tr>\n",
       "      <th>4</th>\n",
       "      <td>ID_3K9VZ5J</td>\n",
       "    </tr>\n",
       "    <tr>\n",
       "      <th>...</th>\n",
       "      <td>...</td>\n",
       "    </tr>\n",
       "    <tr>\n",
       "      <th>28002</th>\n",
       "      <td>ID_CDZ24L9</td>\n",
       "    </tr>\n",
       "    <tr>\n",
       "      <th>28003</th>\n",
       "      <td>ID_0XINELS</td>\n",
       "    </tr>\n",
       "    <tr>\n",
       "      <th>28004</th>\n",
       "      <td>ID_PAU9JJU</td>\n",
       "    </tr>\n",
       "    <tr>\n",
       "      <th>28005</th>\n",
       "      <td>ID_K866QHS</td>\n",
       "    </tr>\n",
       "    <tr>\n",
       "      <th>28006</th>\n",
       "      <td>ID_L485J6M</td>\n",
       "    </tr>\n",
       "  </tbody>\n",
       "</table>\n",
       "<p>74686 rows × 1 columns</p>\n",
       "</div>"
      ],
      "text/plain": [
       "               ID\n",
       "0      ID_K00S4N4\n",
       "1      ID_6L67PAA\n",
       "2      ID_102CV85\n",
       "3      ID_HXBJFHB\n",
       "4      ID_3K9VZ5J\n",
       "...           ...\n",
       "28002  ID_CDZ24L9\n",
       "28003  ID_0XINELS\n",
       "28004  ID_PAU9JJU\n",
       "28005  ID_K866QHS\n",
       "28006  ID_L485J6M\n",
       "\n",
       "[74686 rows x 1 columns]"
      ]
     },
     "execution_count": 10,
     "metadata": {},
     "output_type": "execute_result"
    }
   ],
   "source": [
    "mer"
   ]
  },
  {
   "cell_type": "code",
   "execution_count": 12,
   "id": "5925e986-cbde-499c-b7ea-f6cf08ab5a39",
   "metadata": {},
   "outputs": [],
   "source": [
    "train_test1 = pd.concat([test,train],axis=1,join='outer')\n",
    "train_test2 = pd.concat([test,train],axis=0,join='inner')"
   ]
  },
  {
   "cell_type": "code",
   "execution_count": 13,
   "id": "c480c444-b5cf-4a52-b1d1-4c1ae942eab4",
   "metadata": {},
   "outputs": [
    {
     "data": {
      "text/html": [
       "<div>\n",
       "<style scoped>\n",
       "    .dataframe tbody tr th:only-of-type {\n",
       "        vertical-align: middle;\n",
       "    }\n",
       "\n",
       "    .dataframe tbody tr th {\n",
       "        vertical-align: top;\n",
       "    }\n",
       "\n",
       "    .dataframe thead th {\n",
       "        text-align: right;\n",
       "    }\n",
       "</style>\n",
       "<table border=\"1\" class=\"dataframe\">\n",
       "  <thead>\n",
       "    <tr style=\"text-align: right;\">\n",
       "      <th></th>\n",
       "      <th>ID</th>\n",
       "      <th>TransactionDates</th>\n",
       "      <th>PaymentsHistory</th>\n",
       "      <th>ID</th>\n",
       "      <th>TransactionDates</th>\n",
       "      <th>PaymentsHistory</th>\n",
       "      <th>m1</th>\n",
       "      <th>m2</th>\n",
       "      <th>m3</th>\n",
       "      <th>m4</th>\n",
       "      <th>m5</th>\n",
       "      <th>m6</th>\n",
       "    </tr>\n",
       "  </thead>\n",
       "  <tbody>\n",
       "    <tr>\n",
       "      <th>0</th>\n",
       "      <td>ID_6L67PAA</td>\n",
       "      <td>['12-2015', '01-2016', '02-2016', '03-2016', '...</td>\n",
       "      <td>[4000.0, 1050.0, 1050.0, 1050.0, 1050.0, 400.0]</td>\n",
       "      <td>ID_MR53LEX</td>\n",
       "      <td>['04-2018', '05-2018', '06-2018', '07-2018', '...</td>\n",
       "      <td>[3600.0, 750.0, 350.0, 65.0, 95.0, 135.0, 85.0...</td>\n",
       "      <td>880.0</td>\n",
       "      <td>930.0</td>\n",
       "      <td>495.0</td>\n",
       "      <td>715.0</td>\n",
       "      <td>220.0</td>\n",
       "      <td>385.0</td>\n",
       "    </tr>\n",
       "    <tr>\n",
       "      <th>1</th>\n",
       "      <td>ID_VJ80SX2</td>\n",
       "      <td>['12-2015', '01-2016', '02-2016', '03-2016', '...</td>\n",
       "      <td>[3000.0, 850.0, 750.0, 1500.0, 650.0, 1250.0, ...</td>\n",
       "      <td>ID_3D7NQUH</td>\n",
       "      <td>['04-2018', '05-2018', '06-2018', '07-2018', '...</td>\n",
       "      <td>[2940.0, 970.0, 380.0, 880.0, 385.0, 440.0, 11...</td>\n",
       "      <td>660.0</td>\n",
       "      <td>935.0</td>\n",
       "      <td>935.0</td>\n",
       "      <td>825.0</td>\n",
       "      <td>770.0</td>\n",
       "      <td>935.0</td>\n",
       "    </tr>\n",
       "    <tr>\n",
       "      <th>2</th>\n",
       "      <td>ID_7OU9HLK</td>\n",
       "      <td>['12-2015', '01-2016', '03-2016', '05-2016', '...</td>\n",
       "      <td>[2400.0, 300.0, 500.0, 450.0, 675.0, 700.0, 87...</td>\n",
       "      <td>ID_0IWQNPI</td>\n",
       "      <td>['02-2020', '03-2020', '04-2020', '05-2020', '...</td>\n",
       "      <td>[2850.0, 1500.0, 1350.0, 610.0, 200.0, 250.0]</td>\n",
       "      <td>700.0</td>\n",
       "      <td>1350.0</td>\n",
       "      <td>1550.0</td>\n",
       "      <td>1400.0</td>\n",
       "      <td>1450.0</td>\n",
       "      <td>1200.0</td>\n",
       "    </tr>\n",
       "    <tr>\n",
       "      <th>3</th>\n",
       "      <td>ID_WVWTPGK</td>\n",
       "      <td>['12-2015', '01-2016', '02-2016', '03-2016', '...</td>\n",
       "      <td>[4700.0, 1200.0, 950.0, 1200.0, 900.0, 1110.0,...</td>\n",
       "      <td>ID_IY8SYB9</td>\n",
       "      <td>['09-2017', '10-2017', '11-2017', '12-2017', '...</td>\n",
       "      <td>[2200.0, 1420.0, 1180.0, 900.0, 1400.0, 780.0,...</td>\n",
       "      <td>580.0</td>\n",
       "      <td>480.0</td>\n",
       "      <td>800.0</td>\n",
       "      <td>1260.0</td>\n",
       "      <td>1650.0</td>\n",
       "      <td>530.0</td>\n",
       "    </tr>\n",
       "    <tr>\n",
       "      <th>4</th>\n",
       "      <td>ID_04DSDQS</td>\n",
       "      <td>['12-2015', '01-2016', '02-2016', '03-2016', '...</td>\n",
       "      <td>[4800.0, 750.0, 995.0, 995.0, 1300.0, 750.0, 1...</td>\n",
       "      <td>ID_9XHL7VZ</td>\n",
       "      <td>['09-2017', '10-2017', '11-2017', '12-2017', '...</td>\n",
       "      <td>[2640.0, 910.0, 480.0, 280.0, 200.0, 180.0, 33...</td>\n",
       "      <td>40.0</td>\n",
       "      <td>440.0</td>\n",
       "      <td>460.0</td>\n",
       "      <td>360.0</td>\n",
       "      <td>80.0</td>\n",
       "      <td>330.0</td>\n",
       "    </tr>\n",
       "    <tr>\n",
       "      <th>...</th>\n",
       "      <td>...</td>\n",
       "      <td>...</td>\n",
       "      <td>...</td>\n",
       "      <td>...</td>\n",
       "      <td>...</td>\n",
       "      <td>...</td>\n",
       "      <td>...</td>\n",
       "      <td>...</td>\n",
       "      <td>...</td>\n",
       "      <td>...</td>\n",
       "      <td>...</td>\n",
       "      <td>...</td>\n",
       "    </tr>\n",
       "    <tr>\n",
       "      <th>28002</th>\n",
       "      <td>NaN</td>\n",
       "      <td>NaN</td>\n",
       "      <td>NaN</td>\n",
       "      <td>ID_CDZ24L9</td>\n",
       "      <td>['03-2018', '04-2018', '05-2018', '06-2018', '...</td>\n",
       "      <td>[5235.0, 1270.0, 940.0, 1370.0, 2020.0, 1750.0...</td>\n",
       "      <td>1640.0</td>\n",
       "      <td>1550.0</td>\n",
       "      <td>2045.0</td>\n",
       "      <td>850.0</td>\n",
       "      <td>1730.0</td>\n",
       "      <td>720.0</td>\n",
       "    </tr>\n",
       "    <tr>\n",
       "      <th>28003</th>\n",
       "      <td>NaN</td>\n",
       "      <td>NaN</td>\n",
       "      <td>NaN</td>\n",
       "      <td>ID_0XINELS</td>\n",
       "      <td>['02-2020', '03-2020', '04-2020', '05-2020', '...</td>\n",
       "      <td>[2980.0, 1000.0, 450.0, 1050.0, 850.0, 1250.0,...</td>\n",
       "      <td>900.0</td>\n",
       "      <td>950.0</td>\n",
       "      <td>650.0</td>\n",
       "      <td>750.0</td>\n",
       "      <td>1200.0</td>\n",
       "      <td>620.0</td>\n",
       "    </tr>\n",
       "    <tr>\n",
       "      <th>28004</th>\n",
       "      <td>NaN</td>\n",
       "      <td>NaN</td>\n",
       "      <td>NaN</td>\n",
       "      <td>ID_PAU9JJU</td>\n",
       "      <td>['01-2020', '02-2020', '03-2020', '04-2020', '...</td>\n",
       "      <td>[2580.0, 1020.0, 540.0, 360.0, 200.0, 660.0, 1...</td>\n",
       "      <td>680.0</td>\n",
       "      <td>460.0</td>\n",
       "      <td>799.0</td>\n",
       "      <td>1070.0</td>\n",
       "      <td>820.0</td>\n",
       "      <td>401.0</td>\n",
       "    </tr>\n",
       "    <tr>\n",
       "      <th>28005</th>\n",
       "      <td>NaN</td>\n",
       "      <td>NaN</td>\n",
       "      <td>NaN</td>\n",
       "      <td>ID_K866QHS</td>\n",
       "      <td>['02-2018', '03-2018', '04-2018', '05-2018', '...</td>\n",
       "      <td>[2000.0, 1160.0, 1240.0, 1120.0, 1000.0, 1200....</td>\n",
       "      <td>1300.0</td>\n",
       "      <td>1055.0</td>\n",
       "      <td>1200.0</td>\n",
       "      <td>1200.0</td>\n",
       "      <td>1080.0</td>\n",
       "      <td>800.0</td>\n",
       "    </tr>\n",
       "    <tr>\n",
       "      <th>28006</th>\n",
       "      <td>NaN</td>\n",
       "      <td>NaN</td>\n",
       "      <td>NaN</td>\n",
       "      <td>ID_L485J6M</td>\n",
       "      <td>['09-2017', '10-2017', '11-2017', '12-2017', '...</td>\n",
       "      <td>[2910.0, 1050.0, 1200.0, 1240.0, 1000.0, 650.0...</td>\n",
       "      <td>970.0</td>\n",
       "      <td>1080.0</td>\n",
       "      <td>960.0</td>\n",
       "      <td>840.0</td>\n",
       "      <td>1000.0</td>\n",
       "      <td>370.0</td>\n",
       "    </tr>\n",
       "  </tbody>\n",
       "</table>\n",
       "<p>28007 rows × 12 columns</p>\n",
       "</div>"
      ],
      "text/plain": [
       "               ID                                   TransactionDates  \\\n",
       "0      ID_6L67PAA  ['12-2015', '01-2016', '02-2016', '03-2016', '...   \n",
       "1      ID_VJ80SX2  ['12-2015', '01-2016', '02-2016', '03-2016', '...   \n",
       "2      ID_7OU9HLK  ['12-2015', '01-2016', '03-2016', '05-2016', '...   \n",
       "3      ID_WVWTPGK  ['12-2015', '01-2016', '02-2016', '03-2016', '...   \n",
       "4      ID_04DSDQS  ['12-2015', '01-2016', '02-2016', '03-2016', '...   \n",
       "...           ...                                                ...   \n",
       "28002         NaN                                                NaN   \n",
       "28003         NaN                                                NaN   \n",
       "28004         NaN                                                NaN   \n",
       "28005         NaN                                                NaN   \n",
       "28006         NaN                                                NaN   \n",
       "\n",
       "                                         PaymentsHistory          ID  \\\n",
       "0        [4000.0, 1050.0, 1050.0, 1050.0, 1050.0, 400.0]  ID_MR53LEX   \n",
       "1      [3000.0, 850.0, 750.0, 1500.0, 650.0, 1250.0, ...  ID_3D7NQUH   \n",
       "2      [2400.0, 300.0, 500.0, 450.0, 675.0, 700.0, 87...  ID_0IWQNPI   \n",
       "3      [4700.0, 1200.0, 950.0, 1200.0, 900.0, 1110.0,...  ID_IY8SYB9   \n",
       "4      [4800.0, 750.0, 995.0, 995.0, 1300.0, 750.0, 1...  ID_9XHL7VZ   \n",
       "...                                                  ...         ...   \n",
       "28002                                                NaN  ID_CDZ24L9   \n",
       "28003                                                NaN  ID_0XINELS   \n",
       "28004                                                NaN  ID_PAU9JJU   \n",
       "28005                                                NaN  ID_K866QHS   \n",
       "28006                                                NaN  ID_L485J6M   \n",
       "\n",
       "                                        TransactionDates  \\\n",
       "0      ['04-2018', '05-2018', '06-2018', '07-2018', '...   \n",
       "1      ['04-2018', '05-2018', '06-2018', '07-2018', '...   \n",
       "2      ['02-2020', '03-2020', '04-2020', '05-2020', '...   \n",
       "3      ['09-2017', '10-2017', '11-2017', '12-2017', '...   \n",
       "4      ['09-2017', '10-2017', '11-2017', '12-2017', '...   \n",
       "...                                                  ...   \n",
       "28002  ['03-2018', '04-2018', '05-2018', '06-2018', '...   \n",
       "28003  ['02-2020', '03-2020', '04-2020', '05-2020', '...   \n",
       "28004  ['01-2020', '02-2020', '03-2020', '04-2020', '...   \n",
       "28005  ['02-2018', '03-2018', '04-2018', '05-2018', '...   \n",
       "28006  ['09-2017', '10-2017', '11-2017', '12-2017', '...   \n",
       "\n",
       "                                         PaymentsHistory      m1      m2  \\\n",
       "0      [3600.0, 750.0, 350.0, 65.0, 95.0, 135.0, 85.0...   880.0   930.0   \n",
       "1      [2940.0, 970.0, 380.0, 880.0, 385.0, 440.0, 11...   660.0   935.0   \n",
       "2          [2850.0, 1500.0, 1350.0, 610.0, 200.0, 250.0]   700.0  1350.0   \n",
       "3      [2200.0, 1420.0, 1180.0, 900.0, 1400.0, 780.0,...   580.0   480.0   \n",
       "4      [2640.0, 910.0, 480.0, 280.0, 200.0, 180.0, 33...    40.0   440.0   \n",
       "...                                                  ...     ...     ...   \n",
       "28002  [5235.0, 1270.0, 940.0, 1370.0, 2020.0, 1750.0...  1640.0  1550.0   \n",
       "28003  [2980.0, 1000.0, 450.0, 1050.0, 850.0, 1250.0,...   900.0   950.0   \n",
       "28004  [2580.0, 1020.0, 540.0, 360.0, 200.0, 660.0, 1...   680.0   460.0   \n",
       "28005  [2000.0, 1160.0, 1240.0, 1120.0, 1000.0, 1200....  1300.0  1055.0   \n",
       "28006  [2910.0, 1050.0, 1200.0, 1240.0, 1000.0, 650.0...   970.0  1080.0   \n",
       "\n",
       "           m3      m4      m5      m6  \n",
       "0       495.0   715.0   220.0   385.0  \n",
       "1       935.0   825.0   770.0   935.0  \n",
       "2      1550.0  1400.0  1450.0  1200.0  \n",
       "3       800.0  1260.0  1650.0   530.0  \n",
       "4       460.0   360.0    80.0   330.0  \n",
       "...       ...     ...     ...     ...  \n",
       "28002  2045.0   850.0  1730.0   720.0  \n",
       "28003   650.0   750.0  1200.0   620.0  \n",
       "28004   799.0  1070.0   820.0   401.0  \n",
       "28005  1200.0  1200.0  1080.0   800.0  \n",
       "28006   960.0   840.0  1000.0   370.0  \n",
       "\n",
       "[28007 rows x 12 columns]"
      ]
     },
     "execution_count": 13,
     "metadata": {},
     "output_type": "execute_result"
    }
   ],
   "source": [
    "train_test1"
   ]
  },
  {
   "cell_type": "code",
   "execution_count": 14,
   "id": "6243c8e5-a0ef-4dfd-b142-baacbe7ac640",
   "metadata": {},
   "outputs": [
    {
     "ename": "NameError",
     "evalue": "name 'train_test' is not defined",
     "output_type": "error",
     "traceback": [
      "\u001b[1;31m---------------------------------------------------------------------------\u001b[0m",
      "\u001b[1;31mNameError\u001b[0m                                 Traceback (most recent call last)",
      "Input \u001b[1;32mIn [14]\u001b[0m, in \u001b[0;36m<cell line: 1>\u001b[1;34m()\u001b[0m\n\u001b[1;32m----> 1\u001b[0m \u001b[43mtrain_test\u001b[49m\u001b[38;5;241m.\u001b[39mto_csv(\u001b[38;5;124m'\u001b[39m\u001b[38;5;124mfile.csv\u001b[39m\u001b[38;5;124m'\u001b[39m)\n",
      "\u001b[1;31mNameError\u001b[0m: name 'train_test' is not defined"
     ]
    }
   ],
   "source": [
    "train_test.to_csv('file.csv')"
   ]
  },
  {
   "cell_type": "code",
   "execution_count": 15,
   "id": "420a006f-b57f-4419-ba15-70a3cdde89d1",
   "metadata": {},
   "outputs": [
    {
     "data": {
      "text/html": [
       "<div>\n",
       "<style scoped>\n",
       "    .dataframe tbody tr th:only-of-type {\n",
       "        vertical-align: middle;\n",
       "    }\n",
       "\n",
       "    .dataframe tbody tr th {\n",
       "        vertical-align: top;\n",
       "    }\n",
       "\n",
       "    .dataframe thead th {\n",
       "        text-align: right;\n",
       "    }\n",
       "</style>\n",
       "<table border=\"1\" class=\"dataframe\">\n",
       "  <thead>\n",
       "    <tr style=\"text-align: right;\">\n",
       "      <th></th>\n",
       "      <th>ID</th>\n",
       "      <th>TransactionDates</th>\n",
       "      <th>PaymentsHistory</th>\n",
       "    </tr>\n",
       "  </thead>\n",
       "  <tbody>\n",
       "    <tr>\n",
       "      <th>0</th>\n",
       "      <td>ID_6L67PAA</td>\n",
       "      <td>['12-2015', '01-2016', '02-2016', '03-2016', '...</td>\n",
       "      <td>[4000.0, 1050.0, 1050.0, 1050.0, 1050.0, 400.0]</td>\n",
       "    </tr>\n",
       "    <tr>\n",
       "      <th>1</th>\n",
       "      <td>ID_VJ80SX2</td>\n",
       "      <td>['12-2015', '01-2016', '02-2016', '03-2016', '...</td>\n",
       "      <td>[3000.0, 850.0, 750.0, 1500.0, 650.0, 1250.0, ...</td>\n",
       "    </tr>\n",
       "    <tr>\n",
       "      <th>2</th>\n",
       "      <td>ID_7OU9HLK</td>\n",
       "      <td>['12-2015', '01-2016', '03-2016', '05-2016', '...</td>\n",
       "      <td>[2400.0, 300.0, 500.0, 450.0, 675.0, 700.0, 87...</td>\n",
       "    </tr>\n",
       "    <tr>\n",
       "      <th>3</th>\n",
       "      <td>ID_WVWTPGK</td>\n",
       "      <td>['12-2015', '01-2016', '02-2016', '03-2016', '...</td>\n",
       "      <td>[4700.0, 1200.0, 950.0, 1200.0, 900.0, 1110.0,...</td>\n",
       "    </tr>\n",
       "    <tr>\n",
       "      <th>4</th>\n",
       "      <td>ID_04DSDQS</td>\n",
       "      <td>['12-2015', '01-2016', '02-2016', '03-2016', '...</td>\n",
       "      <td>[4800.0, 750.0, 995.0, 995.0, 1300.0, 750.0, 1...</td>\n",
       "    </tr>\n",
       "    <tr>\n",
       "      <th>...</th>\n",
       "      <td>...</td>\n",
       "      <td>...</td>\n",
       "      <td>...</td>\n",
       "    </tr>\n",
       "    <tr>\n",
       "      <th>95</th>\n",
       "      <td>ID_BKQN4ZD</td>\n",
       "      <td>['07-2017', '08-2017', '09-2017', '10-2017', '...</td>\n",
       "      <td>[2960.0, 1080.0, 1120.0, 1080.0, 1100.0, 1170....</td>\n",
       "    </tr>\n",
       "    <tr>\n",
       "      <th>96</th>\n",
       "      <td>ID_3F67SN6</td>\n",
       "      <td>['07-2017', '08-2017', '09-2017', '10-2017', '...</td>\n",
       "      <td>[4840.0, 300.0, 1400.0, 1100.0, 500.0, 850.0, ...</td>\n",
       "    </tr>\n",
       "    <tr>\n",
       "      <th>97</th>\n",
       "      <td>ID_R25OAJ3</td>\n",
       "      <td>['07-2017', '08-2017', '09-2017', '10-2017', '...</td>\n",
       "      <td>[2200.0, 40.0, 200.0, 120.0, 200.0, 200.0, 360...</td>\n",
       "    </tr>\n",
       "    <tr>\n",
       "      <th>98</th>\n",
       "      <td>ID_XXXL1Y9</td>\n",
       "      <td>['07-2017', '08-2017', '09-2017', '10-2017', '...</td>\n",
       "      <td>[2680.0, 1250.0, 1100.0, 1130.0, 1030.0, 1150....</td>\n",
       "    </tr>\n",
       "    <tr>\n",
       "      <th>99</th>\n",
       "      <td>ID_XYHISJS</td>\n",
       "      <td>['07-2017', '08-2017', '09-2017', '10-2017', '...</td>\n",
       "      <td>[2680.0, 1100.0, 1200.0, 1180.0, 860.0, 1130.0...</td>\n",
       "    </tr>\n",
       "  </tbody>\n",
       "</table>\n",
       "<p>100 rows × 3 columns</p>\n",
       "</div>"
      ],
      "text/plain": [
       "            ID                                   TransactionDates  \\\n",
       "0   ID_6L67PAA  ['12-2015', '01-2016', '02-2016', '03-2016', '...   \n",
       "1   ID_VJ80SX2  ['12-2015', '01-2016', '02-2016', '03-2016', '...   \n",
       "2   ID_7OU9HLK  ['12-2015', '01-2016', '03-2016', '05-2016', '...   \n",
       "3   ID_WVWTPGK  ['12-2015', '01-2016', '02-2016', '03-2016', '...   \n",
       "4   ID_04DSDQS  ['12-2015', '01-2016', '02-2016', '03-2016', '...   \n",
       "..         ...                                                ...   \n",
       "95  ID_BKQN4ZD  ['07-2017', '08-2017', '09-2017', '10-2017', '...   \n",
       "96  ID_3F67SN6  ['07-2017', '08-2017', '09-2017', '10-2017', '...   \n",
       "97  ID_R25OAJ3  ['07-2017', '08-2017', '09-2017', '10-2017', '...   \n",
       "98  ID_XXXL1Y9  ['07-2017', '08-2017', '09-2017', '10-2017', '...   \n",
       "99  ID_XYHISJS  ['07-2017', '08-2017', '09-2017', '10-2017', '...   \n",
       "\n",
       "                                      PaymentsHistory  \n",
       "0     [4000.0, 1050.0, 1050.0, 1050.0, 1050.0, 400.0]  \n",
       "1   [3000.0, 850.0, 750.0, 1500.0, 650.0, 1250.0, ...  \n",
       "2   [2400.0, 300.0, 500.0, 450.0, 675.0, 700.0, 87...  \n",
       "3   [4700.0, 1200.0, 950.0, 1200.0, 900.0, 1110.0,...  \n",
       "4   [4800.0, 750.0, 995.0, 995.0, 1300.0, 750.0, 1...  \n",
       "..                                                ...  \n",
       "95  [2960.0, 1080.0, 1120.0, 1080.0, 1100.0, 1170....  \n",
       "96  [4840.0, 300.0, 1400.0, 1100.0, 500.0, 850.0, ...  \n",
       "97  [2200.0, 40.0, 200.0, 120.0, 200.0, 200.0, 360...  \n",
       "98  [2680.0, 1250.0, 1100.0, 1130.0, 1030.0, 1150....  \n",
       "99  [2680.0, 1100.0, 1200.0, 1180.0, 860.0, 1130.0...  \n",
       "\n",
       "[100 rows x 3 columns]"
      ]
     },
     "execution_count": 15,
     "metadata": {},
     "output_type": "execute_result"
    }
   ],
   "source": [
    "train_test2.head(100)"
   ]
  },
  {
   "cell_type": "code",
   "execution_count": null,
   "id": "d41ad0de-b5f4-4ab2-a232-e8492d59c99e",
   "metadata": {},
   "outputs": [],
   "source": []
  },
  {
   "cell_type": "code",
   "execution_count": 16,
   "id": "32db3422-186e-4077-a480-50fe4a052720",
   "metadata": {},
   "outputs": [
    {
     "data": {
      "text/html": [
       "<div>\n",
       "<style scoped>\n",
       "    .dataframe tbody tr th:only-of-type {\n",
       "        vertical-align: middle;\n",
       "    }\n",
       "\n",
       "    .dataframe tbody tr th {\n",
       "        vertical-align: top;\n",
       "    }\n",
       "\n",
       "    .dataframe thead th {\n",
       "        text-align: right;\n",
       "    }\n",
       "</style>\n",
       "<table border=\"1\" class=\"dataframe\">\n",
       "  <thead>\n",
       "    <tr style=\"text-align: right;\">\n",
       "      <th></th>\n",
       "      <th>m1</th>\n",
       "      <th>m2</th>\n",
       "      <th>m3</th>\n",
       "      <th>m4</th>\n",
       "      <th>m5</th>\n",
       "      <th>m6</th>\n",
       "    </tr>\n",
       "    <tr>\n",
       "      <th>ID</th>\n",
       "      <th></th>\n",
       "      <th></th>\n",
       "      <th></th>\n",
       "      <th></th>\n",
       "      <th></th>\n",
       "      <th></th>\n",
       "    </tr>\n",
       "  </thead>\n",
       "  <tbody>\n",
       "    <tr>\n",
       "      <th>ID_001AMM9</th>\n",
       "      <td>950.0</td>\n",
       "      <td>1280.0</td>\n",
       "      <td>750.0</td>\n",
       "      <td>1150.0</td>\n",
       "      <td>1250.0</td>\n",
       "      <td>750.0</td>\n",
       "    </tr>\n",
       "    <tr>\n",
       "      <th>ID_001QJLW</th>\n",
       "      <td>400.0</td>\n",
       "      <td>100.0</td>\n",
       "      <td>100.0</td>\n",
       "      <td>250.0</td>\n",
       "      <td>550.0</td>\n",
       "      <td>550.0</td>\n",
       "    </tr>\n",
       "    <tr>\n",
       "      <th>ID_003DANQ</th>\n",
       "      <td>550.0</td>\n",
       "      <td>1040.0</td>\n",
       "      <td>1120.0</td>\n",
       "      <td>1200.0</td>\n",
       "      <td>1140.0</td>\n",
       "      <td>210.0</td>\n",
       "    </tr>\n",
       "    <tr>\n",
       "      <th>ID_0047BAA</th>\n",
       "      <td>700.0</td>\n",
       "      <td>1395.0</td>\n",
       "      <td>1220.0</td>\n",
       "      <td>1380.0</td>\n",
       "      <td>1400.0</td>\n",
       "      <td>400.0</td>\n",
       "    </tr>\n",
       "    <tr>\n",
       "      <th>ID_004TCS0</th>\n",
       "      <td>625.0</td>\n",
       "      <td>900.0</td>\n",
       "      <td>270.0</td>\n",
       "      <td>700.0</td>\n",
       "      <td>50.0</td>\n",
       "      <td>40.0</td>\n",
       "    </tr>\n",
       "    <tr>\n",
       "      <th>...</th>\n",
       "      <td>...</td>\n",
       "      <td>...</td>\n",
       "      <td>...</td>\n",
       "      <td>...</td>\n",
       "      <td>...</td>\n",
       "      <td>...</td>\n",
       "    </tr>\n",
       "    <tr>\n",
       "      <th>ID_ZZTGOSW</th>\n",
       "      <td>1130.0</td>\n",
       "      <td>1135.0</td>\n",
       "      <td>910.0</td>\n",
       "      <td>630.0</td>\n",
       "      <td>280.0</td>\n",
       "      <td>836.0</td>\n",
       "    </tr>\n",
       "    <tr>\n",
       "      <th>ID_ZZUF0T7</th>\n",
       "      <td>1045.0</td>\n",
       "      <td>825.0</td>\n",
       "      <td>1045.0</td>\n",
       "      <td>935.0</td>\n",
       "      <td>770.0</td>\n",
       "      <td>439.0</td>\n",
       "    </tr>\n",
       "    <tr>\n",
       "      <th>ID_ZZVRQJY</th>\n",
       "      <td>1210.0</td>\n",
       "      <td>1130.0</td>\n",
       "      <td>1080.0</td>\n",
       "      <td>560.0</td>\n",
       "      <td>1040.0</td>\n",
       "      <td>590.0</td>\n",
       "    </tr>\n",
       "    <tr>\n",
       "      <th>ID_ZZYFXQT</th>\n",
       "      <td>1270.0</td>\n",
       "      <td>700.0</td>\n",
       "      <td>540.0</td>\n",
       "      <td>680.0</td>\n",
       "      <td>1180.0</td>\n",
       "      <td>2000.0</td>\n",
       "    </tr>\n",
       "    <tr>\n",
       "      <th>ID_ZZYZHG8</th>\n",
       "      <td>420.0</td>\n",
       "      <td>800.0</td>\n",
       "      <td>720.0</td>\n",
       "      <td>190.0</td>\n",
       "      <td>400.0</td>\n",
       "      <td>500.0</td>\n",
       "    </tr>\n",
       "  </tbody>\n",
       "</table>\n",
       "<p>28007 rows × 6 columns</p>\n",
       "</div>"
      ],
      "text/plain": [
       "                m1      m2      m3      m4      m5      m6\n",
       "ID                                                        \n",
       "ID_001AMM9   950.0  1280.0   750.0  1150.0  1250.0   750.0\n",
       "ID_001QJLW   400.0   100.0   100.0   250.0   550.0   550.0\n",
       "ID_003DANQ   550.0  1040.0  1120.0  1200.0  1140.0   210.0\n",
       "ID_0047BAA   700.0  1395.0  1220.0  1380.0  1400.0   400.0\n",
       "ID_004TCS0   625.0   900.0   270.0   700.0    50.0    40.0\n",
       "...            ...     ...     ...     ...     ...     ...\n",
       "ID_ZZTGOSW  1130.0  1135.0   910.0   630.0   280.0   836.0\n",
       "ID_ZZUF0T7  1045.0   825.0  1045.0   935.0   770.0   439.0\n",
       "ID_ZZVRQJY  1210.0  1130.0  1080.0   560.0  1040.0   590.0\n",
       "ID_ZZYFXQT  1270.0   700.0   540.0   680.0  1180.0  2000.0\n",
       "ID_ZZYZHG8   420.0   800.0   720.0   190.0   400.0   500.0\n",
       "\n",
       "[28007 rows x 6 columns]"
      ]
     },
     "execution_count": 16,
     "metadata": {},
     "output_type": "execute_result"
    }
   ],
   "source": [
    "train.groupby(by='ID').agg(sum)"
   ]
  },
  {
   "cell_type": "code",
   "execution_count": null,
   "id": "9c4a22a8-cc0a-4ecd-b063-317b5fa21fd4",
   "metadata": {},
   "outputs": [],
   "source": []
  },
  {
   "cell_type": "code",
   "execution_count": null,
   "id": "82324c49-8b92-4d32-8934-e9f4fa2ac208",
   "metadata": {},
   "outputs": [],
   "source": []
  },
  {
   "cell_type": "code",
   "execution_count": 17,
   "id": "d806109a-abfc-46c5-8b66-e4556f8e6712",
   "metadata": {},
   "outputs": [
    {
     "data": {
      "text/plain": [
       "str"
      ]
     },
     "execution_count": 17,
     "metadata": {},
     "output_type": "execute_result"
    }
   ],
   "source": [
    "type(train['TransactionDates'][0][2:9])"
   ]
  },
  {
   "cell_type": "code",
   "execution_count": 18,
   "id": "2e84fa57-56be-4708-8327-5f55615b21b1",
   "metadata": {},
   "outputs": [
    {
     "data": {
      "text/html": [
       "<div>\n",
       "<style scoped>\n",
       "    .dataframe tbody tr th:only-of-type {\n",
       "        vertical-align: middle;\n",
       "    }\n",
       "\n",
       "    .dataframe tbody tr th {\n",
       "        vertical-align: top;\n",
       "    }\n",
       "\n",
       "    .dataframe thead th {\n",
       "        text-align: right;\n",
       "    }\n",
       "</style>\n",
       "<table border=\"1\" class=\"dataframe\">\n",
       "  <thead>\n",
       "    <tr style=\"text-align: right;\">\n",
       "      <th></th>\n",
       "      <th>ID</th>\n",
       "      <th>TransactionDates</th>\n",
       "      <th>PaymentsHistory</th>\n",
       "      <th>m1</th>\n",
       "      <th>m2</th>\n",
       "      <th>m3</th>\n",
       "      <th>m4</th>\n",
       "      <th>m5</th>\n",
       "      <th>m6</th>\n",
       "    </tr>\n",
       "  </thead>\n",
       "  <tbody>\n",
       "    <tr>\n",
       "      <th>0</th>\n",
       "      <td>ID_MR53LEX</td>\n",
       "      <td>['04-2018', '05-2018', '06-2018', '07-2018', '...</td>\n",
       "      <td>[3600.0, 750.0, 350.0, 65.0, 95.0, 135.0, 85.0...</td>\n",
       "      <td>880.0</td>\n",
       "      <td>930.0</td>\n",
       "      <td>495.0</td>\n",
       "      <td>715.0</td>\n",
       "      <td>220.0</td>\n",
       "      <td>385.0</td>\n",
       "    </tr>\n",
       "    <tr>\n",
       "      <th>1</th>\n",
       "      <td>ID_3D7NQUH</td>\n",
       "      <td>['04-2018', '05-2018', '06-2018', '07-2018', '...</td>\n",
       "      <td>[2940.0, 970.0, 380.0, 880.0, 385.0, 440.0, 11...</td>\n",
       "      <td>660.0</td>\n",
       "      <td>935.0</td>\n",
       "      <td>935.0</td>\n",
       "      <td>825.0</td>\n",
       "      <td>770.0</td>\n",
       "      <td>935.0</td>\n",
       "    </tr>\n",
       "    <tr>\n",
       "      <th>2</th>\n",
       "      <td>ID_0IWQNPI</td>\n",
       "      <td>['02-2020', '03-2020', '04-2020', '05-2020', '...</td>\n",
       "      <td>[2850.0, 1500.0, 1350.0, 610.0, 200.0, 250.0]</td>\n",
       "      <td>700.0</td>\n",
       "      <td>1350.0</td>\n",
       "      <td>1550.0</td>\n",
       "      <td>1400.0</td>\n",
       "      <td>1450.0</td>\n",
       "      <td>1200.0</td>\n",
       "    </tr>\n",
       "    <tr>\n",
       "      <th>3</th>\n",
       "      <td>ID_IY8SYB9</td>\n",
       "      <td>['09-2017', '10-2017', '11-2017', '12-2017', '...</td>\n",
       "      <td>[2200.0, 1420.0, 1180.0, 900.0, 1400.0, 780.0,...</td>\n",
       "      <td>580.0</td>\n",
       "      <td>480.0</td>\n",
       "      <td>800.0</td>\n",
       "      <td>1260.0</td>\n",
       "      <td>1650.0</td>\n",
       "      <td>530.0</td>\n",
       "    </tr>\n",
       "    <tr>\n",
       "      <th>4</th>\n",
       "      <td>ID_9XHL7VZ</td>\n",
       "      <td>['09-2017', '10-2017', '11-2017', '12-2017', '...</td>\n",
       "      <td>[2640.0, 910.0, 480.0, 280.0, 200.0, 180.0, 33...</td>\n",
       "      <td>40.0</td>\n",
       "      <td>440.0</td>\n",
       "      <td>460.0</td>\n",
       "      <td>360.0</td>\n",
       "      <td>80.0</td>\n",
       "      <td>330.0</td>\n",
       "    </tr>\n",
       "  </tbody>\n",
       "</table>\n",
       "</div>"
      ],
      "text/plain": [
       "           ID                                   TransactionDates  \\\n",
       "0  ID_MR53LEX  ['04-2018', '05-2018', '06-2018', '07-2018', '...   \n",
       "1  ID_3D7NQUH  ['04-2018', '05-2018', '06-2018', '07-2018', '...   \n",
       "2  ID_0IWQNPI  ['02-2020', '03-2020', '04-2020', '05-2020', '...   \n",
       "3  ID_IY8SYB9  ['09-2017', '10-2017', '11-2017', '12-2017', '...   \n",
       "4  ID_9XHL7VZ  ['09-2017', '10-2017', '11-2017', '12-2017', '...   \n",
       "\n",
       "                                     PaymentsHistory     m1      m2      m3  \\\n",
       "0  [3600.0, 750.0, 350.0, 65.0, 95.0, 135.0, 85.0...  880.0   930.0   495.0   \n",
       "1  [2940.0, 970.0, 380.0, 880.0, 385.0, 440.0, 11...  660.0   935.0   935.0   \n",
       "2      [2850.0, 1500.0, 1350.0, 610.0, 200.0, 250.0]  700.0  1350.0  1550.0   \n",
       "3  [2200.0, 1420.0, 1180.0, 900.0, 1400.0, 780.0,...  580.0   480.0   800.0   \n",
       "4  [2640.0, 910.0, 480.0, 280.0, 200.0, 180.0, 33...   40.0   440.0   460.0   \n",
       "\n",
       "       m4      m5      m6  \n",
       "0   715.0   220.0   385.0  \n",
       "1   825.0   770.0   935.0  \n",
       "2  1400.0  1450.0  1200.0  \n",
       "3  1260.0  1650.0   530.0  \n",
       "4   360.0    80.0   330.0  "
      ]
     },
     "execution_count": 18,
     "metadata": {},
     "output_type": "execute_result"
    }
   ],
   "source": [
    "train.head(5)"
   ]
  },
  {
   "cell_type": "code",
   "execution_count": null,
   "id": "17571395-8fb6-4fc5-9940-a442e722c0f5",
   "metadata": {},
   "outputs": [],
   "source": []
  },
  {
   "cell_type": "code",
   "execution_count": 19,
   "id": "00454f22-91de-4d0a-87bd-099fc0ed7ea3",
   "metadata": {},
   "outputs": [
    {
     "name": "stdout",
     "output_type": "stream",
     "text": [
      "<class 'pandas.core.frame.DataFrame'>\n",
      "RangeIndex: 28007 entries, 0 to 28006\n",
      "Data columns (total 9 columns):\n",
      " #   Column            Non-Null Count  Dtype  \n",
      "---  ------            --------------  -----  \n",
      " 0   ID                28007 non-null  object \n",
      " 1   TransactionDates  28007 non-null  object \n",
      " 2   PaymentsHistory   28007 non-null  object \n",
      " 3   m1                28007 non-null  float64\n",
      " 4   m2                28007 non-null  float64\n",
      " 5   m3                28007 non-null  float64\n",
      " 6   m4                28007 non-null  float64\n",
      " 7   m5                28007 non-null  float64\n",
      " 8   m6                28007 non-null  float64\n",
      "dtypes: float64(6), object(3)\n",
      "memory usage: 1.9+ MB\n"
     ]
    }
   ],
   "source": [
    "train.info()"
   ]
  },
  {
   "cell_type": "code",
   "execution_count": null,
   "id": "491b8fd4-cd9a-43bf-bf62-69f03e275e9d",
   "metadata": {},
   "outputs": [],
   "source": []
  },
  {
   "cell_type": "code",
   "execution_count": 20,
   "id": "e824718d-8794-4582-a152-04a82a4d8f71",
   "metadata": {},
   "outputs": [
    {
     "data": {
      "text/plain": [
       "'3600.0,'"
      ]
     },
     "execution_count": 20,
     "metadata": {},
     "output_type": "execute_result"
    }
   ],
   "source": [
    "train['PaymentsHistory'][0][1:8]"
   ]
  },
  {
   "cell_type": "code",
   "execution_count": 21,
   "id": "b0afe812-056e-433b-8e63-92a9490281f8",
   "metadata": {},
   "outputs": [
    {
     "name": "stdout",
     "output_type": "stream",
     "text": [
      "figure : '04-2018 -- > value : 3600.0 \n"
     ]
    }
   ],
   "source": [
    "(lambda x: print(\"figure : {} -- > value : {} \".format(x['TransactionDates'][0][1:9],x['PaymentsHistory'][0][1:7])))(train)"
   ]
  },
  {
   "cell_type": "code",
   "execution_count": 22,
   "id": "52f1227b-6ecb-4b10-88fc-b2509f46c337",
   "metadata": {},
   "outputs": [
    {
     "ename": "SyntaxError",
     "evalue": "invalid syntax (1008190745.py, line 1)",
     "output_type": "error",
     "traceback": [
      "\u001b[1;36m  Input \u001b[1;32mIn [22]\u001b[1;36m\u001b[0m\n\u001b[1;33m    for y in l\u001b[0m\n\u001b[1;37m              ^\u001b[0m\n\u001b[1;31mSyntaxError\u001b[0m\u001b[1;31m:\u001b[0m invalid syntax\n"
     ]
    }
   ],
   "source": [
    "for y in l\n",
    "    for x in train['TransactionDates'][0][2:9]:\n",
    "    print(x)"
   ]
  },
  {
   "cell_type": "code",
   "execution_count": 231,
   "id": "bf625404-3673-4fe0-a492-226d60486b56",
   "metadata": {},
   "outputs": [
    {
     "data": {
      "text/plain": [
       "7"
      ]
     },
     "execution_count": 231,
     "metadata": {},
     "output_type": "execute_result"
    }
   ],
   "source": [
    "len(train['TransactionDates'][0][2:9])"
   ]
  },
  {
   "cell_type": "code",
   "execution_count": 237,
   "id": "2c9250f3-de3a-401d-9080-9e17bad65366",
   "metadata": {},
   "outputs": [
    {
     "name": "stdout",
     "output_type": "stream",
     "text": [
      "04-2018\n",
      "04-2018\n",
      "04-2018\n",
      "04-2018\n",
      "04-2018\n",
      "04-2018\n",
      "04-2018\n",
      "04-2018\n",
      "04-2018\n",
      "04-2018\n"
     ]
    }
   ],
   "source": [
    "for x in range(10):\n",
    "    print(train['TransactionDates'][2][2:9])"
   ]
  },
  {
   "cell_type": "code",
   "execution_count": null,
   "id": "358bdcec-807d-4462-94f9-22bebade9b06",
   "metadata": {},
   "outputs": [],
   "source": []
  },
  {
   "cell_type": "code",
   "execution_count": null,
   "id": "ed7b0246-4880-439f-8493-72ab9cb66d7f",
   "metadata": {},
   "outputs": [],
   "source": []
  },
  {
   "cell_type": "code",
   "execution_count": null,
   "id": "c987bfc0-e810-44fa-bb63-4336219b8028",
   "metadata": {},
   "outputs": [],
   "source": []
  },
  {
   "cell_type": "code",
   "execution_count": 96,
   "id": "ff35a17b-4752-4293-beb2-6b5ee4fb214e",
   "metadata": {},
   "outputs": [
    {
     "data": {
      "text/plain": [
       "str"
      ]
     },
     "execution_count": 96,
     "metadata": {},
     "output_type": "execute_result"
    }
   ],
   "source": [
    "type(train['TransactionDates'][0])"
   ]
  },
  {
   "cell_type": "code",
   "execution_count": 23,
   "id": "0d4bef14-42b8-4b70-9c90-f6839adcf78c",
   "metadata": {},
   "outputs": [
    {
     "data": {
      "text/plain": [
       "array([\"['04-2018', '05-2018', '06-2018', '07-2018', '08-2018', '09-2018', '10-2018', '11-2018', '12-2018', '02-2019', '03-2019', '04-2019', '05-2019', '06-2019', '07-2019', '08-2019', '09-2019', '10-2019', '11-2019', '12-2019', '01-2020', '02-2020', '03-2020', '04-2020', '05-2020', '06-2020', '07-2020', '08-2020', '09-2020', '10-2020', '11-2020']\",\n",
       "       \"['04-2018', '05-2018', '06-2018', '07-2018', '08-2018', '11-2018', '12-2018', '01-2019', '02-2019', '03-2019', '04-2019', '05-2019', '06-2019', '07-2019', '08-2019', '09-2019', '10-2019', '11-2019', '12-2019', '01-2020', '02-2020', '03-2020', '04-2020', '05-2020', '06-2020', '07-2020', '08-2020', '09-2020', '10-2020', '11-2020']\",\n",
       "       \"['02-2020', '03-2020', '04-2020', '05-2020', '06-2020', '07-2020']\",\n",
       "       ...,\n",
       "       \"['01-2020', '02-2020', '03-2020', '04-2020', '05-2020', '06-2020', '07-2020', '08-2020', '09-2020']\",\n",
       "       \"['02-2018', '03-2018', '04-2018', '05-2018', '06-2018', '07-2018', '08-2018', '09-2018']\",\n",
       "       \"['09-2017', '10-2017', '11-2017', '12-2017', '01-2018', '02-2018', '03-2018', '04-2018', '05-2018', '06-2018']\"],\n",
       "      dtype=object)"
      ]
     },
     "execution_count": 23,
     "metadata": {},
     "output_type": "execute_result"
    }
   ],
   "source": [
    "train.TransactionDates.to_numpy()"
   ]
  },
  {
   "cell_type": "code",
   "execution_count": null,
   "id": "3808d800-bdba-40bb-ae98-a7265a14bc57",
   "metadata": {},
   "outputs": [],
   "source": []
  },
  {
   "cell_type": "code",
   "execution_count": null,
   "id": "41a6722a-bcf4-4f63-ab95-8c0eb7a3c560",
   "metadata": {},
   "outputs": [],
   "source": []
  },
  {
   "cell_type": "code",
   "execution_count": 24,
   "id": "20a122d1-da00-436c-ba92-0f9c19cd32a4",
   "metadata": {},
   "outputs": [
    {
     "data": {
      "text/plain": [
       "'02-2020'"
      ]
     },
     "execution_count": 24,
     "metadata": {},
     "output_type": "execute_result"
    }
   ],
   "source": [
    "train['TransactionDates'][2][2:9]"
   ]
  },
  {
   "cell_type": "code",
   "execution_count": 251,
   "id": "53b27198-b296-4f91-90fb-3c3d9ce5e7f9",
   "metadata": {},
   "outputs": [],
   "source": [
    "new_value = train.TransactionDates.to_list()"
   ]
  },
  {
   "cell_type": "code",
   "execution_count": 295,
   "id": "26259cb8-2e29-43ce-b856-72c996e72c53",
   "metadata": {},
   "outputs": [
    {
     "data": {
      "text/plain": [
       "0"
      ]
     },
     "execution_count": 295,
     "metadata": {},
     "output_type": "execute_result"
    }
   ],
   "source": [
    "len(new_value[0][2:9]) - len(new_value[0][13:20])"
   ]
  },
  {
   "cell_type": "code",
   "execution_count": 26,
   "id": "6812e783-66ac-4975-8fd1-6024982bb19d",
   "metadata": {},
   "outputs": [],
   "source": [
    "#(lambda x: x.TransactionDates.tolist())(train)"
   ]
  },
  {
   "cell_type": "code",
   "execution_count": 27,
   "id": "0ce97ad0-8a3b-4d73-842e-cad765f91d1a",
   "metadata": {},
   "outputs": [
    {
     "ename": "SyntaxError",
     "evalue": "invalid syntax (3102239365.py, line 1)",
     "output_type": "error",
     "traceback": [
      "\u001b[1;36m  Input \u001b[1;32mIn [27]\u001b[1;36m\u001b[0m\n\u001b[1;33m    (lambda x: x.TransactionDates[0][2:9] for a in range(2,35) b = a + 7 )(train)\u001b[0m\n\u001b[1;37m                                                               ^\u001b[0m\n\u001b[1;31mSyntaxError\u001b[0m\u001b[1;31m:\u001b[0m invalid syntax\n"
     ]
    }
   ],
   "source": [
    "(lambda x: x.TransactionDates[0][2:9] for a in range(2,35) b = a + 7 )(train)"
   ]
  },
  {
   "cell_type": "code",
   "execution_count": 28,
   "id": "4365434b-bf2b-4569-840c-ff5b24b745e6",
   "metadata": {},
   "outputs": [
    {
     "name": "stdout",
     "output_type": "stream",
     "text": [
      "04-2018\n",
      "4-2018', '05-2018\n",
      "-2018', '05-2018', '06-2018\n",
      "2018', '05-2018', '06-2018', '07-2018\n",
      "018', '05-2018', '06-2018', '07-2018', '08-2018\n",
      "18', '05-2018', '06-2018', '07-2018', '08-2018', '09-2018\n",
      "8', '05-2018', '06-2018', '07-2018', '08-2018', '09-2018', '10-2018\n",
      "', '05-2018', '06-2018', '07-2018', '08-2018', '09-2018', '10-2018', '11-2018\n",
      ", '05-2018', '06-2018', '07-2018', '08-2018', '09-2018', '10-2018', '11-2018', '12-2018\n",
      " '05-2018', '06-2018', '07-2018', '08-2018', '09-2018', '10-2018', '11-2018', '12-2018', '02-2019\n",
      "'05-2018', '06-2018', '07-2018', '08-2018', '09-2018', '10-2018', '11-2018', '12-2018', '02-2019', '03-2019\n",
      "05-2018', '06-2018', '07-2018', '08-2018', '09-2018', '10-2018', '11-2018', '12-2018', '02-2019', '03-2019', '04-2019\n",
      "5-2018', '06-2018', '07-2018', '08-2018', '09-2018', '10-2018', '11-2018', '12-2018', '02-2019', '03-2019', '04-2019', '05-2019\n",
      "-2018', '06-2018', '07-2018', '08-2018', '09-2018', '10-2018', '11-2018', '12-2018', '02-2019', '03-2019', '04-2019', '05-2019', '06-2019\n",
      "2018', '06-2018', '07-2018', '08-2018', '09-2018', '10-2018', '11-2018', '12-2018', '02-2019', '03-2019', '04-2019', '05-2019', '06-2019', '07-2019\n",
      "018', '06-2018', '07-2018', '08-2018', '09-2018', '10-2018', '11-2018', '12-2018', '02-2019', '03-2019', '04-2019', '05-2019', '06-2019', '07-2019', '08-2019\n",
      "18', '06-2018', '07-2018', '08-2018', '09-2018', '10-2018', '11-2018', '12-2018', '02-2019', '03-2019', '04-2019', '05-2019', '06-2019', '07-2019', '08-2019', '09-2019\n",
      "8', '06-2018', '07-2018', '08-2018', '09-2018', '10-2018', '11-2018', '12-2018', '02-2019', '03-2019', '04-2019', '05-2019', '06-2019', '07-2019', '08-2019', '09-2019', '10-2019\n",
      "', '06-2018', '07-2018', '08-2018', '09-2018', '10-2018', '11-2018', '12-2018', '02-2019', '03-2019', '04-2019', '05-2019', '06-2019', '07-2019', '08-2019', '09-2019', '10-2019', '11-2019\n",
      ", '06-2018', '07-2018', '08-2018', '09-2018', '10-2018', '11-2018', '12-2018', '02-2019', '03-2019', '04-2019', '05-2019', '06-2019', '07-2019', '08-2019', '09-2019', '10-2019', '11-2019', '12-2019\n",
      " '06-2018', '07-2018', '08-2018', '09-2018', '10-2018', '11-2018', '12-2018', '02-2019', '03-2019', '04-2019', '05-2019', '06-2019', '07-2019', '08-2019', '09-2019', '10-2019', '11-2019', '12-2019', '01-2020\n",
      "'06-2018', '07-2018', '08-2018', '09-2018', '10-2018', '11-2018', '12-2018', '02-2019', '03-2019', '04-2019', '05-2019', '06-2019', '07-2019', '08-2019', '09-2019', '10-2019', '11-2019', '12-2019', '01-2020', '02-2020\n",
      "06-2018', '07-2018', '08-2018', '09-2018', '10-2018', '11-2018', '12-2018', '02-2019', '03-2019', '04-2019', '05-2019', '06-2019', '07-2019', '08-2019', '09-2019', '10-2019', '11-2019', '12-2019', '01-2020', '02-2020', '03-2020\n",
      "6-2018', '07-2018', '08-2018', '09-2018', '10-2018', '11-2018', '12-2018', '02-2019', '03-2019', '04-2019', '05-2019', '06-2019', '07-2019', '08-2019', '09-2019', '10-2019', '11-2019', '12-2019', '01-2020', '02-2020', '03-2020', '04-2020\n",
      "-2018', '07-2018', '08-2018', '09-2018', '10-2018', '11-2018', '12-2018', '02-2019', '03-2019', '04-2019', '05-2019', '06-2019', '07-2019', '08-2019', '09-2019', '10-2019', '11-2019', '12-2019', '01-2020', '02-2020', '03-2020', '04-2020', '05-2020\n",
      "2018', '07-2018', '08-2018', '09-2018', '10-2018', '11-2018', '12-2018', '02-2019', '03-2019', '04-2019', '05-2019', '06-2019', '07-2019', '08-2019', '09-2019', '10-2019', '11-2019', '12-2019', '01-2020', '02-2020', '03-2020', '04-2020', '05-2020', '06-2020\n",
      "018', '07-2018', '08-2018', '09-2018', '10-2018', '11-2018', '12-2018', '02-2019', '03-2019', '04-2019', '05-2019', '06-2019', '07-2019', '08-2019', '09-2019', '10-2019', '11-2019', '12-2019', '01-2020', '02-2020', '03-2020', '04-2020', '05-2020', '06-2020', '07-2020\n",
      "18', '07-2018', '08-2018', '09-2018', '10-2018', '11-2018', '12-2018', '02-2019', '03-2019', '04-2019', '05-2019', '06-2019', '07-2019', '08-2019', '09-2019', '10-2019', '11-2019', '12-2019', '01-2020', '02-2020', '03-2020', '04-2020', '05-2020', '06-2020', '07-2020', '08-2020\n",
      "8', '07-2018', '08-2018', '09-2018', '10-2018', '11-2018', '12-2018', '02-2019', '03-2019', '04-2019', '05-2019', '06-2019', '07-2019', '08-2019', '09-2019', '10-2019', '11-2019', '12-2019', '01-2020', '02-2020', '03-2020', '04-2020', '05-2020', '06-2020', '07-2020', '08-2020', '09-2020\n",
      "', '07-2018', '08-2018', '09-2018', '10-2018', '11-2018', '12-2018', '02-2019', '03-2019', '04-2019', '05-2019', '06-2019', '07-2019', '08-2019', '09-2019', '10-2019', '11-2019', '12-2019', '01-2020', '02-2020', '03-2020', '04-2020', '05-2020', '06-2020', '07-2020', '08-2020', '09-2020', '10-2020\n",
      ", '07-2018', '08-2018', '09-2018', '10-2018', '11-2018', '12-2018', '02-2019', '03-2019', '04-2019', '05-2019', '06-2019', '07-2019', '08-2019', '09-2019', '10-2019', '11-2019', '12-2019', '01-2020', '02-2020', '03-2020', '04-2020', '05-2020', '06-2020', '07-2020', '08-2020', '09-2020', '10-2020', '11-2020\n",
      " '07-2018', '08-2018', '09-2018', '10-2018', '11-2018', '12-2018', '02-2019', '03-2019', '04-2019', '05-2019', '06-2019', '07-2019', '08-2019', '09-2019', '10-2019', '11-2019', '12-2019', '01-2020', '02-2020', '03-2020', '04-2020', '05-2020', '06-2020', '07-2020', '08-2020', '09-2020', '10-2020', '11-2020']\n",
      "'07-2018', '08-2018', '09-2018', '10-2018', '11-2018', '12-2018', '02-2019', '03-2019', '04-2019', '05-2019', '06-2019', '07-2019', '08-2019', '09-2019', '10-2019', '11-2019', '12-2019', '01-2020', '02-2020', '03-2020', '04-2020', '05-2020', '06-2020', '07-2020', '08-2020', '09-2020', '10-2020', '11-2020']\n"
     ]
    }
   ],
   "source": [
    "jo = []\n",
    "b = 9\n",
    "for a in range(2,35):\n",
    "    print(train['TransactionDates'][0][a:b])\n",
    "    a +=11\n",
    "    b += 11"
   ]
  },
  {
   "cell_type": "code",
   "execution_count": null,
   "id": "c345339a-7f7c-4d7b-a8ac-4d9cbb07f043",
   "metadata": {},
   "outputs": [],
   "source": []
  },
  {
   "cell_type": "code",
   "execution_count": null,
   "id": "bd765e02-02ff-4654-908e-2644199fa7c4",
   "metadata": {},
   "outputs": [],
   "source": []
  },
  {
   "cell_type": "code",
   "execution_count": null,
   "id": "79d93057-8c03-4f03-af73-a7fef482d361",
   "metadata": {},
   "outputs": [],
   "source": []
  },
  {
   "cell_type": "code",
   "execution_count": 298,
   "id": "803ec7d7-2f5b-4167-900c-c8a70096d58a",
   "metadata": {},
   "outputs": [
    {
     "data": {
      "text/plain": [
       "'04-2018'"
      ]
     },
     "execution_count": 298,
     "metadata": {},
     "output_type": "execute_result"
    }
   ],
   "source": [
    "new_value[0][2:9],new_value[0][:9]"
   ]
  },
  {
   "cell_type": "code",
   "execution_count": 299,
   "id": "dff12f24-f7eb-4804-9836-0770244eccaa",
   "metadata": {},
   "outputs": [
    {
     "data": {
      "text/plain": [
       "'05-2018'"
      ]
     },
     "execution_count": 299,
     "metadata": {},
     "output_type": "execute_result"
    }
   ],
   "source": [
    "new_value[0][13:20]"
   ]
  },
  {
   "cell_type": "code",
   "execution_count": 289,
   "id": "a0e30e20-a0b1-46b0-9e5e-c4a59fcf50e3",
   "metadata": {},
   "outputs": [
    {
     "data": {
      "text/plain": [
       "7"
      ]
     },
     "execution_count": 289,
     "metadata": {},
     "output_type": "execute_result"
    }
   ],
   "source": [
    "len(new_value[2][24:31])"
   ]
  },
  {
   "cell_type": "code",
   "execution_count": 285,
   "id": "b0e00270-a8aa-4ab7-8ccd-7766f73aa705",
   "metadata": {},
   "outputs": [
    {
     "data": {
      "text/plain": [
       "'07-2018'"
      ]
     },
     "execution_count": 285,
     "metadata": {},
     "output_type": "execute_result"
    }
   ],
   "source": [
    "len(new_value[3][35:42])"
   ]
  },
  {
   "cell_type": "code",
   "execution_count": 290,
   "id": "456efc83-7f46-4cc9-833d-c4a43b8386e1",
   "metadata": {},
   "outputs": [
    {
     "data": {
      "text/plain": [
       "7"
      ]
     },
     "execution_count": 290,
     "metadata": {},
     "output_type": "execute_result"
    }
   ],
   "source": [
    "len(new_value[4][46:53])"
   ]
  },
  {
   "cell_type": "code",
   "execution_count": null,
   "id": "b8618853-08b5-425a-bbd8-04bb4690ee96",
   "metadata": {},
   "outputs": [],
   "source": []
  },
  {
   "cell_type": "code",
   "execution_count": null,
   "id": "562d3b22-4675-4fb5-b72f-a726d76778da",
   "metadata": {},
   "outputs": [],
   "source": []
  },
  {
   "cell_type": "code",
   "execution_count": null,
   "id": "05e086ac-9ca1-41f0-9eea-6ebff3827a3c",
   "metadata": {},
   "outputs": [],
   "source": []
  },
  {
   "cell_type": "code",
   "execution_count": null,
   "id": "143bcd0c-cdbe-4edb-a018-9b5520535198",
   "metadata": {},
   "outputs": [],
   "source": []
  },
  {
   "cell_type": "code",
   "execution_count": null,
   "id": "cf8edf96-c85b-4624-a24e-befd72cee334",
   "metadata": {},
   "outputs": [],
   "source": []
  },
  {
   "cell_type": "code",
   "execution_count": null,
   "id": "70f9c0a3-350c-4644-90e7-743bb89bbc6a",
   "metadata": {},
   "outputs": [],
   "source": []
  },
  {
   "cell_type": "code",
   "execution_count": null,
   "id": "87fdc929-5c7e-4b8d-8fee-6aa592af02c1",
   "metadata": {},
   "outputs": [],
   "source": []
  },
  {
   "cell_type": "code",
   "execution_count": null,
   "id": "7dc4899e-2821-4793-b68b-9d6110c0ec3e",
   "metadata": {},
   "outputs": [],
   "source": []
  },
  {
   "cell_type": "code",
   "execution_count": null,
   "id": "63f800ec-8763-44d7-9ec9-17fefda1dc6f",
   "metadata": {},
   "outputs": [],
   "source": []
  },
  {
   "cell_type": "code",
   "execution_count": null,
   "id": "c9cda477-ca65-4e4a-87ed-c2861d172ee1",
   "metadata": {},
   "outputs": [],
   "source": []
  },
  {
   "cell_type": "code",
   "execution_count": null,
   "id": "8cf6bb71-b6d3-4e95-9b25-d709cf9fb3e7",
   "metadata": {},
   "outputs": [],
   "source": []
  },
  {
   "cell_type": "code",
   "execution_count": 147,
   "id": "0e2f212a-fd5d-4f27-8766-f940f596fa66",
   "metadata": {},
   "outputs": [
    {
     "ename": "TypeError",
     "evalue": "replace expected at least 2 arguments, got 1",
     "output_type": "error",
     "traceback": [
      "\u001b[1;31m---------------------------------------------------------------------------\u001b[0m",
      "\u001b[1;31mTypeError\u001b[0m                                 Traceback (most recent call last)",
      "Input \u001b[1;32mIn [147]\u001b[0m, in \u001b[0;36m<cell line: 1>\u001b[1;34m()\u001b[0m\n\u001b[1;32m----> 1\u001b[0m \u001b[38;5;28;43mstr\u001b[39;49m\u001b[38;5;241;43m.\u001b[39;49m\u001b[43mreplace\u001b[49m\u001b[43m(\u001b[49m\u001b[38;5;124;43m\"\u001b[39;49m\u001b[38;5;124;43m\"\u001b[39;49m\u001b[43m,\u001b[49m\u001b[38;5;124;43m'\u001b[39;49m\u001b[38;5;124;43m'\u001b[39;49m\u001b[43m)\u001b[49m\n",
      "\u001b[1;31mTypeError\u001b[0m: replace expected at least 2 arguments, got 1"
     ]
    }
   ],
   "source": [
    "str.replace(\"\",'')"
   ]
  },
  {
   "cell_type": "code",
   "execution_count": 180,
   "id": "05b6a661-6c30-4b75-baf4-086eebacfc98",
   "metadata": {},
   "outputs": [
    {
     "name": "stdout",
     "output_type": "stream",
     "text": [
      "['04-2018', '05-2018', '06-2018', '07-2018', '08-2018', '09-2018', '10-2018', '11-2018', '12-2018', '02-2019', '03-2019', '04-2019', '05-2019', '06-2019', '07-2019', '08-2019', '09-2019', '10-2019', '11-2019', '12-2019', '01-2020', '02-2020', '03-2020', '04-2020', '05-2020', '06-2020', '07-2020', '08-2020', '09-2020', '10-2020', '11-2020']\n"
     ]
    },
    {
     "ename": "TypeError",
     "evalue": "'NoneType' object is not iterable",
     "output_type": "error",
     "traceback": [
      "\u001b[1;31m---------------------------------------------------------------------------\u001b[0m",
      "\u001b[1;31mTypeError\u001b[0m                                 Traceback (most recent call last)",
      "Input \u001b[1;32mIn [180]\u001b[0m, in \u001b[0;36m<cell line: 1>\u001b[1;34m()\u001b[0m\n\u001b[1;32m----> 1\u001b[0m \u001b[38;5;28;43mlist\u001b[39;49m\u001b[43m(\u001b[49m\u001b[43m(\u001b[49m\u001b[38;5;28;43;01mlambda\u001b[39;49;00m\u001b[43m \u001b[49m\u001b[43mx\u001b[49m\u001b[43m:\u001b[49m\u001b[43m \u001b[49m\u001b[38;5;28;43mprint\u001b[39;49m\u001b[43m(\u001b[49m\u001b[43mx\u001b[49m\u001b[43m[\u001b[49m\u001b[38;5;124;43m'\u001b[39;49m\u001b[38;5;124;43mTransactionDates\u001b[39;49m\u001b[38;5;124;43m'\u001b[39;49m\u001b[43m]\u001b[49m\u001b[43m[\u001b[49m\u001b[38;5;241;43m0\u001b[39;49m\u001b[43m]\u001b[49m\u001b[43m)\u001b[49m\u001b[43m)\u001b[49m\u001b[43m(\u001b[49m\u001b[43mtrain\u001b[49m\u001b[43m)\u001b[49m\u001b[43m)\u001b[49m\n",
      "\u001b[1;31mTypeError\u001b[0m: 'NoneType' object is not iterable"
     ]
    }
   ],
   "source": [
    "list((lambda x: print(x['TransactionDates'][0]))(train))\n"
   ]
  },
  {
   "cell_type": "code",
   "execution_count": 177,
   "id": "050fc920-eca8-4c23-8a3a-1f3a3e77ca6b",
   "metadata": {},
   "outputs": [
    {
     "data": {
      "text/plain": [
       "\"'04-2018'\""
      ]
     },
     "execution_count": 177,
     "metadata": {},
     "output_type": "execute_result"
    }
   ],
   "source": [
    "new_value = []\n",
    "(lambda x: x['TransactionDates'][0][1:10])(train)"
   ]
  },
  {
   "cell_type": "code",
   "execution_count": 109,
   "id": "94b5acf6-1367-4333-a59e-bb45520ce7c1",
   "metadata": {},
   "outputs": [
    {
     "data": {
      "text/plain": [
       "\"['04-2018', '05-2018', '06-2018', '07-2018', '08-2018', '09-2018', '10-2018', '11-2018', '12-2018', '02-2019', '03-2019', '04-2019', '05-2019', '06-2019', '07-2019', '08-2019', '09-2019', '10-2019', '11-2019', '12-2019', '01-2020', '02-2020', '03-2020', '04-2020', '05-2020', '06-2020', '07-2020', '08-2020', '09-2020', '10-2020', '11-2020']\""
      ]
     },
     "execution_count": 109,
     "metadata": {},
     "output_type": "execute_result"
    }
   ],
   "source": [
    "train['TransactionDates'][0]"
   ]
  },
  {
   "cell_type": "code",
   "execution_count": 167,
   "id": "51a49c54-53a0-4ed6-83ab-868ef1d46af3",
   "metadata": {},
   "outputs": [
    {
     "data": {
      "text/plain": [
       "\"'04-2018'\""
      ]
     },
     "execution_count": 167,
     "metadata": {},
     "output_type": "execute_result"
    }
   ],
   "source": [
    "#new = []\n",
    "#train['TransactionDates'][0][1:10].replace(\"''\",'_')"
   ]
  },
  {
   "cell_type": "code",
   "execution_count": 19,
   "id": "3a0bb549-a5cf-4171-990e-1c9cb70b3d31",
   "metadata": {},
   "outputs": [],
   "source": [
    "#for x,y in enumerate(train['TransactionDates'][0]):\n",
    "   # print(x)\n",
    "   # print(y)"
   ]
  },
  {
   "cell_type": "code",
   "execution_count": null,
   "id": "16b846e7-ed81-4f52-b02b-470e1772b4c4",
   "metadata": {},
   "outputs": [],
   "source": []
  },
  {
   "cell_type": "code",
   "execution_count": null,
   "id": "91ef8b9e-81c5-4248-bd02-69943229d0c4",
   "metadata": {},
   "outputs": [],
   "source": []
  },
  {
   "cell_type": "code",
   "execution_count": 45,
   "id": "1780ca89-746e-4f0d-91c8-0d7b20de39a3",
   "metadata": {},
   "outputs": [
    {
     "data": {
      "text/html": [
       "<div>\n",
       "<style scoped>\n",
       "    .dataframe tbody tr th:only-of-type {\n",
       "        vertical-align: middle;\n",
       "    }\n",
       "\n",
       "    .dataframe tbody tr th {\n",
       "        vertical-align: top;\n",
       "    }\n",
       "\n",
       "    .dataframe thead th {\n",
       "        text-align: right;\n",
       "    }\n",
       "</style>\n",
       "<table border=\"1\" class=\"dataframe\">\n",
       "  <thead>\n",
       "    <tr style=\"text-align: right;\">\n",
       "      <th></th>\n",
       "      <th>ID</th>\n",
       "      <th>TransactionDates</th>\n",
       "      <th>PaymentsHistory</th>\n",
       "    </tr>\n",
       "  </thead>\n",
       "  <tbody>\n",
       "    <tr>\n",
       "      <th>0</th>\n",
       "      <td>ID_6L67PAA</td>\n",
       "      <td>['12-2015', '01-2016', '02-2016', '03-2016', '...</td>\n",
       "      <td>[4000.0, 1050.0, 1050.0, 1050.0, 1050.0, 400.0]</td>\n",
       "    </tr>\n",
       "    <tr>\n",
       "      <th>1</th>\n",
       "      <td>ID_VJ80SX2</td>\n",
       "      <td>['12-2015', '01-2016', '02-2016', '03-2016', '...</td>\n",
       "      <td>[3000.0, 850.0, 750.0, 1500.0, 650.0, 1250.0, ...</td>\n",
       "    </tr>\n",
       "    <tr>\n",
       "      <th>2</th>\n",
       "      <td>ID_7OU9HLK</td>\n",
       "      <td>['12-2015', '01-2016', '03-2016', '05-2016', '...</td>\n",
       "      <td>[2400.0, 300.0, 500.0, 450.0, 675.0, 700.0, 87...</td>\n",
       "    </tr>\n",
       "    <tr>\n",
       "      <th>3</th>\n",
       "      <td>ID_WVWTPGK</td>\n",
       "      <td>['12-2015', '01-2016', '02-2016', '03-2016', '...</td>\n",
       "      <td>[4700.0, 1200.0, 950.0, 1200.0, 900.0, 1110.0,...</td>\n",
       "    </tr>\n",
       "    <tr>\n",
       "      <th>4</th>\n",
       "      <td>ID_04DSDQS</td>\n",
       "      <td>['12-2015', '01-2016', '02-2016', '03-2016', '...</td>\n",
       "      <td>[4800.0, 750.0, 995.0, 995.0, 1300.0, 750.0, 1...</td>\n",
       "    </tr>\n",
       "    <tr>\n",
       "      <th>...</th>\n",
       "      <td>...</td>\n",
       "      <td>...</td>\n",
       "      <td>...</td>\n",
       "    </tr>\n",
       "    <tr>\n",
       "      <th>28002</th>\n",
       "      <td>ID_CDZ24L9</td>\n",
       "      <td>['03-2018', '04-2018', '05-2018', '06-2018', '...</td>\n",
       "      <td>[5235.0, 1270.0, 940.0, 1370.0, 2020.0, 1750.0...</td>\n",
       "    </tr>\n",
       "    <tr>\n",
       "      <th>28003</th>\n",
       "      <td>ID_0XINELS</td>\n",
       "      <td>['02-2020', '03-2020', '04-2020', '05-2020', '...</td>\n",
       "      <td>[2980.0, 1000.0, 450.0, 1050.0, 850.0, 1250.0,...</td>\n",
       "    </tr>\n",
       "    <tr>\n",
       "      <th>28004</th>\n",
       "      <td>ID_PAU9JJU</td>\n",
       "      <td>['01-2020', '02-2020', '03-2020', '04-2020', '...</td>\n",
       "      <td>[2580.0, 1020.0, 540.0, 360.0, 200.0, 660.0, 1...</td>\n",
       "    </tr>\n",
       "    <tr>\n",
       "      <th>28005</th>\n",
       "      <td>ID_K866QHS</td>\n",
       "      <td>['02-2018', '03-2018', '04-2018', '05-2018', '...</td>\n",
       "      <td>[2000.0, 1160.0, 1240.0, 1120.0, 1000.0, 1200....</td>\n",
       "    </tr>\n",
       "    <tr>\n",
       "      <th>28006</th>\n",
       "      <td>ID_L485J6M</td>\n",
       "      <td>['09-2017', '10-2017', '11-2017', '12-2017', '...</td>\n",
       "      <td>[2910.0, 1050.0, 1200.0, 1240.0, 1000.0, 650.0...</td>\n",
       "    </tr>\n",
       "  </tbody>\n",
       "</table>\n",
       "<p>37343 rows × 3 columns</p>\n",
       "</div>"
      ],
      "text/plain": [
       "               ID                                   TransactionDates  \\\n",
       "0      ID_6L67PAA  ['12-2015', '01-2016', '02-2016', '03-2016', '...   \n",
       "1      ID_VJ80SX2  ['12-2015', '01-2016', '02-2016', '03-2016', '...   \n",
       "2      ID_7OU9HLK  ['12-2015', '01-2016', '03-2016', '05-2016', '...   \n",
       "3      ID_WVWTPGK  ['12-2015', '01-2016', '02-2016', '03-2016', '...   \n",
       "4      ID_04DSDQS  ['12-2015', '01-2016', '02-2016', '03-2016', '...   \n",
       "...           ...                                                ...   \n",
       "28002  ID_CDZ24L9  ['03-2018', '04-2018', '05-2018', '06-2018', '...   \n",
       "28003  ID_0XINELS  ['02-2020', '03-2020', '04-2020', '05-2020', '...   \n",
       "28004  ID_PAU9JJU  ['01-2020', '02-2020', '03-2020', '04-2020', '...   \n",
       "28005  ID_K866QHS  ['02-2018', '03-2018', '04-2018', '05-2018', '...   \n",
       "28006  ID_L485J6M  ['09-2017', '10-2017', '11-2017', '12-2017', '...   \n",
       "\n",
       "                                         PaymentsHistory  \n",
       "0        [4000.0, 1050.0, 1050.0, 1050.0, 1050.0, 400.0]  \n",
       "1      [3000.0, 850.0, 750.0, 1500.0, 650.0, 1250.0, ...  \n",
       "2      [2400.0, 300.0, 500.0, 450.0, 675.0, 700.0, 87...  \n",
       "3      [4700.0, 1200.0, 950.0, 1200.0, 900.0, 1110.0,...  \n",
       "4      [4800.0, 750.0, 995.0, 995.0, 1300.0, 750.0, 1...  \n",
       "...                                                  ...  \n",
       "28002  [5235.0, 1270.0, 940.0, 1370.0, 2020.0, 1750.0...  \n",
       "28003  [2980.0, 1000.0, 450.0, 1050.0, 850.0, 1250.0,...  \n",
       "28004  [2580.0, 1020.0, 540.0, 360.0, 200.0, 660.0, 1...  \n",
       "28005  [2000.0, 1160.0, 1240.0, 1120.0, 1000.0, 1200....  \n",
       "28006  [2910.0, 1050.0, 1200.0, 1240.0, 1000.0, 650.0...  \n",
       "\n",
       "[37343 rows x 3 columns]"
      ]
     },
     "execution_count": 45,
     "metadata": {},
     "output_type": "execute_result"
    }
   ],
   "source": [
    "#train_test2.apply"
   ]
  },
  {
   "cell_type": "code",
   "execution_count": 20,
   "id": "2c15ffd5-16e9-44fd-b1c6-0fa966156f4d",
   "metadata": {},
   "outputs": [],
   "source": [
    "#train_test2.isna().sum()"
   ]
  },
  {
   "cell_type": "code",
   "execution_count": 21,
   "id": "bb2be8cc-edee-4be4-ac19-867b953a18fb",
   "metadata": {},
   "outputs": [],
   "source": [
    "#train_test1.isna().sum()"
   ]
  },
  {
   "cell_type": "code",
   "execution_count": null,
   "id": "11698a74-14c1-4ba4-88fd-10bed8741a7d",
   "metadata": {},
   "outputs": [],
   "source": []
  },
  {
   "cell_type": "code",
   "execution_count": 33,
   "id": "f4afc44f-9e6e-4354-8d27-e4635b151d24",
   "metadata": {},
   "outputs": [
    {
     "name": "stdout",
     "output_type": "stream",
     "text": [
      "<class 'pandas.core.frame.DataFrame'>\n",
      "RangeIndex: 37343 entries, 0 to 37342\n",
      "Data columns (total 13 columns):\n",
      " #   Column               Non-Null Count  Dtype  \n",
      "---  ------               --------------  -----  \n",
      " 0   ID                   37343 non-null  object \n",
      " 1   Deposit              37343 non-null  int64  \n",
      " 2   PaymentMethod        37343 non-null  object \n",
      " 3   rateTypeEntity       37343 non-null  object \n",
      " 4   RatePerUnit          37343 non-null  int64  \n",
      " 5   DaysOnDeposit        37343 non-null  int64  \n",
      " 6   MainApplicantGender  37343 non-null  object \n",
      " 7   Age                  30404 non-null  float64\n",
      " 8   Occupation           37343 non-null  object \n",
      " 9   TotalContractValue   37343 non-null  float64\n",
      " 10  ExpectedTermDate     37343 non-null  object \n",
      " 11  FirstPaymentDate     37343 non-null  object \n",
      " 12  LastPaymentDate      37343 non-null  object \n",
      "dtypes: float64(2), int64(3), object(8)\n",
      "memory usage: 3.7+ MB\n"
     ]
    }
   ],
   "source": [
    "metada.info()"
   ]
  },
  {
   "cell_type": "code",
   "execution_count": 95,
   "id": "fa115819-408f-4d8e-b699-fb8158c557ca",
   "metadata": {},
   "outputs": [],
   "source": [
    "#metada = metada.astype({'Age':\"object\",'ExpectedTermDate':'datetime64','FirstPaymentDate':'datetime64','LastPaymentDate':'datetime64'},copy=True)"
   ]
  },
  {
   "cell_type": "code",
   "execution_count": 104,
   "id": "126ff7fe-3350-4b2d-9081-e17a813c0de1",
   "metadata": {},
   "outputs": [
    {
     "name": "stdout",
     "output_type": "stream",
     "text": [
      "<class 'pandas.core.frame.DataFrame'>\n",
      "RangeIndex: 37343 entries, 0 to 37342\n",
      "Data columns (total 10 columns):\n",
      " #   Column              Non-Null Count  Dtype         \n",
      "---  ------              --------------  -----         \n",
      " 0   ID                  37343 non-null  object        \n",
      " 1   Deposit             37343 non-null  int64         \n",
      " 2   rateTypeEntity      37343 non-null  object        \n",
      " 3   RatePerUnit         37343 non-null  int64         \n",
      " 4   DaysOnDeposit       37343 non-null  int64         \n",
      " 5   Occupation          37343 non-null  object        \n",
      " 6   TotalContractValue  37343 non-null  float64       \n",
      " 7   ExpectedTermDate    37343 non-null  datetime64[ns]\n",
      " 8   FirstPaymentDate    37343 non-null  datetime64[ns]\n",
      " 9   LastPaymentDate     37343 non-null  datetime64[ns]\n",
      "dtypes: datetime64[ns](3), float64(1), int64(3), object(3)\n",
      "memory usage: 2.8+ MB\n"
     ]
    }
   ],
   "source": [
    "#metada.drop(columns=['Age'],inplace=True)\n",
    "#metada.info()"
   ]
  },
  {
   "cell_type": "code",
   "execution_count": 102,
   "id": "9d2db601-b45e-4781-9331-d61ecbde01fb",
   "metadata": {},
   "outputs": [
    {
     "name": "stdout",
     "output_type": "stream",
     "text": [
      "<class 'pandas.core.frame.DataFrame'>\n",
      "RangeIndex: 37343 entries, 0 to 37342\n",
      "Data columns (total 11 columns):\n",
      " #   Column              Non-Null Count  Dtype         \n",
      "---  ------              --------------  -----         \n",
      " 0   ID                  37343 non-null  object        \n",
      " 1   Deposit             37343 non-null  int64         \n",
      " 2   rateTypeEntity      37343 non-null  object        \n",
      " 3   RatePerUnit         37343 non-null  int64         \n",
      " 4   DaysOnDeposit       37343 non-null  int64         \n",
      " 5   Age                 30404 non-null  object        \n",
      " 6   Occupation          37343 non-null  object        \n",
      " 7   TotalContractValue  37343 non-null  float64       \n",
      " 8   ExpectedTermDate    37343 non-null  datetime64[ns]\n",
      " 9   FirstPaymentDate    37343 non-null  datetime64[ns]\n",
      " 10  LastPaymentDate     37343 non-null  datetime64[ns]\n",
      "dtypes: datetime64[ns](3), float64(1), int64(3), object(4)\n",
      "memory usage: 3.1+ MB\n"
     ]
    }
   ],
   "source": [
    "#metada.info()"
   ]
  },
  {
   "cell_type": "code",
   "execution_count": 105,
   "id": "cd2ca24a-6988-4f8c-9ffb-de8afd6dc68f",
   "metadata": {},
   "outputs": [],
   "source": [
    "#drop some data\n",
    "#metada.drop(columns=['PaymentMethod','MainApplicantGender'],inplace=True)"
   ]
  },
  {
   "cell_type": "code",
   "execution_count": 23,
   "id": "08fb08b3-4627-463c-a395-953279f50eb2",
   "metadata": {},
   "outputs": [],
   "source": [
    "#metada"
   ]
  },
  {
   "cell_type": "code",
   "execution_count": 108,
   "id": "588f55d3-3c59-49c1-aee1-74300ae0ddb9",
   "metadata": {},
   "outputs": [
    {
     "data": {
      "text/html": [
       "<div>\n",
       "<style scoped>\n",
       "    .dataframe tbody tr th:only-of-type {\n",
       "        vertical-align: middle;\n",
       "    }\n",
       "\n",
       "    .dataframe tbody tr th {\n",
       "        vertical-align: top;\n",
       "    }\n",
       "\n",
       "    .dataframe thead th {\n",
       "        text-align: right;\n",
       "    }\n",
       "</style>\n",
       "<table border=\"1\" class=\"dataframe\">\n",
       "  <thead>\n",
       "    <tr style=\"text-align: right;\">\n",
       "      <th></th>\n",
       "      <th>ID</th>\n",
       "      <th>Deposit</th>\n",
       "      <th>rateTypeEntity</th>\n",
       "      <th>RatePerUnit</th>\n",
       "      <th>DaysOnDeposit</th>\n",
       "      <th>Occupation</th>\n",
       "      <th>TotalContractValue</th>\n",
       "      <th>ExpectedTermDate</th>\n",
       "      <th>FirstPaymentDate</th>\n",
       "      <th>LastPaymentDate</th>\n",
       "    </tr>\n",
       "  </thead>\n",
       "  <tbody>\n",
       "    <tr>\n",
       "      <th>0</th>\n",
       "      <td>ID_K00S4N4</td>\n",
       "      <td>2000</td>\n",
       "      <td>DAILY</td>\n",
       "      <td>35</td>\n",
       "      <td>7</td>\n",
       "      <td>Other</td>\n",
       "      <td>14740.0</td>\n",
       "      <td>2016-12-08 00:00:00</td>\n",
       "      <td>2015-12-10 09:52:35</td>\n",
       "      <td>2016-10-23 04:52:30</td>\n",
       "    </tr>\n",
       "    <tr>\n",
       "      <th>1</th>\n",
       "      <td>ID_6L67PAA</td>\n",
       "      <td>2000</td>\n",
       "      <td>DAILY</td>\n",
       "      <td>35</td>\n",
       "      <td>7</td>\n",
       "      <td>Other</td>\n",
       "      <td>14740.0</td>\n",
       "      <td>2016-12-07 00:00:00</td>\n",
       "      <td>2015-12-09 13:14:03</td>\n",
       "      <td>2020-05-24 15:32:18</td>\n",
       "    </tr>\n",
       "    <tr>\n",
       "      <th>2</th>\n",
       "      <td>ID_102CV85</td>\n",
       "      <td>2000</td>\n",
       "      <td>DAILY</td>\n",
       "      <td>35</td>\n",
       "      <td>7</td>\n",
       "      <td>Business</td>\n",
       "      <td>29480.0</td>\n",
       "      <td>2017-01-13 00:00:00</td>\n",
       "      <td>2015-12-18 06:22:34</td>\n",
       "      <td>2017-02-01 15:23:44</td>\n",
       "    </tr>\n",
       "    <tr>\n",
       "      <th>3</th>\n",
       "      <td>ID_HXBJFHB</td>\n",
       "      <td>2000</td>\n",
       "      <td>DAILY</td>\n",
       "      <td>35</td>\n",
       "      <td>7</td>\n",
       "      <td>Teacher</td>\n",
       "      <td>14740.0</td>\n",
       "      <td>2016-11-23 00:00:00</td>\n",
       "      <td>2015-11-25 13:25:57</td>\n",
       "      <td>2017-05-22 16:46:54</td>\n",
       "    </tr>\n",
       "    <tr>\n",
       "      <th>4</th>\n",
       "      <td>ID_3K9VZ5J</td>\n",
       "      <td>2000</td>\n",
       "      <td>DAILY</td>\n",
       "      <td>35</td>\n",
       "      <td>7</td>\n",
       "      <td>Other</td>\n",
       "      <td>14740.0</td>\n",
       "      <td>2016-11-30 00:00:00</td>\n",
       "      <td>2015-12-05 10:34:32</td>\n",
       "      <td>2017-05-12 16:50:52</td>\n",
       "    </tr>\n",
       "    <tr>\n",
       "      <th>...</th>\n",
       "      <td>...</td>\n",
       "      <td>...</td>\n",
       "      <td>...</td>\n",
       "      <td>...</td>\n",
       "      <td>...</td>\n",
       "      <td>...</td>\n",
       "      <td>...</td>\n",
       "      <td>...</td>\n",
       "      <td>...</td>\n",
       "      <td>...</td>\n",
       "    </tr>\n",
       "    <tr>\n",
       "      <th>37338</th>\n",
       "      <td>ID_OKJ96OW</td>\n",
       "      <td>2400</td>\n",
       "      <td>DAILY</td>\n",
       "      <td>50</td>\n",
       "      <td>3</td>\n",
       "      <td>Farmer</td>\n",
       "      <td>14400.0</td>\n",
       "      <td>2020-10-17 18:26:52</td>\n",
       "      <td>2020-02-20 18:26:58</td>\n",
       "      <td>2020-12-19 07:16:44</td>\n",
       "    </tr>\n",
       "    <tr>\n",
       "      <th>37339</th>\n",
       "      <td>ID_5J9OMUP</td>\n",
       "      <td>2400</td>\n",
       "      <td>DAILY</td>\n",
       "      <td>50</td>\n",
       "      <td>3</td>\n",
       "      <td>Labourer</td>\n",
       "      <td>14400.0</td>\n",
       "      <td>2020-10-17 18:30:59</td>\n",
       "      <td>2020-02-20 18:31:06</td>\n",
       "      <td>2021-05-18 16:07:49</td>\n",
       "    </tr>\n",
       "    <tr>\n",
       "      <th>37340</th>\n",
       "      <td>ID_J4I8Z2V</td>\n",
       "      <td>3000</td>\n",
       "      <td>DAILY</td>\n",
       "      <td>40</td>\n",
       "      <td>3</td>\n",
       "      <td>Teacher</td>\n",
       "      <td>16600.0</td>\n",
       "      <td>2021-01-25 18:42:26</td>\n",
       "      <td>2020-02-20 18:42:33</td>\n",
       "      <td>2021-04-21 15:59:37</td>\n",
       "    </tr>\n",
       "    <tr>\n",
       "      <th>37341</th>\n",
       "      <td>ID_GHHAQ9D</td>\n",
       "      <td>2400</td>\n",
       "      <td>DAILY</td>\n",
       "      <td>50</td>\n",
       "      <td>3</td>\n",
       "      <td>Labourer</td>\n",
       "      <td>14400.0</td>\n",
       "      <td>2020-10-17 18:46:30</td>\n",
       "      <td>2020-02-20 18:46:37</td>\n",
       "      <td>2021-04-24 19:06:01</td>\n",
       "    </tr>\n",
       "    <tr>\n",
       "      <th>37342</th>\n",
       "      <td>ID_PAI1FJK</td>\n",
       "      <td>2400</td>\n",
       "      <td>DAILY</td>\n",
       "      <td>50</td>\n",
       "      <td>3</td>\n",
       "      <td>Farmer</td>\n",
       "      <td>14400.0</td>\n",
       "      <td>2020-10-17 19:30:43</td>\n",
       "      <td>2020-02-20 19:30:49</td>\n",
       "      <td>2021-05-26 18:52:23</td>\n",
       "    </tr>\n",
       "  </tbody>\n",
       "</table>\n",
       "<p>37343 rows × 10 columns</p>\n",
       "</div>"
      ],
      "text/plain": [
       "               ID  Deposit rateTypeEntity  RatePerUnit  DaysOnDeposit  \\\n",
       "0      ID_K00S4N4     2000          DAILY           35              7   \n",
       "1      ID_6L67PAA     2000          DAILY           35              7   \n",
       "2      ID_102CV85     2000          DAILY           35              7   \n",
       "3      ID_HXBJFHB     2000          DAILY           35              7   \n",
       "4      ID_3K9VZ5J     2000          DAILY           35              7   \n",
       "...           ...      ...            ...          ...            ...   \n",
       "37338  ID_OKJ96OW     2400          DAILY           50              3   \n",
       "37339  ID_5J9OMUP     2400          DAILY           50              3   \n",
       "37340  ID_J4I8Z2V     3000          DAILY           40              3   \n",
       "37341  ID_GHHAQ9D     2400          DAILY           50              3   \n",
       "37342  ID_PAI1FJK     2400          DAILY           50              3   \n",
       "\n",
       "      Occupation  TotalContractValue    ExpectedTermDate    FirstPaymentDate  \\\n",
       "0          Other             14740.0 2016-12-08 00:00:00 2015-12-10 09:52:35   \n",
       "1          Other             14740.0 2016-12-07 00:00:00 2015-12-09 13:14:03   \n",
       "2       Business             29480.0 2017-01-13 00:00:00 2015-12-18 06:22:34   \n",
       "3        Teacher             14740.0 2016-11-23 00:00:00 2015-11-25 13:25:57   \n",
       "4          Other             14740.0 2016-11-30 00:00:00 2015-12-05 10:34:32   \n",
       "...          ...                 ...                 ...                 ...   \n",
       "37338     Farmer             14400.0 2020-10-17 18:26:52 2020-02-20 18:26:58   \n",
       "37339   Labourer             14400.0 2020-10-17 18:30:59 2020-02-20 18:31:06   \n",
       "37340    Teacher             16600.0 2021-01-25 18:42:26 2020-02-20 18:42:33   \n",
       "37341   Labourer             14400.0 2020-10-17 18:46:30 2020-02-20 18:46:37   \n",
       "37342     Farmer             14400.0 2020-10-17 19:30:43 2020-02-20 19:30:49   \n",
       "\n",
       "          LastPaymentDate  \n",
       "0     2016-10-23 04:52:30  \n",
       "1     2020-05-24 15:32:18  \n",
       "2     2017-02-01 15:23:44  \n",
       "3     2017-05-22 16:46:54  \n",
       "4     2017-05-12 16:50:52  \n",
       "...                   ...  \n",
       "37338 2020-12-19 07:16:44  \n",
       "37339 2021-05-18 16:07:49  \n",
       "37340 2021-04-21 15:59:37  \n",
       "37341 2021-04-24 19:06:01  \n",
       "37342 2021-05-26 18:52:23  \n",
       "\n",
       "[37343 rows x 10 columns]"
      ]
     },
     "execution_count": 108,
     "metadata": {},
     "output_type": "execute_result"
    }
   ],
   "source": [
    "metada.iloc[:,:]"
   ]
  },
  {
   "cell_type": "code",
   "execution_count": null,
   "id": "359a1e76-4110-4db8-ab63-22f8899a7a8e",
   "metadata": {},
   "outputs": [],
   "source": [
    "metada.isna()"
   ]
  },
  {
   "cell_type": "code",
   "execution_count": 84,
   "id": "53c44077-ced3-4665-8695-356d7d7352e8",
   "metadata": {},
   "outputs": [
    {
     "data": {
      "text/plain": [
       "ID                    37343\n",
       "Deposit               37343\n",
       "rateTypeEntity        37343\n",
       "RatePerUnit           37343\n",
       "DaysOnDeposit         37343\n",
       "Age                   30404\n",
       "Occupation            37343\n",
       "TotalContractValue    37343\n",
       "ExpectedTermDate      37343\n",
       "FirstPaymentDate      37343\n",
       "LastPaymentDate       37343\n",
       "dtype: int64"
      ]
     },
     "execution_count": 84,
     "metadata": {},
     "output_type": "execute_result"
    }
   ],
   "source": [
    "metada.notna().sum()"
   ]
  },
  {
   "cell_type": "code",
   "execution_count": 15,
   "id": "a0a23d41-8dd1-4403-8b7c-0d20ec477f7c",
   "metadata": {},
   "outputs": [
    {
     "data": {
      "text/plain": [
       "ID\n",
       "ID_001AMM9    [2200.0, 880.0, 500.0, 1300.0, 1100.0, 950.0, ...\n",
       "ID_001QJLW    [3590.0, 900.0, 100.0, 250.0, 55.0, 450.0, 150...\n",
       "ID_003DANQ    [2500.0, 1500.0, 900.0, 1100.0, 1120.0, 440.0,...\n",
       "ID_0047BAA       [2780.0, 865.0, 1000.0, 1200.0, 1260.0, 800.0]\n",
       "ID_004TCS0                [2900.0, 1060.0, 250.0, 400.0, 750.0]\n",
       "                                    ...                        \n",
       "ID_ZZTGOSW    [2620.0, 1040.0, 1185.0, 1055.0, 986.0, 1223.0...\n",
       "ID_ZZUF0T7    [3990.0, 1210.0, 605.0, 385.0, 935.0, 1320.0, ...\n",
       "ID_ZZVRQJY    [2660.0, 980.0, 1060.0, 130.0, 280.0, 820.0, 1...\n",
       "ID_ZZYFXQT               [2000.0, 1900.0, 400.0, 1160.0, 970.0]\n",
       "ID_ZZYZHG8    [2440.0, 1150.0, 400.0, 700.0, 560.0, 800.0, 7...\n",
       "Name: PaymentsHistory, Length: 28007, dtype: object"
      ]
     },
     "execution_count": 15,
     "metadata": {},
     "output_type": "execute_result"
    }
   ],
   "source": [
    "train.groupby('ID')['PaymentsHistory'].agg(max)"
   ]
  },
  {
   "cell_type": "code",
   "execution_count": null,
   "id": "5860df08-43c9-4813-bda0-bcc01a3a756e",
   "metadata": {},
   "outputs": [],
   "source": []
  },
  {
   "cell_type": "code",
   "execution_count": 49,
   "id": "5e46f5e9-efb5-4963-835f-49c480f15367",
   "metadata": {},
   "outputs": [
    {
     "data": {
      "text/plain": [
       "3600"
      ]
     },
     "execution_count": 49,
     "metadata": {},
     "output_type": "execute_result"
    }
   ],
   "source": [
    "int(train['PaymentsHistory'][0][1:5])"
   ]
  },
  {
   "cell_type": "code",
   "execution_count": null,
   "id": "6eeba21a-9414-4745-9b9f-9801d3c56f8a",
   "metadata": {},
   "outputs": [],
   "source": [
    "train['PaymentsHistory'][0].removeprefix(\"'\")"
   ]
  },
  {
   "cell_type": "code",
   "execution_count": 41,
   "id": "e59f5b90-749b-4a5b-83d8-bc2bc9e236c0",
   "metadata": {},
   "outputs": [],
   "source": [
    "them = []\n",
    "them.append(train.PaymentsHistory[0].removeprefix(\"[\").removesuffix(\"]\"))"
   ]
  },
  {
   "cell_type": "code",
   "execution_count": 42,
   "id": "fcbfb938-a2b2-47be-bcad-40c80705a947",
   "metadata": {},
   "outputs": [
    {
     "data": {
      "text/plain": [
       "list"
      ]
     },
     "execution_count": 42,
     "metadata": {},
     "output_type": "execute_result"
    }
   ],
   "source": [
    "type(them)"
   ]
  },
  {
   "cell_type": "code",
   "execution_count": 46,
   "id": "6660ab67-bc71-4ec6-aa02-aae26abdc0f2",
   "metadata": {},
   "outputs": [
    {
     "data": {
      "text/plain": [
       "'3600.0, 750.0, 350.0, 65.0, 95.0, 135.0, 85.0, 55.0, 345.0, 155.0, 55.0, 630.0, 585.0, 185.0, 440.0, 483.0, 660.0, 515.0, 292.0, 505.0, 210.0, 120.0, 260.0, 610.0, 230.0, 390.0, 660.0, 1200.0, 1320.0, 280.0, 770.0'"
      ]
     },
     "execution_count": 46,
     "metadata": {},
     "output_type": "execute_result"
    }
   ],
   "source": [
    "them[0]"
   ]
  },
  {
   "cell_type": "code",
   "execution_count": null,
   "id": "12c9cece-28a6-40a8-8679-5aae3b1945ea",
   "metadata": {},
   "outputs": [],
   "source": []
  },
  {
   "cell_type": "code",
   "execution_count": 27,
   "id": "fd3eda22-3f74-4d00-a3a6-07f854867208",
   "metadata": {},
   "outputs": [
    {
     "data": {
      "text/plain": [
       "'eyya'"
      ]
     },
     "execution_count": 27,
     "metadata": {},
     "output_type": "execute_result"
    }
   ],
   "source": [
    "'heyya'.removeprefix('h')"
   ]
  },
  {
   "cell_type": "code",
   "execution_count": 69,
   "id": "12ab9ff7-f043-4b83-b482-9a96d10f21fa",
   "metadata": {},
   "outputs": [
    {
     "data": {
      "text/html": [
       "<div>\n",
       "<style scoped>\n",
       "    .dataframe tbody tr th:only-of-type {\n",
       "        vertical-align: middle;\n",
       "    }\n",
       "\n",
       "    .dataframe tbody tr th {\n",
       "        vertical-align: top;\n",
       "    }\n",
       "\n",
       "    .dataframe thead th {\n",
       "        text-align: right;\n",
       "    }\n",
       "</style>\n",
       "<table border=\"1\" class=\"dataframe\">\n",
       "  <thead>\n",
       "    <tr style=\"text-align: right;\">\n",
       "      <th></th>\n",
       "      <th>ID</th>\n",
       "      <th>TransactionDates</th>\n",
       "      <th>PaymentsHistory</th>\n",
       "      <th>m1</th>\n",
       "      <th>m2</th>\n",
       "      <th>m3</th>\n",
       "      <th>m4</th>\n",
       "      <th>m5</th>\n",
       "      <th>m6</th>\n",
       "    </tr>\n",
       "  </thead>\n",
       "  <tbody>\n",
       "    <tr>\n",
       "      <th>0</th>\n",
       "      <td>ID_MR53LEX</td>\n",
       "      <td>['04-2018', '05-2018', '06-2018', '07-2018', '...</td>\n",
       "      <td>[3600.0, 750.0, 350.0, 65.0, 95.0, 135.0, 85.0...</td>\n",
       "      <td>880.0</td>\n",
       "      <td>930.0</td>\n",
       "      <td>495.0</td>\n",
       "      <td>715.0</td>\n",
       "      <td>220.0</td>\n",
       "      <td>385.0</td>\n",
       "    </tr>\n",
       "    <tr>\n",
       "      <th>1</th>\n",
       "      <td>ID_3D7NQUH</td>\n",
       "      <td>['04-2018', '05-2018', '06-2018', '07-2018', '...</td>\n",
       "      <td>[2940.0, 970.0, 380.0, 880.0, 385.0, 440.0, 11...</td>\n",
       "      <td>660.0</td>\n",
       "      <td>935.0</td>\n",
       "      <td>935.0</td>\n",
       "      <td>825.0</td>\n",
       "      <td>770.0</td>\n",
       "      <td>935.0</td>\n",
       "    </tr>\n",
       "    <tr>\n",
       "      <th>2</th>\n",
       "      <td>ID_0IWQNPI</td>\n",
       "      <td>['02-2020', '03-2020', '04-2020', '05-2020', '...</td>\n",
       "      <td>[2850.0, 1500.0, 1350.0, 610.0, 200.0, 250.0]</td>\n",
       "      <td>700.0</td>\n",
       "      <td>1350.0</td>\n",
       "      <td>1550.0</td>\n",
       "      <td>1400.0</td>\n",
       "      <td>1450.0</td>\n",
       "      <td>1200.0</td>\n",
       "    </tr>\n",
       "    <tr>\n",
       "      <th>3</th>\n",
       "      <td>ID_IY8SYB9</td>\n",
       "      <td>['09-2017', '10-2017', '11-2017', '12-2017', '...</td>\n",
       "      <td>[2200.0, 1420.0, 1180.0, 900.0, 1400.0, 780.0,...</td>\n",
       "      <td>580.0</td>\n",
       "      <td>480.0</td>\n",
       "      <td>800.0</td>\n",
       "      <td>1260.0</td>\n",
       "      <td>1650.0</td>\n",
       "      <td>530.0</td>\n",
       "    </tr>\n",
       "    <tr>\n",
       "      <th>4</th>\n",
       "      <td>ID_9XHL7VZ</td>\n",
       "      <td>['09-2017', '10-2017', '11-2017', '12-2017', '...</td>\n",
       "      <td>[2640.0, 910.0, 480.0, 280.0, 200.0, 180.0, 33...</td>\n",
       "      <td>40.0</td>\n",
       "      <td>440.0</td>\n",
       "      <td>460.0</td>\n",
       "      <td>360.0</td>\n",
       "      <td>80.0</td>\n",
       "      <td>330.0</td>\n",
       "    </tr>\n",
       "    <tr>\n",
       "      <th>...</th>\n",
       "      <td>...</td>\n",
       "      <td>...</td>\n",
       "      <td>...</td>\n",
       "      <td>...</td>\n",
       "      <td>...</td>\n",
       "      <td>...</td>\n",
       "      <td>...</td>\n",
       "      <td>...</td>\n",
       "      <td>...</td>\n",
       "    </tr>\n",
       "    <tr>\n",
       "      <th>28002</th>\n",
       "      <td>ID_CDZ24L9</td>\n",
       "      <td>['03-2018', '04-2018', '05-2018', '06-2018', '...</td>\n",
       "      <td>[5235.0, 1270.0, 940.0, 1370.0, 2020.0, 1750.0...</td>\n",
       "      <td>1640.0</td>\n",
       "      <td>1550.0</td>\n",
       "      <td>2045.0</td>\n",
       "      <td>850.0</td>\n",
       "      <td>1730.0</td>\n",
       "      <td>720.0</td>\n",
       "    </tr>\n",
       "    <tr>\n",
       "      <th>28003</th>\n",
       "      <td>ID_0XINELS</td>\n",
       "      <td>['02-2020', '03-2020', '04-2020', '05-2020', '...</td>\n",
       "      <td>[2980.0, 1000.0, 450.0, 1050.0, 850.0, 1250.0,...</td>\n",
       "      <td>900.0</td>\n",
       "      <td>950.0</td>\n",
       "      <td>650.0</td>\n",
       "      <td>750.0</td>\n",
       "      <td>1200.0</td>\n",
       "      <td>620.0</td>\n",
       "    </tr>\n",
       "    <tr>\n",
       "      <th>28004</th>\n",
       "      <td>ID_PAU9JJU</td>\n",
       "      <td>['01-2020', '02-2020', '03-2020', '04-2020', '...</td>\n",
       "      <td>[2580.0, 1020.0, 540.0, 360.0, 200.0, 660.0, 1...</td>\n",
       "      <td>680.0</td>\n",
       "      <td>460.0</td>\n",
       "      <td>799.0</td>\n",
       "      <td>1070.0</td>\n",
       "      <td>820.0</td>\n",
       "      <td>401.0</td>\n",
       "    </tr>\n",
       "    <tr>\n",
       "      <th>28005</th>\n",
       "      <td>ID_K866QHS</td>\n",
       "      <td>['02-2018', '03-2018', '04-2018', '05-2018', '...</td>\n",
       "      <td>[2000.0, 1160.0, 1240.0, 1120.0, 1000.0, 1200....</td>\n",
       "      <td>1300.0</td>\n",
       "      <td>1055.0</td>\n",
       "      <td>1200.0</td>\n",
       "      <td>1200.0</td>\n",
       "      <td>1080.0</td>\n",
       "      <td>800.0</td>\n",
       "    </tr>\n",
       "    <tr>\n",
       "      <th>28006</th>\n",
       "      <td>ID_L485J6M</td>\n",
       "      <td>['09-2017', '10-2017', '11-2017', '12-2017', '...</td>\n",
       "      <td>[2910.0, 1050.0, 1200.0, 1240.0, 1000.0, 650.0...</td>\n",
       "      <td>970.0</td>\n",
       "      <td>1080.0</td>\n",
       "      <td>960.0</td>\n",
       "      <td>840.0</td>\n",
       "      <td>1000.0</td>\n",
       "      <td>370.0</td>\n",
       "    </tr>\n",
       "  </tbody>\n",
       "</table>\n",
       "<p>28007 rows × 9 columns</p>\n",
       "</div>"
      ],
      "text/plain": [
       "               ID                                   TransactionDates  \\\n",
       "0      ID_MR53LEX  ['04-2018', '05-2018', '06-2018', '07-2018', '...   \n",
       "1      ID_3D7NQUH  ['04-2018', '05-2018', '06-2018', '07-2018', '...   \n",
       "2      ID_0IWQNPI  ['02-2020', '03-2020', '04-2020', '05-2020', '...   \n",
       "3      ID_IY8SYB9  ['09-2017', '10-2017', '11-2017', '12-2017', '...   \n",
       "4      ID_9XHL7VZ  ['09-2017', '10-2017', '11-2017', '12-2017', '...   \n",
       "...           ...                                                ...   \n",
       "28002  ID_CDZ24L9  ['03-2018', '04-2018', '05-2018', '06-2018', '...   \n",
       "28003  ID_0XINELS  ['02-2020', '03-2020', '04-2020', '05-2020', '...   \n",
       "28004  ID_PAU9JJU  ['01-2020', '02-2020', '03-2020', '04-2020', '...   \n",
       "28005  ID_K866QHS  ['02-2018', '03-2018', '04-2018', '05-2018', '...   \n",
       "28006  ID_L485J6M  ['09-2017', '10-2017', '11-2017', '12-2017', '...   \n",
       "\n",
       "                                         PaymentsHistory      m1      m2  \\\n",
       "0      [3600.0, 750.0, 350.0, 65.0, 95.0, 135.0, 85.0...   880.0   930.0   \n",
       "1      [2940.0, 970.0, 380.0, 880.0, 385.0, 440.0, 11...   660.0   935.0   \n",
       "2          [2850.0, 1500.0, 1350.0, 610.0, 200.0, 250.0]   700.0  1350.0   \n",
       "3      [2200.0, 1420.0, 1180.0, 900.0, 1400.0, 780.0,...   580.0   480.0   \n",
       "4      [2640.0, 910.0, 480.0, 280.0, 200.0, 180.0, 33...    40.0   440.0   \n",
       "...                                                  ...     ...     ...   \n",
       "28002  [5235.0, 1270.0, 940.0, 1370.0, 2020.0, 1750.0...  1640.0  1550.0   \n",
       "28003  [2980.0, 1000.0, 450.0, 1050.0, 850.0, 1250.0,...   900.0   950.0   \n",
       "28004  [2580.0, 1020.0, 540.0, 360.0, 200.0, 660.0, 1...   680.0   460.0   \n",
       "28005  [2000.0, 1160.0, 1240.0, 1120.0, 1000.0, 1200....  1300.0  1055.0   \n",
       "28006  [2910.0, 1050.0, 1200.0, 1240.0, 1000.0, 650.0...   970.0  1080.0   \n",
       "\n",
       "           m3      m4      m5      m6  \n",
       "0       495.0   715.0   220.0   385.0  \n",
       "1       935.0   825.0   770.0   935.0  \n",
       "2      1550.0  1400.0  1450.0  1200.0  \n",
       "3       800.0  1260.0  1650.0   530.0  \n",
       "4       460.0   360.0    80.0   330.0  \n",
       "...       ...     ...     ...     ...  \n",
       "28002  2045.0   850.0  1730.0   720.0  \n",
       "28003   650.0   750.0  1200.0   620.0  \n",
       "28004   799.0  1070.0   820.0   401.0  \n",
       "28005  1200.0  1200.0  1080.0   800.0  \n",
       "28006   960.0   840.0  1000.0   370.0  \n",
       "\n",
       "[28007 rows x 9 columns]"
      ]
     },
     "execution_count": 69,
     "metadata": {},
     "output_type": "execute_result"
    }
   ],
   "source": [
    "train"
   ]
  },
  {
   "cell_type": "code",
   "execution_count": null,
   "id": "8c502fcb-c272-4f7c-b533-6b0bd5d1f74a",
   "metadata": {},
   "outputs": [],
   "source": []
  },
  {
   "cell_type": "code",
   "execution_count": null,
   "id": "a6c7f389-4f8a-4e5a-af71-4d41b65b8d5f",
   "metadata": {},
   "outputs": [],
   "source": []
  },
  {
   "cell_type": "code",
   "execution_count": null,
   "id": "6ec41be9-e56c-4f69-8f74-08ac276fbee4",
   "metadata": {},
   "outputs": [],
   "source": []
  },
  {
   "cell_type": "code",
   "execution_count": 54,
   "id": "73f88d10-ecf3-46a7-af58-95f3a6620e27",
   "metadata": {},
   "outputs": [
    {
     "data": {
      "text/plain": [
       "'[3600.0, 750.0, 350.0, 65.0, 95.0, 135.0, 85.0, 55.0, 345.0, 155.0, 55.0, 630.0, 585.0, 185.0, 440.0, 483.0, 660.0, 515.0, 292.0, 505.0, 210.0, 120.0, 260.0, 610.0, 230.0, 390.0, 660.0, 1200.0, 1320.0, 280.0, 770.0]'"
      ]
     },
     "execution_count": 54,
     "metadata": {},
     "output_type": "execute_result"
    }
   ],
   "source": [
    "train['PaymentsHistory'][0]"
   ]
  },
  {
   "cell_type": "code",
   "execution_count": 56,
   "id": "41f66d3c-caff-48bb-bbf3-9d3c5aadf6d4",
   "metadata": {},
   "outputs": [
    {
     "data": {
      "text/plain": [
       "'3600.0'"
      ]
     },
     "execution_count": 56,
     "metadata": {},
     "output_type": "execute_result"
    }
   ],
   "source": [
    "train['PaymentsHistory'][0][1:7]"
   ]
  },
  {
   "cell_type": "code",
   "execution_count": 58,
   "id": "fc3f5dab-4053-4d2c-8825-1b12a0903f00",
   "metadata": {},
   "outputs": [
    {
     "data": {
      "text/plain": [
       "3600.0"
      ]
     },
     "execution_count": 58,
     "metadata": {},
     "output_type": "execute_result"
    }
   ],
   "source": [
    "float(train['PaymentsHistory'][0][1:7])"
   ]
  },
  {
   "cell_type": "code",
   "execution_count": 60,
   "id": "4a5b6aae-2f00-4801-87e2-18380a393bc0",
   "metadata": {},
   "outputs": [
    {
     "data": {
      "text/plain": [
       "750.0"
      ]
     },
     "execution_count": 60,
     "metadata": {},
     "output_type": "execute_result"
    }
   ],
   "source": [
    "float(train['PaymentsHistory'][0][9:12])"
   ]
  },
  {
   "cell_type": "code",
   "execution_count": 209,
   "id": "67a11101-fbe0-4720-b5dd-493d415f20d0",
   "metadata": {},
   "outputs": [
    {
     "data": {
      "text/plain": [
       "350.0"
      ]
     },
     "execution_count": 209,
     "metadata": {},
     "output_type": "execute_result"
    }
   ],
   "source": [
    "float(train['PaymentsHistory'][0][15:19])"
   ]
  },
  {
   "cell_type": "code",
   "execution_count": 77,
   "id": "93088c8e-c26c-4f8a-95cf-de646ef2865f",
   "metadata": {},
   "outputs": [
    {
     "data": {
      "text/plain": [
       "'65.0'"
      ]
     },
     "execution_count": 77,
     "metadata": {},
     "output_type": "execute_result"
    }
   ],
   "source": [
    "train['PaymentsHistory'][0][23:27]"
   ]
  },
  {
   "cell_type": "code",
   "execution_count": 113,
   "id": "fc69c099-ac49-47cf-8c7d-aa7ff2697371",
   "metadata": {},
   "outputs": [
    {
     "data": {
      "text/plain": [
       "'95.0'"
      ]
     },
     "execution_count": 113,
     "metadata": {},
     "output_type": "execute_result"
    }
   ],
   "source": [
    "train['PaymentsHistory'][0][29:33]"
   ]
  },
  {
   "cell_type": "code",
   "execution_count": 99,
   "id": "b546b212-1c23-450a-a29a-b52780e1609b",
   "metadata": {},
   "outputs": [
    {
     "data": {
      "text/plain": [
       "'135.0'"
      ]
     },
     "execution_count": 99,
     "metadata": {},
     "output_type": "execute_result"
    }
   ],
   "source": []
  },
  {
   "cell_type": "code",
   "execution_count": 117,
   "id": "f25ef93a-43ad-40c6-b690-ce1de321e6e7",
   "metadata": {},
   "outputs": [
    {
     "data": {
      "text/plain": [
       "'85.0'"
      ]
     },
     "execution_count": 117,
     "metadata": {},
     "output_type": "execute_result"
    }
   ],
   "source": [
    "train['PaymentsHistory'][0][42:46]"
   ]
  },
  {
   "cell_type": "code",
   "execution_count": 145,
   "id": "e382d041-c0db-4af8-9671-ee4e0c67834d",
   "metadata": {},
   "outputs": [
    {
     "data": {
      "text/plain": [
       "('55.0', '345.0', '155.0', '55.0')"
      ]
     },
     "execution_count": 145,
     "metadata": {},
     "output_type": "execute_result"
    }
   ],
   "source": [
    "train['PaymentsHistory'][0][48:52],train['PaymentsHistory'][0][54:59],train['PaymentsHistory'][0][61:66],train['PaymentsHistory'][0][68:72],"
   ]
  },
  {
   "cell_type": "code",
   "execution_count": 157,
   "id": "2cdcf818-c4c1-4280-a9fe-c0e7e4b8a4e3",
   "metadata": {},
   "outputs": [
    {
     "data": {
      "text/plain": [
       "('630.0', '585.0', '185.0', '440.0', '483.0')"
      ]
     },
     "execution_count": 157,
     "metadata": {},
     "output_type": "execute_result"
    }
   ],
   "source": [
    "train['PaymentsHistory'][0][74:79],train['PaymentsHistory'][0][81:86],train['PaymentsHistory'][0][88:93],train['PaymentsHistory'][0][95:100],train['PaymentsHistory'][0][102:107]"
   ]
  },
  {
   "cell_type": "code",
   "execution_count": 160,
   "id": "0f01d278-b999-4dfe-8a68-98f3210a8589",
   "metadata": {},
   "outputs": [
    {
     "data": {
      "text/plain": [
       "('660.0, ', '515.0, ', '292.0, ')"
      ]
     },
     "execution_count": 160,
     "metadata": {},
     "output_type": "execute_result"
    }
   ],
   "source": [
    "train['PaymentsHistory'][0][109:116],train['PaymentsHistory'][0][116:123],train['PaymentsHistory'][0][123:130]"
   ]
  },
  {
   "cell_type": "code",
   "execution_count": 172,
   "id": "88b9f76d-18a6-4484-8ad4-27f4609d3a78",
   "metadata": {},
   "outputs": [
    {
     "data": {
      "text/plain": [
       "('505.0, ', '210.0', '120.0,', '260.0,')"
      ]
     },
     "execution_count": 172,
     "metadata": {},
     "output_type": "execute_result"
    }
   ],
   "source": [
    "train['PaymentsHistory'][0][130:137],train['PaymentsHistory'][0][137:142],train['PaymentsHistory'][0][144:150],train['PaymentsHistory'][0][151:157]"
   ]
  },
  {
   "cell_type": "code",
   "execution_count": 178,
   "id": "fabe67f6-504b-4fd5-9263-7e64f2ab9e24",
   "metadata": {},
   "outputs": [
    {
     "data": {
      "text/plain": [
       "('610.0', '230.0', '390.0', '660.0')"
      ]
     },
     "execution_count": 178,
     "metadata": {},
     "output_type": "execute_result"
    }
   ],
   "source": [
    "train['PaymentsHistory'][0][158:163],train['PaymentsHistory'][0][165:170],train['PaymentsHistory'][0][172:177],train['PaymentsHistory'][0][179:184]"
   ]
  },
  {
   "cell_type": "code",
   "execution_count": 195,
   "id": "43e263e5-61ad-4ad2-bd23-61e7ecb82a71",
   "metadata": {},
   "outputs": [
    {
     "data": {
      "text/plain": [
       "('1200.0', '1320.0', '280.0', '770.0')"
      ]
     },
     "execution_count": 195,
     "metadata": {},
     "output_type": "execute_result"
    }
   ],
   "source": [
    "train['PaymentsHistory'][0][186:192],train['PaymentsHistory'][0][194:200],train['PaymentsHistory'][0][202:207],train['PaymentsHistory'][0][209:214]"
   ]
  },
  {
   "cell_type": "code",
   "execution_count": 205,
   "id": "def9e71e-b68f-404a-be7e-8feae2b4da9e",
   "metadata": {},
   "outputs": [
    {
     "data": {
      "text/plain": [
       "'ID_MR53LEX'"
      ]
     },
     "execution_count": 205,
     "metadata": {},
     "output_type": "execute_result"
    }
   ],
   "source": [
    "train['ID'][0]"
   ]
  },
  {
   "cell_type": "code",
   "execution_count": 657,
   "id": "4c86fa26-6778-4c05-a20b-b787e9813d1a",
   "metadata": {},
   "outputs": [
    {
     "ename": "IndentationError",
     "evalue": "unexpected indent (2417249807.py, line 5)",
     "output_type": "error",
     "traceback": [
      "\u001b[1;36m  Input \u001b[1;32mIn [657]\u001b[1;36m\u001b[0m\n\u001b[1;33m    float(train['PaymentsHistory'][x][9:12]),\u001b[0m\n\u001b[1;37m    ^\u001b[0m\n\u001b[1;31mIndentationError\u001b[0m\u001b[1;31m:\u001b[0m unexpected indent\n"
     ]
    }
   ],
   "source": [
    "#train_dict = {}\n",
    "\n",
    "#for x in range(0,len(train['PaymentsHistory'][0])):\n",
    "          #  train_dict = {train['ID'][x]:[float(train['PaymentsHistory'][x][1:7]),\n",
    "                                          float(train['PaymentsHistory'][x][9:12]),\n",
    "                                          float(train['PaymentsHistory'][x][15:19]),\n",
    "                                          float(train['PaymentsHistory'][x][23:27]),\n",
    "                                          float(train['PaymentsHistory'][x][29:33]),\n",
    "                                          float(train['PaymentsHistory'][x][29:33]),\n",
    "                                          float(train['PaymentsHistory'][x][35:40]),\n",
    "                                          float(train['PaymentsHistory'][x][42:46]),\n",
    "                                          float(train['PaymentsHistory'][x][48:52]),\n",
    "                                          float(train['PaymentsHistory'][x][54:59]),\n",
    "                                          float(train['PaymentsHistory'][x][61:66]),\n",
    "                                          float(train['PaymentsHistory'][x][68:72]),\n",
    "                                          float(train['PaymentsHistory'][x][74:79]),\n",
    "                                          float(train['PaymentsHistory'][x][81:86]),\n",
    "                                          float(train['PaymentsHistory'][x][88:93]),\n",
    "                                          float(train['PaymentsHistory'][x][95:100]),\n",
    "                                          float(train['PaymentsHistory'][x][102:107]),\n",
    "                                          float(train['PaymentsHistory'][x][109:114]),\n",
    "                                          float(train['PaymentsHistory'][x][116:121]),\n",
    "                                          float(train['PaymentsHistory'][x][123:128]),\n",
    "                                          float(train['PaymentsHistory'][x][130:135]),\n",
    "                                          float(train['PaymentsHistory'][x][137:142]),\n",
    "                                          float(train['PaymentsHistory'][x][144:148]),\n",
    "                                          float(train['PaymentsHistory'][x][151:155]),\n",
    "                                          float(train['PaymentsHistory'][x][158:163]),\n",
    "                                          float(train['PaymentsHistory'][x][165:170]),\n",
    "                                          float(train['PaymentsHistory'][x][172:177]),\n",
    "                                          float(train['PaymentsHistory'][x][179:184]),\n",
    "                                          float(train['PaymentsHistory'][x][186:192]),\n",
    "                                          float(train['PaymentsHistory'][x][194:200]),\n",
    "                                          float(train['PaymentsHistory'][x][202:207]),\n",
    "                                          #float(train['PaymentsHistory'][x][209:214])]} \n",
    "        "
   ]
  },
  {
   "cell_type": "code",
   "execution_count": null,
   "id": "248992d3-6559-44e6-acec-5106e8d4557b",
   "metadata": {},
   "outputs": [],
   "source": []
  },
  {
   "cell_type": "code",
   "execution_count": null,
   "id": "6985ceb1-6334-4daf-86f4-fa3231e69e25",
   "metadata": {},
   "outputs": [],
   "source": []
  },
  {
   "cell_type": "code",
   "execution_count": 258,
   "id": "0f4a2d6e-9107-4cea-963e-ef38ffbf2ae7",
   "metadata": {},
   "outputs": [
    {
     "data": {
      "text/plain": [
       "{}"
      ]
     },
     "execution_count": 258,
     "metadata": {},
     "output_type": "execute_result"
    }
   ],
   "source": [
    "train_dict\n"
   ]
  },
  {
   "cell_type": "code",
   "execution_count": 254,
   "id": "4d747410-a066-430c-8cee-64a98a7ae468",
   "metadata": {},
   "outputs": [
    {
     "data": {
      "text/plain": [
       "'[3600.0, 750.0, 350.0, 65.0, 95.0, 135.0, 85.0, 55.0, 345.0, 155.0, 55.0, 630.0, 585.0, 185.0, 440.0, 483.0, 660.0, 515.0, 292.0, 505.0, 210.0, 120.0, 260.0, 610.0, 230.0, 390.0, 660.0, 1200.0, 1320.0, 280.0, 770.0]'"
      ]
     },
     "execution_count": 254,
     "metadata": {},
     "output_type": "execute_result"
    }
   ],
   "source": [
    "train['PaymentsHistory'][0]"
   ]
  },
  {
   "cell_type": "code",
   "execution_count": null,
   "id": "89951a34-778f-4d8a-944f-bcb7154a5d06",
   "metadata": {},
   "outputs": [],
   "source": []
  },
  {
   "cell_type": "code",
   "execution_count": null,
   "id": "da64cd45-1937-49d2-b426-ef0be6473a8b",
   "metadata": {},
   "outputs": [],
   "source": []
  },
  {
   "cell_type": "code",
   "execution_count": null,
   "id": "47a8648c-881e-4cd3-ad6a-fea4410fc368",
   "metadata": {},
   "outputs": [],
   "source": []
  },
  {
   "cell_type": "code",
   "execution_count": null,
   "id": "a8b0130f-8ebc-4a6b-8c2d-dedcc481c5bc",
   "metadata": {},
   "outputs": [],
   "source": []
  },
  {
   "cell_type": "code",
   "execution_count": 30,
   "id": "3d9595d4-64b1-4d68-a743-b8e20078d02f",
   "metadata": {},
   "outputs": [],
   "source": [
    "import re as rege"
   ]
  },
  {
   "cell_type": "code",
   "execution_count": null,
   "id": "afbcf27c-7d13-47f7-86a0-2c0ed19e6cc6",
   "metadata": {},
   "outputs": [],
   "source": []
  },
  {
   "cell_type": "code",
   "execution_count": null,
   "id": "8d1d9f10-6d84-4443-bce4-5188392084e1",
   "metadata": {},
   "outputs": [],
   "source": []
  },
  {
   "cell_type": "code",
   "execution_count": 309,
   "id": "cbb23a9a-ebd2-43d9-b2b9-1a0ee90ff9d4",
   "metadata": {},
   "outputs": [],
   "source": [
    "sentence = train['TransactionDates'][0]"
   ]
  },
  {
   "cell_type": "code",
   "execution_count": null,
   "id": "ae0005cb-7ad2-42e9-b145-46702f3c9a65",
   "metadata": {},
   "outputs": [],
   "source": []
  },
  {
   "cell_type": "code",
   "execution_count": null,
   "id": "d4b18691-57bc-47cd-8d30-f54babaf2c4b",
   "metadata": {},
   "outputs": [],
   "source": []
  },
  {
   "cell_type": "code",
   "execution_count": 315,
   "id": "6b84c1d6-c40e-4e5c-abfd-abfbbed75374",
   "metadata": {},
   "outputs": [
    {
     "data": {
      "text/plain": [
       "\"['04-2018', '05-2018', '06-2018', '07-2018', '08-2018', '09-2018', '10-2018', '11-2018', '12-2018', '02-2019', '03-2019', '04-2019', '05-2019', '06-2019', '07-2019', '08-2019', '09-2019', '10-2019', '11-2019', '12-2019', '01-2020', '02-2020', '03-2020', '04-2020', '05-2020', '06-2020', '07-2020', '08-2020', '09-2020', '10-2020', '11-2020']\""
      ]
     },
     "execution_count": 315,
     "metadata": {},
     "output_type": "execute_result"
    }
   ],
   "source": [
    "sentence"
   ]
  },
  {
   "cell_type": "code",
   "execution_count": 363,
   "id": "131f4334-9c66-4655-8193-02cb3952b79c",
   "metadata": {},
   "outputs": [],
   "source": [
    "#(lambda x: print(x) for b in range())(train['TransactionDates'])"
   ]
  },
  {
   "cell_type": "code",
   "execution_count": 397,
   "id": "abec45d9-42ba-4526-ab24-0140e59c427e",
   "metadata": {},
   "outputs": [],
   "source": [
    "\n",
    "a = {x:b for x,b in enumerate(train['TransactionDates'])}\n",
    "    "
   ]
  },
  {
   "cell_type": "code",
   "execution_count": 405,
   "id": "f2859450-6bc2-450a-9daa-e0aa978c7758",
   "metadata": {},
   "outputs": [],
   "source": [
    "#pd.DataFrame(a,index=range(len(train['TransactionDates'])))"
   ]
  },
  {
   "cell_type": "code",
   "execution_count": null,
   "id": "d299fed3-752d-41ef-b871-6be8b9317852",
   "metadata": {},
   "outputs": [],
   "source": []
  },
  {
   "cell_type": "code",
   "execution_count": null,
   "id": "17425948-ec17-4927-82b0-e7732642d383",
   "metadata": {},
   "outputs": [],
   "source": []
  },
  {
   "cell_type": "code",
   "execution_count": 32,
   "id": "4c8698d4-2ab2-4a41-9bc1-8174de16efc1",
   "metadata": {},
   "outputs": [],
   "source": [
    "# word with a such of the data to make it faster \n",
    "split_data= train.iloc[:200,:]"
   ]
  },
  {
   "cell_type": "code",
   "execution_count": 26,
   "id": "f4826a3d-919b-4e02-b2e5-3ef2cd407e71",
   "metadata": {},
   "outputs": [
    {
     "data": {
      "text/html": [
       "<div>\n",
       "<style scoped>\n",
       "    .dataframe tbody tr th:only-of-type {\n",
       "        vertical-align: middle;\n",
       "    }\n",
       "\n",
       "    .dataframe tbody tr th {\n",
       "        vertical-align: top;\n",
       "    }\n",
       "\n",
       "    .dataframe thead th {\n",
       "        text-align: right;\n",
       "    }\n",
       "</style>\n",
       "<table border=\"1\" class=\"dataframe\">\n",
       "  <thead>\n",
       "    <tr style=\"text-align: right;\">\n",
       "      <th></th>\n",
       "      <th>ID</th>\n",
       "      <th>TransactionDates</th>\n",
       "      <th>PaymentsHistory</th>\n",
       "      <th>m1</th>\n",
       "      <th>m2</th>\n",
       "      <th>m3</th>\n",
       "      <th>m4</th>\n",
       "      <th>m5</th>\n",
       "      <th>m6</th>\n",
       "    </tr>\n",
       "  </thead>\n",
       "  <tbody>\n",
       "    <tr>\n",
       "      <th>0</th>\n",
       "      <td>ID_MR53LEX</td>\n",
       "      <td>['04-2018', '05-2018', '06-2018', '07-2018', '...</td>\n",
       "      <td>[3600.0, 750.0, 350.0, 65.0, 95.0, 135.0, 85.0...</td>\n",
       "      <td>880.0</td>\n",
       "      <td>930.0</td>\n",
       "      <td>495.0</td>\n",
       "      <td>715.0</td>\n",
       "      <td>220.0</td>\n",
       "      <td>385.0</td>\n",
       "    </tr>\n",
       "    <tr>\n",
       "      <th>1</th>\n",
       "      <td>ID_3D7NQUH</td>\n",
       "      <td>['04-2018', '05-2018', '06-2018', '07-2018', '...</td>\n",
       "      <td>[2940.0, 970.0, 380.0, 880.0, 385.0, 440.0, 11...</td>\n",
       "      <td>660.0</td>\n",
       "      <td>935.0</td>\n",
       "      <td>935.0</td>\n",
       "      <td>825.0</td>\n",
       "      <td>770.0</td>\n",
       "      <td>935.0</td>\n",
       "    </tr>\n",
       "    <tr>\n",
       "      <th>2</th>\n",
       "      <td>ID_0IWQNPI</td>\n",
       "      <td>['02-2020', '03-2020', '04-2020', '05-2020', '...</td>\n",
       "      <td>[2850.0, 1500.0, 1350.0, 610.0, 200.0, 250.0]</td>\n",
       "      <td>700.0</td>\n",
       "      <td>1350.0</td>\n",
       "      <td>1550.0</td>\n",
       "      <td>1400.0</td>\n",
       "      <td>1450.0</td>\n",
       "      <td>1200.0</td>\n",
       "    </tr>\n",
       "    <tr>\n",
       "      <th>3</th>\n",
       "      <td>ID_IY8SYB9</td>\n",
       "      <td>['09-2017', '10-2017', '11-2017', '12-2017', '...</td>\n",
       "      <td>[2200.0, 1420.0, 1180.0, 900.0, 1400.0, 780.0,...</td>\n",
       "      <td>580.0</td>\n",
       "      <td>480.0</td>\n",
       "      <td>800.0</td>\n",
       "      <td>1260.0</td>\n",
       "      <td>1650.0</td>\n",
       "      <td>530.0</td>\n",
       "    </tr>\n",
       "    <tr>\n",
       "      <th>4</th>\n",
       "      <td>ID_9XHL7VZ</td>\n",
       "      <td>['09-2017', '10-2017', '11-2017', '12-2017', '...</td>\n",
       "      <td>[2640.0, 910.0, 480.0, 280.0, 200.0, 180.0, 33...</td>\n",
       "      <td>40.0</td>\n",
       "      <td>440.0</td>\n",
       "      <td>460.0</td>\n",
       "      <td>360.0</td>\n",
       "      <td>80.0</td>\n",
       "      <td>330.0</td>\n",
       "    </tr>\n",
       "    <tr>\n",
       "      <th>...</th>\n",
       "      <td>...</td>\n",
       "      <td>...</td>\n",
       "      <td>...</td>\n",
       "      <td>...</td>\n",
       "      <td>...</td>\n",
       "      <td>...</td>\n",
       "      <td>...</td>\n",
       "      <td>...</td>\n",
       "      <td>...</td>\n",
       "    </tr>\n",
       "    <tr>\n",
       "      <th>195</th>\n",
       "      <td>ID_SPD3JWB</td>\n",
       "      <td>['11-2017', '12-2017', '01-2018', '02-2018', '...</td>\n",
       "      <td>[2000.0, 1020.0, 80.0, 320.0, 690.0, 500.0, 62...</td>\n",
       "      <td>330.0</td>\n",
       "      <td>230.0</td>\n",
       "      <td>320.0</td>\n",
       "      <td>140.0</td>\n",
       "      <td>370.0</td>\n",
       "      <td>425.0</td>\n",
       "    </tr>\n",
       "    <tr>\n",
       "      <th>196</th>\n",
       "      <td>ID_W2MJXO2</td>\n",
       "      <td>['03-2018', '04-2018', '05-2018', '06-2018', '...</td>\n",
       "      <td>[3825.0, 1595.0, 1430.0, 1100.0, 165.0, 180.0,...</td>\n",
       "      <td>1560.0</td>\n",
       "      <td>1720.0</td>\n",
       "      <td>1098.0</td>\n",
       "      <td>1685.0</td>\n",
       "      <td>1520.0</td>\n",
       "      <td>1466.0</td>\n",
       "    </tr>\n",
       "    <tr>\n",
       "      <th>197</th>\n",
       "      <td>ID_A8DGE28</td>\n",
       "      <td>['03-2018', '04-2018', '05-2018', '06-2018', '...</td>\n",
       "      <td>[3944.0, 1200.0, 820.0, 204.0, 50.0, 70.0, 90....</td>\n",
       "      <td>385.0</td>\n",
       "      <td>770.0</td>\n",
       "      <td>219.0</td>\n",
       "      <td>605.0</td>\n",
       "      <td>400.0</td>\n",
       "      <td>110.0</td>\n",
       "    </tr>\n",
       "    <tr>\n",
       "      <th>198</th>\n",
       "      <td>ID_20XBZP3</td>\n",
       "      <td>['08-2017', '09-2017', '10-2017', '11-2017', '...</td>\n",
       "      <td>[2400.0, 1320.0, 1040.0, 1080.0, 1280.0, 1160....</td>\n",
       "      <td>1240.0</td>\n",
       "      <td>1160.0</td>\n",
       "      <td>1240.0</td>\n",
       "      <td>1160.0</td>\n",
       "      <td>1240.0</td>\n",
       "      <td>1120.0</td>\n",
       "    </tr>\n",
       "    <tr>\n",
       "      <th>199</th>\n",
       "      <td>ID_PJPNGSA</td>\n",
       "      <td>['08-2017', '09-2017', '10-2017', '11-2017', '...</td>\n",
       "      <td>[3200.0, 1200.0, 1200.0, 1200.0, 1200.0, 1200.0]</td>\n",
       "      <td>1200.0</td>\n",
       "      <td>1200.0</td>\n",
       "      <td>1200.0</td>\n",
       "      <td>1200.0</td>\n",
       "      <td>1200.0</td>\n",
       "      <td>1360.0</td>\n",
       "    </tr>\n",
       "  </tbody>\n",
       "</table>\n",
       "<p>200 rows × 9 columns</p>\n",
       "</div>"
      ],
      "text/plain": [
       "             ID                                   TransactionDates  \\\n",
       "0    ID_MR53LEX  ['04-2018', '05-2018', '06-2018', '07-2018', '...   \n",
       "1    ID_3D7NQUH  ['04-2018', '05-2018', '06-2018', '07-2018', '...   \n",
       "2    ID_0IWQNPI  ['02-2020', '03-2020', '04-2020', '05-2020', '...   \n",
       "3    ID_IY8SYB9  ['09-2017', '10-2017', '11-2017', '12-2017', '...   \n",
       "4    ID_9XHL7VZ  ['09-2017', '10-2017', '11-2017', '12-2017', '...   \n",
       "..          ...                                                ...   \n",
       "195  ID_SPD3JWB  ['11-2017', '12-2017', '01-2018', '02-2018', '...   \n",
       "196  ID_W2MJXO2  ['03-2018', '04-2018', '05-2018', '06-2018', '...   \n",
       "197  ID_A8DGE28  ['03-2018', '04-2018', '05-2018', '06-2018', '...   \n",
       "198  ID_20XBZP3  ['08-2017', '09-2017', '10-2017', '11-2017', '...   \n",
       "199  ID_PJPNGSA  ['08-2017', '09-2017', '10-2017', '11-2017', '...   \n",
       "\n",
       "                                       PaymentsHistory      m1      m2  \\\n",
       "0    [3600.0, 750.0, 350.0, 65.0, 95.0, 135.0, 85.0...   880.0   930.0   \n",
       "1    [2940.0, 970.0, 380.0, 880.0, 385.0, 440.0, 11...   660.0   935.0   \n",
       "2        [2850.0, 1500.0, 1350.0, 610.0, 200.0, 250.0]   700.0  1350.0   \n",
       "3    [2200.0, 1420.0, 1180.0, 900.0, 1400.0, 780.0,...   580.0   480.0   \n",
       "4    [2640.0, 910.0, 480.0, 280.0, 200.0, 180.0, 33...    40.0   440.0   \n",
       "..                                                 ...     ...     ...   \n",
       "195  [2000.0, 1020.0, 80.0, 320.0, 690.0, 500.0, 62...   330.0   230.0   \n",
       "196  [3825.0, 1595.0, 1430.0, 1100.0, 165.0, 180.0,...  1560.0  1720.0   \n",
       "197  [3944.0, 1200.0, 820.0, 204.0, 50.0, 70.0, 90....   385.0   770.0   \n",
       "198  [2400.0, 1320.0, 1040.0, 1080.0, 1280.0, 1160....  1240.0  1160.0   \n",
       "199   [3200.0, 1200.0, 1200.0, 1200.0, 1200.0, 1200.0]  1200.0  1200.0   \n",
       "\n",
       "         m3      m4      m5      m6  \n",
       "0     495.0   715.0   220.0   385.0  \n",
       "1     935.0   825.0   770.0   935.0  \n",
       "2    1550.0  1400.0  1450.0  1200.0  \n",
       "3     800.0  1260.0  1650.0   530.0  \n",
       "4     460.0   360.0    80.0   330.0  \n",
       "..      ...     ...     ...     ...  \n",
       "195   320.0   140.0   370.0   425.0  \n",
       "196  1098.0  1685.0  1520.0  1466.0  \n",
       "197   219.0   605.0   400.0   110.0  \n",
       "198  1240.0  1160.0  1240.0  1120.0  \n",
       "199  1200.0  1200.0  1200.0  1360.0  \n",
       "\n",
       "[200 rows x 9 columns]"
      ]
     },
     "execution_count": 26,
     "metadata": {},
     "output_type": "execute_result"
    }
   ],
   "source": [
    "split_data"
   ]
  },
  {
   "cell_type": "code",
   "execution_count": null,
   "id": "dca3ec68-7755-47d5-b4d8-cfa132e13155",
   "metadata": {},
   "outputs": [],
   "source": []
  },
  {
   "cell_type": "code",
   "execution_count": null,
   "id": "0eff0439-5369-4997-b733-1104f9138e45",
   "metadata": {},
   "outputs": [],
   "source": []
  },
  {
   "cell_type": "code",
   "execution_count": null,
   "id": "7b5aad08-6590-4456-ab7a-c23750aded14",
   "metadata": {},
   "outputs": [],
   "source": []
  },
  {
   "cell_type": "code",
   "execution_count": null,
   "id": "cd9089b6-39af-459a-8563-1c5903ac9599",
   "metadata": {},
   "outputs": [],
   "source": []
  },
  {
   "cell_type": "code",
   "execution_count": null,
   "id": "fa2fa87e-f790-485a-86fd-ffa51bf64560",
   "metadata": {},
   "outputs": [],
   "source": []
  },
  {
   "cell_type": "code",
   "execution_count": null,
   "id": "4450e6e7-e9a2-459c-b076-18c5c505270e",
   "metadata": {},
   "outputs": [],
   "source": [
    "train"
   ]
  },
  {
   "cell_type": "code",
   "execution_count": null,
   "id": "4f40e71e-0aed-4ebd-b41d-d9d6d9e226fb",
   "metadata": {},
   "outputs": [],
   "source": []
  },
  {
   "cell_type": "code",
   "execution_count": 460,
   "id": "9b1a6b27-9ea9-4e23-82b7-4bfcc97e8632",
   "metadata": {},
   "outputs": [
    {
     "data": {
      "text/plain": [
       "datetime.date(2018, 12, 2)"
      ]
     },
     "execution_count": 460,
     "metadata": {},
     "output_type": "execute_result"
    }
   ],
   "source": [
    "dt."
   ]
  },
  {
   "cell_type": "code",
   "execution_count": null,
   "id": "e38d9559-6ff9-4e83-8367-d35f8bd01928",
   "metadata": {},
   "outputs": [],
   "source": []
  },
  {
   "cell_type": "code",
   "execution_count": null,
   "id": "9d426b95-83d2-4c03-aaf5-45447ad3f59d",
   "metadata": {},
   "outputs": [],
   "source": []
  },
  {
   "cell_type": "code",
   "execution_count": null,
   "id": "d6f4bd74-c262-4a57-a2ca-07f4066e70f7",
   "metadata": {},
   "outputs": [],
   "source": []
  },
  {
   "cell_type": "code",
   "execution_count": 195,
   "id": "b553b335-b69a-47ac-9cae-343eba7d7d0c",
   "metadata": {},
   "outputs": [],
   "source": [
    "#attribute every user to the dates they made the payment \n",
    "pattern = rege.compile(r\"\\d{1,2}.\\d{1,4}\")\n",
    "trans_dataWithId = {values:[ pd.to_datetime(match,format='%m-%Y') for match in pattern.findall(split_data['TransactionDates'][keys])] for keys,values in enumerate(split_data['ID'])}"
   ]
  },
  {
   "cell_type": "code",
   "execution_count": 34,
   "id": "bcca5fa4-93f7-44ec-8f5d-7cddfae29a45",
   "metadata": {},
   "outputs": [],
   "source": [
    "\n",
    "pattern = rege.compile(r\"\\d{1,2}.\\d{1,4}\");\n",
    "paymentAmount = {values:[float(match) for match in pattern.findall(split_data['PaymentsHistory'][keys]) ] for keys,values in enumerate(split_data['ID'])}\n",
    "\n",
    "\n",
    "#paymentAmount = {values:split_data['PaymentsHistory'][keys] for keys,values in enumerate(split_data['ID'])}"
   ]
  },
  {
   "cell_type": "code",
   "execution_count": 62,
   "id": "365b94cc-4e59-48ed-a961-9234fe188487",
   "metadata": {},
   "outputs": [
    {
     "data": {
      "text/plain": [
       "200"
      ]
     },
     "execution_count": 62,
     "metadata": {},
     "output_type": "execute_result"
    }
   ],
   "source": [
    "len(trans_dataWithId.keys())\n",
    "#len(paymentAmount.keys())\n",
    "\n",
    "#pd.DataFrame(trans_dataWithId,index=trans_dataWithId.keys())\n",
    "#pd.crosstab()"
   ]
  },
  {
   "cell_type": "code",
   "execution_count": 107,
   "id": "ac73b787-3c58-439c-bfa3-edaf3fa766aa",
   "metadata": {},
   "outputs": [],
   "source": [
    "#pd.DataFrame(data=[trans_dataWithId.values(),paymentAmount.values()],index=trans_dataWithId.keys(),columns=)\n",
    "new_dict =  {'a':[1,2,3,4,5,9],'b':[5,9,7,3,4,6]}\n",
    "a = pd.Series([new_dict])\n",
    "\n",
    "for x in paymentAmount.keys():\n",
    "   c =  pd.DataFrame(paymentAmount[x])"
   ]
  },
  {
   "cell_type": "code",
   "execution_count": 197,
   "id": "823325bd-03f7-4f38-85c1-9332936836a3",
   "metadata": {},
   "outputs": [],
   "source": [
    "#trans_dataWithId"
   ]
  },
  {
   "cell_type": "code",
   "execution_count": 191,
   "id": "2f6d7931-716d-4847-9b45-ff1fea381ccd",
   "metadata": {},
   "outputs": [],
   "source": [
    "#[x for x in paymentAmount.keys()]"
   ]
  },
  {
   "cell_type": "code",
   "execution_count": 275,
   "id": "33a81a97-3ace-43a1-bd25-f3cb93d0a75f",
   "metadata": {},
   "outputs": [],
   "source": [
    "a = pd.DataFrame(data=sorted(paymentAmount.values()),index=paymentAmount.keys())\n",
    "b = pd.DataFrame(data=sorted(paymentAmount.values()),index=trans_dataWithId.keys())\n",
    "c = pd.DataFrame(data=sorted(trans_dataWithId.values()),index=trans_dataWithId.keys())"
   ]
  },
  {
   "cell_type": "code",
   "execution_count": 214,
   "id": "f405b51c-db99-4636-8f35-c1e6d3e54524",
   "metadata": {},
   "outputs": [],
   "source": [
    "#a.to_csv('id_amount1.csv')\n",
    "#b.to_csv('id_amount.csv')\n",
    "#c.to_csv('tran_dates1.csv')"
   ]
  },
  {
   "cell_type": "code",
   "execution_count": 230,
   "id": "e34cfc25-56a8-4a3f-bcb1-aded2b1dd43a",
   "metadata": {},
   "outputs": [
    {
     "data": {
      "text/html": [
       "<div>\n",
       "<style scoped>\n",
       "    .dataframe tbody tr th:only-of-type {\n",
       "        vertical-align: middle;\n",
       "    }\n",
       "\n",
       "    .dataframe tbody tr th {\n",
       "        vertical-align: top;\n",
       "    }\n",
       "\n",
       "    .dataframe thead th {\n",
       "        text-align: right;\n",
       "    }\n",
       "</style>\n",
       "<table border=\"1\" class=\"dataframe\">\n",
       "  <thead>\n",
       "    <tr style=\"text-align: right;\">\n",
       "      <th></th>\n",
       "      <th>0</th>\n",
       "      <th>1</th>\n",
       "      <th>2</th>\n",
       "      <th>3</th>\n",
       "      <th>4</th>\n",
       "      <th>5</th>\n",
       "      <th>6</th>\n",
       "      <th>7</th>\n",
       "      <th>8</th>\n",
       "      <th>9</th>\n",
       "      <th>...</th>\n",
       "      <th>27</th>\n",
       "      <th>28</th>\n",
       "      <th>29</th>\n",
       "      <th>30</th>\n",
       "      <th>31</th>\n",
       "      <th>32</th>\n",
       "      <th>33</th>\n",
       "      <th>34</th>\n",
       "      <th>35</th>\n",
       "      <th>36</th>\n",
       "    </tr>\n",
       "  </thead>\n",
       "  <tbody>\n",
       "    <tr>\n",
       "      <th>ID_MR53LEX</th>\n",
       "      <td>2000.0</td>\n",
       "      <td>40.0</td>\n",
       "      <td>2000.0</td>\n",
       "      <td>400.0</td>\n",
       "      <td>1000.0</td>\n",
       "      <td>1200.0</td>\n",
       "      <td>800.0</td>\n",
       "      <td>1000.0</td>\n",
       "      <td>400.0</td>\n",
       "      <td>560.0</td>\n",
       "      <td>...</td>\n",
       "      <td>NaN</td>\n",
       "      <td>NaN</td>\n",
       "      <td>NaN</td>\n",
       "      <td>NaN</td>\n",
       "      <td>NaN</td>\n",
       "      <td>NaN</td>\n",
       "      <td>NaN</td>\n",
       "      <td>NaN</td>\n",
       "      <td>NaN</td>\n",
       "      <td>NaN</td>\n",
       "    </tr>\n",
       "    <tr>\n",
       "      <th>ID_3D7NQUH</th>\n",
       "      <td>2000.0</td>\n",
       "      <td>100.0</td>\n",
       "      <td>200.0</td>\n",
       "      <td>200.0</td>\n",
       "      <td>100.0</td>\n",
       "      <td>150.0</td>\n",
       "      <td>250.0</td>\n",
       "      <td>80.0</td>\n",
       "      <td>100.0</td>\n",
       "      <td>220.0</td>\n",
       "      <td>...</td>\n",
       "      <td>300.0</td>\n",
       "      <td>400.0</td>\n",
       "      <td>200.0</td>\n",
       "      <td>400.0</td>\n",
       "      <td>200.0</td>\n",
       "      <td>200.0</td>\n",
       "      <td>300.0</td>\n",
       "      <td>200.0</td>\n",
       "      <td>NaN</td>\n",
       "      <td>NaN</td>\n",
       "    </tr>\n",
       "    <tr>\n",
       "      <th>ID_0IWQNPI</th>\n",
       "      <td>2000.0</td>\n",
       "      <td>100.0</td>\n",
       "      <td>680.0</td>\n",
       "      <td>150.0</td>\n",
       "      <td>420.0</td>\n",
       "      <td>400.0</td>\n",
       "      <td>270.0</td>\n",
       "      <td>140.0</td>\n",
       "      <td>90.0</td>\n",
       "      <td>200.0</td>\n",
       "      <td>...</td>\n",
       "      <td>420.0</td>\n",
       "      <td>120.0</td>\n",
       "      <td>170.0</td>\n",
       "      <td>120.0</td>\n",
       "      <td>80.0</td>\n",
       "      <td>80.0</td>\n",
       "      <td>120.0</td>\n",
       "      <td>160.0</td>\n",
       "      <td>160.0</td>\n",
       "      <td>NaN</td>\n",
       "    </tr>\n",
       "    <tr>\n",
       "      <th>ID_IY8SYB9</th>\n",
       "      <td>2000.0</td>\n",
       "      <td>490.0</td>\n",
       "      <td>800.0</td>\n",
       "      <td>760.0</td>\n",
       "      <td>480.0</td>\n",
       "      <td>1040.0</td>\n",
       "      <td>480.0</td>\n",
       "      <td>280.0</td>\n",
       "      <td>550.0</td>\n",
       "      <td>520.0</td>\n",
       "      <td>...</td>\n",
       "      <td>NaN</td>\n",
       "      <td>NaN</td>\n",
       "      <td>NaN</td>\n",
       "      <td>NaN</td>\n",
       "      <td>NaN</td>\n",
       "      <td>NaN</td>\n",
       "      <td>NaN</td>\n",
       "      <td>NaN</td>\n",
       "      <td>NaN</td>\n",
       "      <td>NaN</td>\n",
       "    </tr>\n",
       "    <tr>\n",
       "      <th>ID_9XHL7VZ</th>\n",
       "      <td>2000.0</td>\n",
       "      <td>600.0</td>\n",
       "      <td>500.0</td>\n",
       "      <td>40.0</td>\n",
       "      <td>180.0</td>\n",
       "      <td>240.0</td>\n",
       "      <td>80.0</td>\n",
       "      <td>80.0</td>\n",
       "      <td>40.0</td>\n",
       "      <td>40.0</td>\n",
       "      <td>...</td>\n",
       "      <td>100.0</td>\n",
       "      <td>40.0</td>\n",
       "      <td>80.0</td>\n",
       "      <td>50.0</td>\n",
       "      <td>80.0</td>\n",
       "      <td>40.0</td>\n",
       "      <td>44.0</td>\n",
       "      <td>30.0</td>\n",
       "      <td>40.0</td>\n",
       "      <td>40.0</td>\n",
       "    </tr>\n",
       "    <tr>\n",
       "      <th>...</th>\n",
       "      <td>...</td>\n",
       "      <td>...</td>\n",
       "      <td>...</td>\n",
       "      <td>...</td>\n",
       "      <td>...</td>\n",
       "      <td>...</td>\n",
       "      <td>...</td>\n",
       "      <td>...</td>\n",
       "      <td>...</td>\n",
       "      <td>...</td>\n",
       "      <td>...</td>\n",
       "      <td>...</td>\n",
       "      <td>...</td>\n",
       "      <td>...</td>\n",
       "      <td>...</td>\n",
       "      <td>...</td>\n",
       "      <td>...</td>\n",
       "      <td>...</td>\n",
       "      <td>...</td>\n",
       "      <td>...</td>\n",
       "      <td>...</td>\n",
       "    </tr>\n",
       "    <tr>\n",
       "      <th>ID_SPD3JWB</th>\n",
       "      <td>8000.0</td>\n",
       "      <td>900.0</td>\n",
       "      <td>1900.0</td>\n",
       "      <td>2650.0</td>\n",
       "      <td>2350.0</td>\n",
       "      <td>2410.0</td>\n",
       "      <td>2505.0</td>\n",
       "      <td>2850.0</td>\n",
       "      <td>2755.0</td>\n",
       "      <td>2850.0</td>\n",
       "      <td>...</td>\n",
       "      <td>NaN</td>\n",
       "      <td>NaN</td>\n",
       "      <td>NaN</td>\n",
       "      <td>NaN</td>\n",
       "      <td>NaN</td>\n",
       "      <td>NaN</td>\n",
       "      <td>NaN</td>\n",
       "      <td>NaN</td>\n",
       "      <td>NaN</td>\n",
       "      <td>NaN</td>\n",
       "    </tr>\n",
       "    <tr>\n",
       "      <th>ID_W2MJXO2</th>\n",
       "      <td>8000.0</td>\n",
       "      <td>1760.0</td>\n",
       "      <td>2660.0</td>\n",
       "      <td>2755.0</td>\n",
       "      <td>2850.0</td>\n",
       "      <td>2660.0</td>\n",
       "      <td>2755.0</td>\n",
       "      <td>2850.0</td>\n",
       "      <td>2660.0</td>\n",
       "      <td>2470.0</td>\n",
       "      <td>...</td>\n",
       "      <td>NaN</td>\n",
       "      <td>NaN</td>\n",
       "      <td>NaN</td>\n",
       "      <td>NaN</td>\n",
       "      <td>NaN</td>\n",
       "      <td>NaN</td>\n",
       "      <td>NaN</td>\n",
       "      <td>NaN</td>\n",
       "      <td>NaN</td>\n",
       "      <td>NaN</td>\n",
       "    </tr>\n",
       "    <tr>\n",
       "      <th>ID_A8DGE28</th>\n",
       "      <td>8000.0</td>\n",
       "      <td>3800.0</td>\n",
       "      <td>2500.0</td>\n",
       "      <td>1500.0</td>\n",
       "      <td>4500.0</td>\n",
       "      <td>2500.0</td>\n",
       "      <td>1000.0</td>\n",
       "      <td>3000.0</td>\n",
       "      <td>3000.0</td>\n",
       "      <td>3000.0</td>\n",
       "      <td>...</td>\n",
       "      <td>NaN</td>\n",
       "      <td>NaN</td>\n",
       "      <td>NaN</td>\n",
       "      <td>NaN</td>\n",
       "      <td>NaN</td>\n",
       "      <td>NaN</td>\n",
       "      <td>NaN</td>\n",
       "      <td>NaN</td>\n",
       "      <td>NaN</td>\n",
       "      <td>NaN</td>\n",
       "    </tr>\n",
       "    <tr>\n",
       "      <th>ID_20XBZP3</th>\n",
       "      <td>13000.0</td>\n",
       "      <td>2000.0</td>\n",
       "      <td>1460.0</td>\n",
       "      <td>1493.0</td>\n",
       "      <td>1685.0</td>\n",
       "      <td>1660.0</td>\n",
       "      <td>1375.0</td>\n",
       "      <td>1635.0</td>\n",
       "      <td>NaN</td>\n",
       "      <td>NaN</td>\n",
       "      <td>...</td>\n",
       "      <td>NaN</td>\n",
       "      <td>NaN</td>\n",
       "      <td>NaN</td>\n",
       "      <td>NaN</td>\n",
       "      <td>NaN</td>\n",
       "      <td>NaN</td>\n",
       "      <td>NaN</td>\n",
       "      <td>NaN</td>\n",
       "      <td>NaN</td>\n",
       "      <td>NaN</td>\n",
       "    </tr>\n",
       "    <tr>\n",
       "      <th>ID_PJPNGSA</th>\n",
       "      <td>15000.0</td>\n",
       "      <td>1100.0</td>\n",
       "      <td>1750.0</td>\n",
       "      <td>1500.0</td>\n",
       "      <td>2000.0</td>\n",
       "      <td>385.0</td>\n",
       "      <td>1400.0</td>\n",
       "      <td>385.0</td>\n",
       "      <td>385.0</td>\n",
       "      <td>770.0</td>\n",
       "      <td>...</td>\n",
       "      <td>NaN</td>\n",
       "      <td>NaN</td>\n",
       "      <td>NaN</td>\n",
       "      <td>NaN</td>\n",
       "      <td>NaN</td>\n",
       "      <td>NaN</td>\n",
       "      <td>NaN</td>\n",
       "      <td>NaN</td>\n",
       "      <td>NaN</td>\n",
       "      <td>NaN</td>\n",
       "    </tr>\n",
       "  </tbody>\n",
       "</table>\n",
       "<p>200 rows × 37 columns</p>\n",
       "</div>"
      ],
      "text/plain": [
       "                 0       1       2       3       4       5       6       7   \\\n",
       "ID_MR53LEX   2000.0    40.0  2000.0   400.0  1000.0  1200.0   800.0  1000.0   \n",
       "ID_3D7NQUH   2000.0   100.0   200.0   200.0   100.0   150.0   250.0    80.0   \n",
       "ID_0IWQNPI   2000.0   100.0   680.0   150.0   420.0   400.0   270.0   140.0   \n",
       "ID_IY8SYB9   2000.0   490.0   800.0   760.0   480.0  1040.0   480.0   280.0   \n",
       "ID_9XHL7VZ   2000.0   600.0   500.0    40.0   180.0   240.0    80.0    80.0   \n",
       "...             ...     ...     ...     ...     ...     ...     ...     ...   \n",
       "ID_SPD3JWB   8000.0   900.0  1900.0  2650.0  2350.0  2410.0  2505.0  2850.0   \n",
       "ID_W2MJXO2   8000.0  1760.0  2660.0  2755.0  2850.0  2660.0  2755.0  2850.0   \n",
       "ID_A8DGE28   8000.0  3800.0  2500.0  1500.0  4500.0  2500.0  1000.0  3000.0   \n",
       "ID_20XBZP3  13000.0  2000.0  1460.0  1493.0  1685.0  1660.0  1375.0  1635.0   \n",
       "ID_PJPNGSA  15000.0  1100.0  1750.0  1500.0  2000.0   385.0  1400.0   385.0   \n",
       "\n",
       "                8       9   ...     27     28     29     30     31     32  \\\n",
       "ID_MR53LEX   400.0   560.0  ...    NaN    NaN    NaN    NaN    NaN    NaN   \n",
       "ID_3D7NQUH   100.0   220.0  ...  300.0  400.0  200.0  400.0  200.0  200.0   \n",
       "ID_0IWQNPI    90.0   200.0  ...  420.0  120.0  170.0  120.0   80.0   80.0   \n",
       "ID_IY8SYB9   550.0   520.0  ...    NaN    NaN    NaN    NaN    NaN    NaN   \n",
       "ID_9XHL7VZ    40.0    40.0  ...  100.0   40.0   80.0   50.0   80.0   40.0   \n",
       "...            ...     ...  ...    ...    ...    ...    ...    ...    ...   \n",
       "ID_SPD3JWB  2755.0  2850.0  ...    NaN    NaN    NaN    NaN    NaN    NaN   \n",
       "ID_W2MJXO2  2660.0  2470.0  ...    NaN    NaN    NaN    NaN    NaN    NaN   \n",
       "ID_A8DGE28  3000.0  3000.0  ...    NaN    NaN    NaN    NaN    NaN    NaN   \n",
       "ID_20XBZP3     NaN     NaN  ...    NaN    NaN    NaN    NaN    NaN    NaN   \n",
       "ID_PJPNGSA   385.0   770.0  ...    NaN    NaN    NaN    NaN    NaN    NaN   \n",
       "\n",
       "               33     34     35    36  \n",
       "ID_MR53LEX    NaN    NaN    NaN   NaN  \n",
       "ID_3D7NQUH  300.0  200.0    NaN   NaN  \n",
       "ID_0IWQNPI  120.0  160.0  160.0   NaN  \n",
       "ID_IY8SYB9    NaN    NaN    NaN   NaN  \n",
       "ID_9XHL7VZ   44.0   30.0   40.0  40.0  \n",
       "...           ...    ...    ...   ...  \n",
       "ID_SPD3JWB    NaN    NaN    NaN   NaN  \n",
       "ID_W2MJXO2    NaN    NaN    NaN   NaN  \n",
       "ID_A8DGE28    NaN    NaN    NaN   NaN  \n",
       "ID_20XBZP3    NaN    NaN    NaN   NaN  \n",
       "ID_PJPNGSA    NaN    NaN    NaN   NaN  \n",
       "\n",
       "[200 rows x 37 columns]"
      ]
     },
     "execution_count": 230,
     "metadata": {},
     "output_type": "execute_result"
    }
   ],
   "source": [
    "a"
   ]
  },
  {
   "cell_type": "code",
   "execution_count": 216,
   "id": "a18ae701-ae3d-4059-8435-74c80c5e4f81",
   "metadata": {},
   "outputs": [],
   "source": [
    "#pd.crosstab(trans_dataWithId.keys(),columns=trans_dataWithId.values())"
   ]
  },
  {
   "cell_type": "code",
   "execution_count": null,
   "id": "449b4bb3-cb52-4bce-b342-55c0bbc9c2a3",
   "metadata": {},
   "outputs": [],
   "source": []
  },
  {
   "cell_type": "code",
   "execution_count": 229,
   "id": "0dd79f85-9b95-4cdf-906a-19d56ccd78aa",
   "metadata": {},
   "outputs": [],
   "source": [
    "#pd.crosstab(trans_dataWithId.keys(),columns=[trans_dataWithId.values()],dropna=True)"
   ]
  },
  {
   "cell_type": "code",
   "execution_count": null,
   "id": "25b3bf94-be85-47e0-b9ea-e10b6a08476d",
   "metadata": {},
   "outputs": [],
   "source": []
  },
  {
   "cell_type": "code",
   "execution_count": null,
   "id": "93a215ce-768f-430f-8dd4-e242c06365d1",
   "metadata": {},
   "outputs": [],
   "source": []
  },
  {
   "cell_type": "code",
   "execution_count": 124,
   "id": "c53bda9e-0e07-45e7-b851-eb2d0fb6d2f4",
   "metadata": {},
   "outputs": [],
   "source": [
    "for x in paymentAmount.keys():\n",
    "   q =  pd.DataFrame(paymentAmount[x])"
   ]
  },
  {
   "cell_type": "code",
   "execution_count": 125,
   "id": "11593d61-c0fe-4edb-b161-b0e7a304a40b",
   "metadata": {},
   "outputs": [
    {
     "data": {
      "text/html": [
       "<div>\n",
       "<style scoped>\n",
       "    .dataframe tbody tr th:only-of-type {\n",
       "        vertical-align: middle;\n",
       "    }\n",
       "\n",
       "    .dataframe tbody tr th {\n",
       "        vertical-align: top;\n",
       "    }\n",
       "\n",
       "    .dataframe thead th {\n",
       "        text-align: right;\n",
       "    }\n",
       "</style>\n",
       "<table border=\"1\" class=\"dataframe\">\n",
       "  <thead>\n",
       "    <tr style=\"text-align: right;\">\n",
       "      <th></th>\n",
       "      <th>0</th>\n",
       "    </tr>\n",
       "  </thead>\n",
       "  <tbody>\n",
       "    <tr>\n",
       "      <th>0</th>\n",
       "      <td>3200.0</td>\n",
       "    </tr>\n",
       "    <tr>\n",
       "      <th>1</th>\n",
       "      <td>1200.0</td>\n",
       "    </tr>\n",
       "    <tr>\n",
       "      <th>2</th>\n",
       "      <td>1200.0</td>\n",
       "    </tr>\n",
       "    <tr>\n",
       "      <th>3</th>\n",
       "      <td>1200.0</td>\n",
       "    </tr>\n",
       "    <tr>\n",
       "      <th>4</th>\n",
       "      <td>1200.0</td>\n",
       "    </tr>\n",
       "    <tr>\n",
       "      <th>5</th>\n",
       "      <td>1200.0</td>\n",
       "    </tr>\n",
       "  </tbody>\n",
       "</table>\n",
       "</div>"
      ],
      "text/plain": [
       "        0\n",
       "0  3200.0\n",
       "1  1200.0\n",
       "2  1200.0\n",
       "3  1200.0\n",
       "4  1200.0\n",
       "5  1200.0"
      ]
     },
     "execution_count": 125,
     "metadata": {},
     "output_type": "execute_result"
    }
   ],
   "source": [
    "q"
   ]
  },
  {
   "cell_type": "code",
   "execution_count": 205,
   "id": "b2aedc68-6a50-429d-aeba-56b386ed4489",
   "metadata": {},
   "outputs": [],
   "source": [
    "#for x,y in paymentAmount.items():\n",
    " #   print(x)\n",
    "  #  print(y)"
   ]
  },
  {
   "cell_type": "code",
   "execution_count": null,
   "id": "87579ebc-88a1-4794-ac02-49c2cbbeac3f",
   "metadata": {},
   "outputs": [],
   "source": []
  },
  {
   "cell_type": "code",
   "execution_count": 240,
   "id": "884a198d-2318-4daa-9338-887f71bec400",
   "metadata": {},
   "outputs": [],
   "source": [
    "#dataframe = pd.DataFrame(data=paymentAmount)"
   ]
  },
  {
   "cell_type": "code",
   "execution_count": null,
   "id": "43f18a77-0ca1-4e29-90c2-cc5a3315d526",
   "metadata": {},
   "outputs": [],
   "source": []
  },
  {
   "cell_type": "code",
   "execution_count": null,
   "id": "a02ba938-196f-4a9e-8d70-706bc78ca964",
   "metadata": {},
   "outputs": [],
   "source": []
  },
  {
   "cell_type": "code",
   "execution_count": 87,
   "id": "365fdb80-5952-4307-acff-854a92f408c9",
   "metadata": {},
   "outputs": [
    {
     "data": {
      "text/html": [
       "<div>\n",
       "<style scoped>\n",
       "    .dataframe tbody tr th:only-of-type {\n",
       "        vertical-align: middle;\n",
       "    }\n",
       "\n",
       "    .dataframe tbody tr th {\n",
       "        vertical-align: top;\n",
       "    }\n",
       "\n",
       "    .dataframe thead th {\n",
       "        text-align: right;\n",
       "    }\n",
       "</style>\n",
       "<table border=\"1\" class=\"dataframe\">\n",
       "  <thead>\n",
       "    <tr style=\"text-align: right;\">\n",
       "      <th></th>\n",
       "      <th>0</th>\n",
       "    </tr>\n",
       "  </thead>\n",
       "  <tbody>\n",
       "    <tr>\n",
       "      <th>0</th>\n",
       "      <td>3200.0</td>\n",
       "    </tr>\n",
       "    <tr>\n",
       "      <th>1</th>\n",
       "      <td>1200.0</td>\n",
       "    </tr>\n",
       "    <tr>\n",
       "      <th>2</th>\n",
       "      <td>1200.0</td>\n",
       "    </tr>\n",
       "    <tr>\n",
       "      <th>3</th>\n",
       "      <td>1200.0</td>\n",
       "    </tr>\n",
       "    <tr>\n",
       "      <th>4</th>\n",
       "      <td>1200.0</td>\n",
       "    </tr>\n",
       "    <tr>\n",
       "      <th>5</th>\n",
       "      <td>1200.0</td>\n",
       "    </tr>\n",
       "  </tbody>\n",
       "</table>\n",
       "</div>"
      ],
      "text/plain": [
       "        0\n",
       "0  3200.0\n",
       "1  1200.0\n",
       "2  1200.0\n",
       "3  1200.0\n",
       "4  1200.0\n",
       "5  1200.0"
      ]
     },
     "execution_count": 87,
     "metadata": {},
     "output_type": "execute_result"
    }
   ],
   "source": [
    "c"
   ]
  },
  {
   "cell_type": "code",
   "execution_count": 351,
   "id": "6daff3ff-19d3-49de-9b40-53a615b35592",
   "metadata": {},
   "outputs": [],
   "source": [
    "#paymentAmount\n",
    "import seaborn as sns\n",
    "from sklearn import datasets\n",
    "from sklearn.model_selection import train_test_split\n",
    "from sklearn.linear_model import LinearRegression\n",
    "from sklearn.metrics import mean_squared_error, mean_absolute_error, r2_score, SCORERS\n",
    "from sklearn.model_selection import cross_validate, cross_val_score\n",
    "from sklearn.preprocessing import StandardScaler\n",
    "from sklearn.metrics import accuracy_score"
   ]
  },
  {
   "cell_type": "code",
   "execution_count": 225,
   "id": "2abce843-df46-454b-b3b5-9c686d501589",
   "metadata": {},
   "outputs": [],
   "source": [
    "#a = pd.DataFrame([trans_dataWithId['ID_MR53LEX']])\n",
    "b = pd.DataFrame([paymentAmount['ID_MR53LEX'],paymentAmount['ID_PJPNGSA'],paymentAmount[])\n"
   ]
  },
  {
   "cell_type": "code",
   "execution_count": null,
   "id": "cca5735b-66a7-4186-be0d-f4c5b26c907c",
   "metadata": {},
   "outputs": [],
   "source": []
  },
  {
   "cell_type": "code",
   "execution_count": null,
   "id": "de525b03-35ef-4f19-833e-ca9d0e3c27f8",
   "metadata": {},
   "outputs": [],
   "source": []
  },
  {
   "cell_type": "code",
   "execution_count": 266,
   "id": "6c724b5a-8ef1-46fd-ac48-a2a781d0a6b5",
   "metadata": {},
   "outputs": [],
   "source": [
    "dataframe = dataframe.astype('int64')"
   ]
  },
  {
   "cell_type": "code",
   "execution_count": 267,
   "id": "826a3739-d437-4d81-aa51-3d4650c9d3f2",
   "metadata": {},
   "outputs": [
    {
     "name": "stdout",
     "output_type": "stream",
     "text": [
      "<class 'pandas.core.frame.DataFrame'>\n",
      "RangeIndex: 200 entries, 0 to 199\n",
      "Data columns (total 37 columns):\n",
      " #   Column  Non-Null Count  Dtype\n",
      "---  ------  --------------  -----\n",
      " 0   0       200 non-null    int64\n",
      " 1   1       200 non-null    int64\n",
      " 2   2       200 non-null    int64\n",
      " 3   3       200 non-null    int64\n",
      " 4   4       200 non-null    int64\n",
      " 5   5       200 non-null    int64\n",
      " 6   6       200 non-null    int64\n",
      " 7   7       200 non-null    int64\n",
      " 8   8       200 non-null    int64\n",
      " 9   9       200 non-null    int64\n",
      " 10  10      200 non-null    int64\n",
      " 11  11      200 non-null    int64\n",
      " 12  12      200 non-null    int64\n",
      " 13  13      200 non-null    int64\n",
      " 14  14      200 non-null    int64\n",
      " 15  15      200 non-null    int64\n",
      " 16  16      200 non-null    int64\n",
      " 17  17      200 non-null    int64\n",
      " 18  18      200 non-null    int64\n",
      " 19  19      200 non-null    int64\n",
      " 20  20      200 non-null    int64\n",
      " 21  21      200 non-null    int64\n",
      " 22  22      200 non-null    int64\n",
      " 23  23      200 non-null    int64\n",
      " 24  24      200 non-null    int64\n",
      " 25  25      200 non-null    int64\n",
      " 26  26      200 non-null    int64\n",
      " 27  27      200 non-null    int64\n",
      " 28  28      200 non-null    int64\n",
      " 29  29      200 non-null    int64\n",
      " 30  30      200 non-null    int64\n",
      " 31  31      200 non-null    int64\n",
      " 32  32      200 non-null    int64\n",
      " 33  33      200 non-null    int64\n",
      " 34  34      200 non-null    int64\n",
      " 35  35      200 non-null    int64\n",
      " 36  36      200 non-null    int64\n",
      "dtypes: int64(37)\n",
      "memory usage: 57.9 KB\n"
     ]
    }
   ],
   "source": [
    "dataframe.info()"
   ]
  },
  {
   "cell_type": "code",
   "execution_count": null,
   "id": "60aa0bcb-1153-4a49-a1e2-e4475591e025",
   "metadata": {},
   "outputs": [],
   "source": []
  },
  {
   "cell_type": "code",
   "execution_count": null,
   "id": "f592c468-a1b9-4b1f-bd44-29c370de5968",
   "metadata": {},
   "outputs": [],
   "source": []
  },
  {
   "cell_type": "code",
   "execution_count": null,
   "id": "f92b132d-8a89-4098-97f4-01a6cfe91c06",
   "metadata": {},
   "outputs": [],
   "source": []
  },
  {
   "cell_type": "code",
   "execution_count": null,
   "id": "eeccf855-4e0f-448c-82c5-8ca87dd54f96",
   "metadata": {},
   "outputs": [],
   "source": []
  },
  {
   "cell_type": "code",
   "execution_count": null,
   "id": "90e5b996-3944-4d62-a44a-7f6d12ed7947",
   "metadata": {},
   "outputs": [],
   "source": []
  },
  {
   "cell_type": "code",
   "execution_count": null,
   "id": "58052b85-9bc6-464b-885e-84b8dafccf02",
   "metadata": {},
   "outputs": [],
   "source": []
  },
  {
   "cell_type": "code",
   "execution_count": 276,
   "id": "3fb9cb55-a169-40d3-ad03-ab3bea25d575",
   "metadata": {},
   "outputs": [],
   "source": [
    "dataframe = pd.DataFrame(paymentAmount.values(),index=range(len(paymentAmount.keys())))"
   ]
  },
  {
   "cell_type": "code",
   "execution_count": 335,
   "id": "802fe137-c939-4977-9f87-170357b871fd",
   "metadata": {},
   "outputs": [
    {
     "name": "stdout",
     "output_type": "stream",
     "text": [
      "<class 'pandas.core.frame.DataFrame'>\n",
      "Int64Index: 30 entries, 0 to 197\n",
      "Data columns (total 37 columns):\n",
      " #   Column  Non-Null Count  Dtype\n",
      "---  ------  --------------  -----\n",
      " 0   0       30 non-null     int64\n",
      " 1   1       30 non-null     int64\n",
      " 2   2       30 non-null     int64\n",
      " 3   3       30 non-null     int64\n",
      " 4   4       30 non-null     int64\n",
      " 5   5       30 non-null     int64\n",
      " 6   6       30 non-null     int64\n",
      " 7   7       30 non-null     int64\n",
      " 8   8       30 non-null     int64\n",
      " 9   9       30 non-null     int64\n",
      " 10  10      30 non-null     int64\n",
      " 11  11      30 non-null     int64\n",
      " 12  12      30 non-null     int64\n",
      " 13  13      30 non-null     int64\n",
      " 14  14      30 non-null     int64\n",
      " 15  15      30 non-null     int64\n",
      " 16  16      30 non-null     int64\n",
      " 17  17      30 non-null     int64\n",
      " 18  18      30 non-null     int64\n",
      " 19  19      30 non-null     int64\n",
      " 20  20      30 non-null     int64\n",
      " 21  21      30 non-null     int64\n",
      " 22  22      30 non-null     int64\n",
      " 23  23      30 non-null     int64\n",
      " 24  24      30 non-null     int64\n",
      " 25  25      30 non-null     int64\n",
      " 26  26      30 non-null     int64\n",
      " 27  27      30 non-null     int64\n",
      " 28  28      30 non-null     int64\n",
      " 29  29      30 non-null     int64\n",
      " 30  30      30 non-null     int64\n",
      " 31  31      30 non-null     int64\n",
      " 32  32      30 non-null     int64\n",
      " 33  33      30 non-null     int64\n",
      " 34  34      30 non-null     int64\n",
      " 35  35      30 non-null     int64\n",
      " 36  36      30 non-null     int64\n",
      "dtypes: int64(37)\n",
      "memory usage: 8.9 KB\n"
     ]
    }
   ],
   "source": [
    "dataframe.info()"
   ]
  },
  {
   "cell_type": "code",
   "execution_count": 330,
   "id": "cc38c491-6826-4acd-9cb1-acbf1d461bf8",
   "metadata": {},
   "outputs": [],
   "source": [
    "dataframe.fillna(0,inplace=True)"
   ]
  },
  {
   "cell_type": "code",
   "execution_count": null,
   "id": "a6a278e2-1ce4-4c18-b2a6-17c24cf1b87f",
   "metadata": {},
   "outputs": [],
   "source": []
  },
  {
   "cell_type": "code",
   "execution_count": 331,
   "id": "27d1f2c8-1ae3-4f8e-8c59-3fe46b774d9a",
   "metadata": {},
   "outputs": [],
   "source": [
    "dataframe = dataframe.astype('int64')"
   ]
  },
  {
   "cell_type": "code",
   "execution_count": null,
   "id": "919d19f4-2873-470b-b3b7-250cc7fd708d",
   "metadata": {},
   "outputs": [],
   "source": []
  },
  {
   "cell_type": "code",
   "execution_count": null,
   "id": "f220bbef-76fe-489d-9183-deab4cb09fe1",
   "metadata": {},
   "outputs": [],
   "source": []
  },
  {
   "cell_type": "code",
   "execution_count": null,
   "id": "c8c440bb-eb94-4408-b390-e5de54bb4b28",
   "metadata": {},
   "outputs": [],
   "source": []
  },
  {
   "cell_type": "code",
   "execution_count": null,
   "id": "5622cc43-f673-42ae-8c97-a6e5cd417e6a",
   "metadata": {},
   "outputs": [],
   "source": []
  },
  {
   "cell_type": "code",
   "execution_count": null,
   "id": "4d357702-6c64-4114-ac14-32801abf354f",
   "metadata": {},
   "outputs": [],
   "source": []
  },
  {
   "cell_type": "code",
   "execution_count": null,
   "id": "b2c4fe06-b9be-4f99-a979-6ecf2f11f5af",
   "metadata": {},
   "outputs": [],
   "source": []
  },
  {
   "cell_type": "code",
   "execution_count": null,
   "id": "84949d07-6109-4d69-b65d-a015a361bc2b",
   "metadata": {},
   "outputs": [],
   "source": []
  },
  {
   "cell_type": "code",
   "execution_count": null,
   "id": "b4bf6ed4-bc09-4c37-8e10-f2882bffa2c5",
   "metadata": {},
   "outputs": [],
   "source": []
  },
  {
   "cell_type": "code",
   "execution_count": 269,
   "id": "5ef723f8-f65e-4d73-8cb9-388510a4f0fe",
   "metadata": {},
   "outputs": [],
   "source": [
    "dataframe.fillna(0,inplace=True)"
   ]
  },
  {
   "cell_type": "code",
   "execution_count": 336,
   "id": "6582c0ff-8f06-4175-b3ce-3cfe9a788b33",
   "metadata": {},
   "outputs": [],
   "source": [
    "x = dataframe.iloc[:,:6]"
   ]
  },
  {
   "cell_type": "code",
   "execution_count": 337,
   "id": "d0158400-e9de-4477-9626-6401e07506dd",
   "metadata": {},
   "outputs": [],
   "source": [
    "y = train.loc[:29,['m1']]"
   ]
  },
  {
   "cell_type": "code",
   "execution_count": 338,
   "id": "96f82144-2e4a-47b7-bbac-3b5d27878213",
   "metadata": {},
   "outputs": [
    {
     "data": {
      "text/html": [
       "<div>\n",
       "<style scoped>\n",
       "    .dataframe tbody tr th:only-of-type {\n",
       "        vertical-align: middle;\n",
       "    }\n",
       "\n",
       "    .dataframe tbody tr th {\n",
       "        vertical-align: top;\n",
       "    }\n",
       "\n",
       "    .dataframe thead th {\n",
       "        text-align: right;\n",
       "    }\n",
       "</style>\n",
       "<table border=\"1\" class=\"dataframe\">\n",
       "  <thead>\n",
       "    <tr style=\"text-align: right;\">\n",
       "      <th></th>\n",
       "      <th>m1</th>\n",
       "    </tr>\n",
       "  </thead>\n",
       "  <tbody>\n",
       "    <tr>\n",
       "      <th>0</th>\n",
       "      <td>880.0</td>\n",
       "    </tr>\n",
       "    <tr>\n",
       "      <th>1</th>\n",
       "      <td>660.0</td>\n",
       "    </tr>\n",
       "    <tr>\n",
       "      <th>2</th>\n",
       "      <td>700.0</td>\n",
       "    </tr>\n",
       "    <tr>\n",
       "      <th>3</th>\n",
       "      <td>580.0</td>\n",
       "    </tr>\n",
       "    <tr>\n",
       "      <th>4</th>\n",
       "      <td>40.0</td>\n",
       "    </tr>\n",
       "    <tr>\n",
       "      <th>5</th>\n",
       "      <td>1160.0</td>\n",
       "    </tr>\n",
       "    <tr>\n",
       "      <th>6</th>\n",
       "      <td>40.0</td>\n",
       "    </tr>\n",
       "    <tr>\n",
       "      <th>7</th>\n",
       "      <td>2090.0</td>\n",
       "    </tr>\n",
       "    <tr>\n",
       "      <th>8</th>\n",
       "      <td>1740.0</td>\n",
       "    </tr>\n",
       "    <tr>\n",
       "      <th>9</th>\n",
       "      <td>680.0</td>\n",
       "    </tr>\n",
       "    <tr>\n",
       "      <th>10</th>\n",
       "      <td>1560.0</td>\n",
       "    </tr>\n",
       "    <tr>\n",
       "      <th>11</th>\n",
       "      <td>950.0</td>\n",
       "    </tr>\n",
       "    <tr>\n",
       "      <th>12</th>\n",
       "      <td>1200.0</td>\n",
       "    </tr>\n",
       "    <tr>\n",
       "      <th>13</th>\n",
       "      <td>1000.0</td>\n",
       "    </tr>\n",
       "    <tr>\n",
       "      <th>14</th>\n",
       "      <td>960.0</td>\n",
       "    </tr>\n",
       "    <tr>\n",
       "      <th>15</th>\n",
       "      <td>1170.0</td>\n",
       "    </tr>\n",
       "    <tr>\n",
       "      <th>16</th>\n",
       "      <td>660.0</td>\n",
       "    </tr>\n",
       "    <tr>\n",
       "      <th>17</th>\n",
       "      <td>1340.0</td>\n",
       "    </tr>\n",
       "    <tr>\n",
       "      <th>18</th>\n",
       "      <td>787.0</td>\n",
       "    </tr>\n",
       "    <tr>\n",
       "      <th>19</th>\n",
       "      <td>210.0</td>\n",
       "    </tr>\n",
       "    <tr>\n",
       "      <th>20</th>\n",
       "      <td>1210.0</td>\n",
       "    </tr>\n",
       "    <tr>\n",
       "      <th>21</th>\n",
       "      <td>90.0</td>\n",
       "    </tr>\n",
       "    <tr>\n",
       "      <th>22</th>\n",
       "      <td>650.0</td>\n",
       "    </tr>\n",
       "    <tr>\n",
       "      <th>23</th>\n",
       "      <td>1120.0</td>\n",
       "    </tr>\n",
       "    <tr>\n",
       "      <th>24</th>\n",
       "      <td>330.0</td>\n",
       "    </tr>\n",
       "    <tr>\n",
       "      <th>25</th>\n",
       "      <td>280.0</td>\n",
       "    </tr>\n",
       "    <tr>\n",
       "      <th>26</th>\n",
       "      <td>200.0</td>\n",
       "    </tr>\n",
       "    <tr>\n",
       "      <th>27</th>\n",
       "      <td>1400.0</td>\n",
       "    </tr>\n",
       "    <tr>\n",
       "      <th>28</th>\n",
       "      <td>360.0</td>\n",
       "    </tr>\n",
       "    <tr>\n",
       "      <th>29</th>\n",
       "      <td>1120.0</td>\n",
       "    </tr>\n",
       "  </tbody>\n",
       "</table>\n",
       "</div>"
      ],
      "text/plain": [
       "        m1\n",
       "0    880.0\n",
       "1    660.0\n",
       "2    700.0\n",
       "3    580.0\n",
       "4     40.0\n",
       "5   1160.0\n",
       "6     40.0\n",
       "7   2090.0\n",
       "8   1740.0\n",
       "9    680.0\n",
       "10  1560.0\n",
       "11   950.0\n",
       "12  1200.0\n",
       "13  1000.0\n",
       "14   960.0\n",
       "15  1170.0\n",
       "16   660.0\n",
       "17  1340.0\n",
       "18   787.0\n",
       "19   210.0\n",
       "20  1210.0\n",
       "21    90.0\n",
       "22   650.0\n",
       "23  1120.0\n",
       "24   330.0\n",
       "25   280.0\n",
       "26   200.0\n",
       "27  1400.0\n",
       "28   360.0\n",
       "29  1120.0"
      ]
     },
     "execution_count": 338,
     "metadata": {},
     "output_type": "execute_result"
    }
   ],
   "source": [
    "y"
   ]
  },
  {
   "cell_type": "code",
   "execution_count": 296,
   "id": "5a9a8f01-4d52-4b40-9d06-306910e28739",
   "metadata": {},
   "outputs": [
    {
     "data": {
      "text/plain": [
       "30"
      ]
     },
     "execution_count": 296,
     "metadata": {},
     "output_type": "execute_result"
    }
   ],
   "source": [
    "len(x)"
   ]
  },
  {
   "cell_type": "code",
   "execution_count": 339,
   "id": "800b740e-158a-433f-999d-5454895008d6",
   "metadata": {},
   "outputs": [
    {
     "data": {
      "text/html": [
       "<div>\n",
       "<style scoped>\n",
       "    .dataframe tbody tr th:only-of-type {\n",
       "        vertical-align: middle;\n",
       "    }\n",
       "\n",
       "    .dataframe tbody tr th {\n",
       "        vertical-align: top;\n",
       "    }\n",
       "\n",
       "    .dataframe thead th {\n",
       "        text-align: right;\n",
       "    }\n",
       "</style>\n",
       "<table border=\"1\" class=\"dataframe\">\n",
       "  <thead>\n",
       "    <tr style=\"text-align: right;\">\n",
       "      <th></th>\n",
       "      <th>m1</th>\n",
       "    </tr>\n",
       "  </thead>\n",
       "  <tbody>\n",
       "    <tr>\n",
       "      <th>0</th>\n",
       "      <td>880.0</td>\n",
       "    </tr>\n",
       "    <tr>\n",
       "      <th>1</th>\n",
       "      <td>660.0</td>\n",
       "    </tr>\n",
       "    <tr>\n",
       "      <th>2</th>\n",
       "      <td>700.0</td>\n",
       "    </tr>\n",
       "    <tr>\n",
       "      <th>3</th>\n",
       "      <td>580.0</td>\n",
       "    </tr>\n",
       "    <tr>\n",
       "      <th>4</th>\n",
       "      <td>40.0</td>\n",
       "    </tr>\n",
       "    <tr>\n",
       "      <th>5</th>\n",
       "      <td>1160.0</td>\n",
       "    </tr>\n",
       "    <tr>\n",
       "      <th>6</th>\n",
       "      <td>40.0</td>\n",
       "    </tr>\n",
       "    <tr>\n",
       "      <th>7</th>\n",
       "      <td>2090.0</td>\n",
       "    </tr>\n",
       "    <tr>\n",
       "      <th>8</th>\n",
       "      <td>1740.0</td>\n",
       "    </tr>\n",
       "    <tr>\n",
       "      <th>9</th>\n",
       "      <td>680.0</td>\n",
       "    </tr>\n",
       "    <tr>\n",
       "      <th>10</th>\n",
       "      <td>1560.0</td>\n",
       "    </tr>\n",
       "    <tr>\n",
       "      <th>11</th>\n",
       "      <td>950.0</td>\n",
       "    </tr>\n",
       "    <tr>\n",
       "      <th>12</th>\n",
       "      <td>1200.0</td>\n",
       "    </tr>\n",
       "    <tr>\n",
       "      <th>13</th>\n",
       "      <td>1000.0</td>\n",
       "    </tr>\n",
       "    <tr>\n",
       "      <th>14</th>\n",
       "      <td>960.0</td>\n",
       "    </tr>\n",
       "    <tr>\n",
       "      <th>15</th>\n",
       "      <td>1170.0</td>\n",
       "    </tr>\n",
       "    <tr>\n",
       "      <th>16</th>\n",
       "      <td>660.0</td>\n",
       "    </tr>\n",
       "    <tr>\n",
       "      <th>17</th>\n",
       "      <td>1340.0</td>\n",
       "    </tr>\n",
       "    <tr>\n",
       "      <th>18</th>\n",
       "      <td>787.0</td>\n",
       "    </tr>\n",
       "    <tr>\n",
       "      <th>19</th>\n",
       "      <td>210.0</td>\n",
       "    </tr>\n",
       "    <tr>\n",
       "      <th>20</th>\n",
       "      <td>1210.0</td>\n",
       "    </tr>\n",
       "    <tr>\n",
       "      <th>21</th>\n",
       "      <td>90.0</td>\n",
       "    </tr>\n",
       "    <tr>\n",
       "      <th>22</th>\n",
       "      <td>650.0</td>\n",
       "    </tr>\n",
       "    <tr>\n",
       "      <th>23</th>\n",
       "      <td>1120.0</td>\n",
       "    </tr>\n",
       "    <tr>\n",
       "      <th>24</th>\n",
       "      <td>330.0</td>\n",
       "    </tr>\n",
       "    <tr>\n",
       "      <th>25</th>\n",
       "      <td>280.0</td>\n",
       "    </tr>\n",
       "    <tr>\n",
       "      <th>26</th>\n",
       "      <td>200.0</td>\n",
       "    </tr>\n",
       "    <tr>\n",
       "      <th>27</th>\n",
       "      <td>1400.0</td>\n",
       "    </tr>\n",
       "    <tr>\n",
       "      <th>28</th>\n",
       "      <td>360.0</td>\n",
       "    </tr>\n",
       "    <tr>\n",
       "      <th>29</th>\n",
       "      <td>1120.0</td>\n",
       "    </tr>\n",
       "  </tbody>\n",
       "</table>\n",
       "</div>"
      ],
      "text/plain": [
       "        m1\n",
       "0    880.0\n",
       "1    660.0\n",
       "2    700.0\n",
       "3    580.0\n",
       "4     40.0\n",
       "5   1160.0\n",
       "6     40.0\n",
       "7   2090.0\n",
       "8   1740.0\n",
       "9    680.0\n",
       "10  1560.0\n",
       "11   950.0\n",
       "12  1200.0\n",
       "13  1000.0\n",
       "14   960.0\n",
       "15  1170.0\n",
       "16   660.0\n",
       "17  1340.0\n",
       "18   787.0\n",
       "19   210.0\n",
       "20  1210.0\n",
       "21    90.0\n",
       "22   650.0\n",
       "23  1120.0\n",
       "24   330.0\n",
       "25   280.0\n",
       "26   200.0\n",
       "27  1400.0\n",
       "28   360.0\n",
       "29  1120.0"
      ]
     },
     "execution_count": 339,
     "metadata": {},
     "output_type": "execute_result"
    }
   ],
   "source": [
    "y"
   ]
  },
  {
   "cell_type": "code",
   "execution_count": 348,
   "id": "1a8ff863-4bcc-49ff-8865-2ed8b4401f98",
   "metadata": {},
   "outputs": [],
   "source": [
    "X_train, X_test, y_train, y_test = train_test_split(x, y, test_size=0.2, random_state=13)"
   ]
  },
  {
   "cell_type": "code",
   "execution_count": 349,
   "id": "b0312a25-5a25-4880-af7e-b69e54e7f5a8",
   "metadata": {},
   "outputs": [
    {
     "data": {
      "text/html": [
       "<div>\n",
       "<style scoped>\n",
       "    .dataframe tbody tr th:only-of-type {\n",
       "        vertical-align: middle;\n",
       "    }\n",
       "\n",
       "    .dataframe tbody tr th {\n",
       "        vertical-align: top;\n",
       "    }\n",
       "\n",
       "    .dataframe thead th {\n",
       "        text-align: right;\n",
       "    }\n",
       "</style>\n",
       "<table border=\"1\" class=\"dataframe\">\n",
       "  <thead>\n",
       "    <tr style=\"text-align: right;\">\n",
       "      <th></th>\n",
       "      <th>m1</th>\n",
       "    </tr>\n",
       "  </thead>\n",
       "  <tbody>\n",
       "    <tr>\n",
       "      <th>22</th>\n",
       "      <td>650.0</td>\n",
       "    </tr>\n",
       "    <tr>\n",
       "      <th>15</th>\n",
       "      <td>1170.0</td>\n",
       "    </tr>\n",
       "    <tr>\n",
       "      <th>26</th>\n",
       "      <td>200.0</td>\n",
       "    </tr>\n",
       "    <tr>\n",
       "      <th>1</th>\n",
       "      <td>660.0</td>\n",
       "    </tr>\n",
       "    <tr>\n",
       "      <th>25</th>\n",
       "      <td>280.0</td>\n",
       "    </tr>\n",
       "    <tr>\n",
       "      <th>8</th>\n",
       "      <td>1740.0</td>\n",
       "    </tr>\n",
       "  </tbody>\n",
       "</table>\n",
       "</div>"
      ],
      "text/plain": [
       "        m1\n",
       "22   650.0\n",
       "15  1170.0\n",
       "26   200.0\n",
       "1    660.0\n",
       "25   280.0\n",
       "8   1740.0"
      ]
     },
     "execution_count": 349,
     "metadata": {},
     "output_type": "execute_result"
    }
   ],
   "source": [
    "y_test"
   ]
  },
  {
   "cell_type": "code",
   "execution_count": 342,
   "id": "199fcb5c-4984-47ca-99d3-09dec88202ba",
   "metadata": {},
   "outputs": [
    {
     "data": {
      "text/html": [
       "<div>\n",
       "<style scoped>\n",
       "    .dataframe tbody tr th:only-of-type {\n",
       "        vertical-align: middle;\n",
       "    }\n",
       "\n",
       "    .dataframe tbody tr th {\n",
       "        vertical-align: top;\n",
       "    }\n",
       "\n",
       "    .dataframe thead th {\n",
       "        text-align: right;\n",
       "    }\n",
       "</style>\n",
       "<table border=\"1\" class=\"dataframe\">\n",
       "  <thead>\n",
       "    <tr style=\"text-align: right;\">\n",
       "      <th></th>\n",
       "      <th>0</th>\n",
       "      <th>1</th>\n",
       "      <th>2</th>\n",
       "      <th>3</th>\n",
       "      <th>4</th>\n",
       "      <th>5</th>\n",
       "    </tr>\n",
       "  </thead>\n",
       "  <tbody>\n",
       "    <tr>\n",
       "      <th>142</th>\n",
       "      <td>3000</td>\n",
       "      <td>500</td>\n",
       "      <td>100</td>\n",
       "      <td>55</td>\n",
       "      <td>250</td>\n",
       "      <td>165</td>\n",
       "    </tr>\n",
       "    <tr>\n",
       "      <th>100</th>\n",
       "      <td>3680</td>\n",
       "      <td>1210</td>\n",
       "      <td>1105</td>\n",
       "      <td>1155</td>\n",
       "      <td>880</td>\n",
       "      <td>935</td>\n",
       "    </tr>\n",
       "    <tr>\n",
       "      <th>169</th>\n",
       "      <td>2000</td>\n",
       "      <td>100</td>\n",
       "      <td>200</td>\n",
       "      <td>200</td>\n",
       "      <td>100</td>\n",
       "      <td>150</td>\n",
       "    </tr>\n",
       "    <tr>\n",
       "      <th>1</th>\n",
       "      <td>2940</td>\n",
       "      <td>970</td>\n",
       "      <td>380</td>\n",
       "      <td>880</td>\n",
       "      <td>385</td>\n",
       "      <td>440</td>\n",
       "    </tr>\n",
       "    <tr>\n",
       "      <th>164</th>\n",
       "      <td>3570</td>\n",
       "      <td>1050</td>\n",
       "      <td>1155</td>\n",
       "      <td>870</td>\n",
       "      <td>1195</td>\n",
       "      <td>1115</td>\n",
       "    </tr>\n",
       "    <tr>\n",
       "      <th>64</th>\n",
       "      <td>2640</td>\n",
       "      <td>530</td>\n",
       "      <td>560</td>\n",
       "      <td>120</td>\n",
       "      <td>80</td>\n",
       "      <td>40</td>\n",
       "    </tr>\n",
       "  </tbody>\n",
       "</table>\n",
       "</div>"
      ],
      "text/plain": [
       "        0     1     2     3     4     5\n",
       "142  3000   500   100    55   250   165\n",
       "100  3680  1210  1105  1155   880   935\n",
       "169  2000   100   200   200   100   150\n",
       "1    2940   970   380   880   385   440\n",
       "164  3570  1050  1155   870  1195  1115\n",
       "64   2640   530   560   120    80    40"
      ]
     },
     "execution_count": 342,
     "metadata": {},
     "output_type": "execute_result"
    }
   ],
   "source": [
    "X_test"
   ]
  },
  {
   "cell_type": "code",
   "execution_count": 343,
   "id": "38b98267-918c-496c-9825-4e16fa2cd9d8",
   "metadata": {},
   "outputs": [
    {
     "data": {
      "text/plain": [
       "LinearRegression()"
      ]
     },
     "execution_count": 343,
     "metadata": {},
     "output_type": "execute_result"
    }
   ],
   "source": [
    "model.fit(X=X_train,y=y_train)"
   ]
  },
  {
   "cell_type": "code",
   "execution_count": 353,
   "id": "dddd4377-791c-4c78-b00c-0a48b6e00767",
   "metadata": {},
   "outputs": [
    {
     "data": {
      "text/plain": [
       "array([661.80899291])"
      ]
     },
     "execution_count": 353,
     "metadata": {},
     "output_type": "execute_result"
    }
   ],
   "source": [
    "model.intercept_"
   ]
  },
  {
   "cell_type": "code",
   "execution_count": 354,
   "id": "0533f5dd-4515-4496-97f8-988004bff473",
   "metadata": {},
   "outputs": [
    {
     "data": {
      "text/plain": [
       "array([[ 0.1493457 , -0.02884639, -0.16393641, -0.39787534,  0.08333259,\n",
       "         0.19052126]])"
      ]
     },
     "execution_count": 354,
     "metadata": {},
     "output_type": "execute_result"
    }
   ],
   "source": [
    "model.coef_"
   ]
  },
  {
   "cell_type": "code",
   "execution_count": 355,
   "id": "1a2fc077-0286-4695-9141-66a4dbdfa6f4",
   "metadata": {},
   "outputs": [],
   "source": [
    "y_test = model.predict(X_test)"
   ]
  },
  {
   "cell_type": "code",
   "execution_count": 361,
   "id": "be7e3433-0e8d-4890-a3b8-50ae9c903b70",
   "metadata": {},
   "outputs": [
    {
     "data": {
      "text/plain": [
       "array([[1109.41527015],\n",
       "       [ 787.27134036],\n",
       "       [ 882.16485068],\n",
       "       [ 776.39061795],\n",
       "       [ 941.19998035],\n",
       "       [ 915.53108225]])"
      ]
     },
     "execution_count": 361,
     "metadata": {},
     "output_type": "execute_result"
    }
   ],
   "source": [
    "y_test"
   ]
  },
  {
   "cell_type": "code",
   "execution_count": 362,
   "id": "a8498908-976a-4f88-a86f-e832841ea955",
   "metadata": {},
   "outputs": [
    {
     "data": {
      "text/plain": [
       "0         880.0\n",
       "1         660.0\n",
       "2         700.0\n",
       "3         580.0\n",
       "4          40.0\n",
       "          ...  \n",
       "28002    1640.0\n",
       "28003     900.0\n",
       "28004     680.0\n",
       "28005    1300.0\n",
       "28006     970.0\n",
       "Name: m1, Length: 28007, dtype: float64"
      ]
     },
     "execution_count": 362,
     "metadata": {},
     "output_type": "execute_result"
    }
   ],
   "source": [
    "tra"
   ]
  },
  {
   "cell_type": "code",
   "execution_count": 363,
   "id": "b67ceadb-693f-4f2c-bf0f-197be441e924",
   "metadata": {},
   "outputs": [
    {
     "data": {
      "text/plain": [
       "array([[1109.41527015],\n",
       "       [ 787.27134036],\n",
       "       [ 882.16485068],\n",
       "       [ 776.39061795],\n",
       "       [ 941.19998035],\n",
       "       [ 915.53108225]])"
      ]
     },
     "execution_count": 363,
     "metadata": {},
     "output_type": "execute_result"
    }
   ],
   "source": [
    "y_test"
   ]
  },
  {
   "cell_type": "code",
   "execution_count": 366,
   "id": "b18cc200-2df7-4b64-b034-7c185179ceaf",
   "metadata": {},
   "outputs": [],
   "source": [
    "#"
   ]
  },
  {
   "cell_type": "code",
   "execution_count": null,
   "id": "31354a33-f954-435f-8739-bf403aba6d23",
   "metadata": {},
   "outputs": [],
   "source": []
  },
  {
   "cell_type": "code",
   "execution_count": null,
   "id": "79dc415d-b89e-4020-aac0-d7ce2d456687",
   "metadata": {},
   "outputs": [],
   "source": []
  },
  {
   "cell_type": "code",
   "execution_count": null,
   "id": "df7d6b3b-6b06-4b6f-ab2f-0123f5eb39a1",
   "metadata": {},
   "outputs": [],
   "source": []
  },
  {
   "cell_type": "code",
   "execution_count": 367,
   "id": "01d748c1-2cad-443d-80b0-4731c9e3bcc6",
   "metadata": {},
   "outputs": [
    {
     "ename": "ValueError",
     "evalue": "Found input variables with inconsistent numbers of samples: [30, 6]",
     "output_type": "error",
     "traceback": [
      "\u001b[1;31m---------------------------------------------------------------------------\u001b[0m",
      "\u001b[1;31mValueError\u001b[0m                                Traceback (most recent call last)",
      "Input \u001b[1;32mIn [367]\u001b[0m, in \u001b[0;36m<cell line: 1>\u001b[1;34m()\u001b[0m\n\u001b[1;32m----> 1\u001b[0m \u001b[43mmean_squared_error\u001b[49m\u001b[43m(\u001b[49m\u001b[43my_true\u001b[49m\u001b[38;5;241;43m=\u001b[39;49m\u001b[43mtrain\u001b[49m\u001b[38;5;241;43m.\u001b[39;49m\u001b[43mloc\u001b[49m\u001b[43m[\u001b[49m\u001b[43m:\u001b[49m\u001b[38;5;241;43m29\u001b[39;49m\u001b[43m,\u001b[49m\u001b[43m[\u001b[49m\u001b[38;5;124;43m'\u001b[39;49m\u001b[38;5;124;43mm1\u001b[39;49m\u001b[38;5;124;43m'\u001b[39;49m\u001b[43m]\u001b[49m\u001b[43m]\u001b[49m\u001b[43m,\u001b[49m\u001b[43m \u001b[49m\u001b[43my_pred\u001b[49m\u001b[38;5;241;43m=\u001b[39;49m\u001b[43my_test\u001b[49m\u001b[43m)\u001b[49m\n",
      "File \u001b[1;32m~\\anaconda3\\lib\\site-packages\\sklearn\\metrics\\_regression.py:438\u001b[0m, in \u001b[0;36mmean_squared_error\u001b[1;34m(y_true, y_pred, sample_weight, multioutput, squared)\u001b[0m\n\u001b[0;32m    378\u001b[0m \u001b[38;5;28;01mdef\u001b[39;00m \u001b[38;5;21mmean_squared_error\u001b[39m(\n\u001b[0;32m    379\u001b[0m     y_true, y_pred, \u001b[38;5;241m*\u001b[39m, sample_weight\u001b[38;5;241m=\u001b[39m\u001b[38;5;28;01mNone\u001b[39;00m, multioutput\u001b[38;5;241m=\u001b[39m\u001b[38;5;124m\"\u001b[39m\u001b[38;5;124muniform_average\u001b[39m\u001b[38;5;124m\"\u001b[39m, squared\u001b[38;5;241m=\u001b[39m\u001b[38;5;28;01mTrue\u001b[39;00m\n\u001b[0;32m    380\u001b[0m ):\n\u001b[0;32m    381\u001b[0m     \u001b[38;5;124;03m\"\"\"Mean squared error regression loss.\u001b[39;00m\n\u001b[0;32m    382\u001b[0m \n\u001b[0;32m    383\u001b[0m \u001b[38;5;124;03m    Read more in the :ref:`User Guide <mean_squared_error>`.\u001b[39;00m\n\u001b[1;32m   (...)\u001b[0m\n\u001b[0;32m    436\u001b[0m \u001b[38;5;124;03m    0.825...\u001b[39;00m\n\u001b[0;32m    437\u001b[0m \u001b[38;5;124;03m    \"\"\"\u001b[39;00m\n\u001b[1;32m--> 438\u001b[0m     y_type, y_true, y_pred, multioutput \u001b[38;5;241m=\u001b[39m \u001b[43m_check_reg_targets\u001b[49m\u001b[43m(\u001b[49m\n\u001b[0;32m    439\u001b[0m \u001b[43m        \u001b[49m\u001b[43my_true\u001b[49m\u001b[43m,\u001b[49m\u001b[43m \u001b[49m\u001b[43my_pred\u001b[49m\u001b[43m,\u001b[49m\u001b[43m \u001b[49m\u001b[43mmultioutput\u001b[49m\n\u001b[0;32m    440\u001b[0m \u001b[43m    \u001b[49m\u001b[43m)\u001b[49m\n\u001b[0;32m    441\u001b[0m     check_consistent_length(y_true, y_pred, sample_weight)\n\u001b[0;32m    442\u001b[0m     output_errors \u001b[38;5;241m=\u001b[39m np\u001b[38;5;241m.\u001b[39maverage((y_true \u001b[38;5;241m-\u001b[39m y_pred) \u001b[38;5;241m*\u001b[39m\u001b[38;5;241m*\u001b[39m \u001b[38;5;241m2\u001b[39m, axis\u001b[38;5;241m=\u001b[39m\u001b[38;5;241m0\u001b[39m, weights\u001b[38;5;241m=\u001b[39msample_weight)\n",
      "File \u001b[1;32m~\\anaconda3\\lib\\site-packages\\sklearn\\metrics\\_regression.py:94\u001b[0m, in \u001b[0;36m_check_reg_targets\u001b[1;34m(y_true, y_pred, multioutput, dtype)\u001b[0m\n\u001b[0;32m     60\u001b[0m \u001b[38;5;28;01mdef\u001b[39;00m \u001b[38;5;21m_check_reg_targets\u001b[39m(y_true, y_pred, multioutput, dtype\u001b[38;5;241m=\u001b[39m\u001b[38;5;124m\"\u001b[39m\u001b[38;5;124mnumeric\u001b[39m\u001b[38;5;124m\"\u001b[39m):\n\u001b[0;32m     61\u001b[0m     \u001b[38;5;124;03m\"\"\"Check that y_true and y_pred belong to the same regression task.\u001b[39;00m\n\u001b[0;32m     62\u001b[0m \n\u001b[0;32m     63\u001b[0m \u001b[38;5;124;03m    Parameters\u001b[39;00m\n\u001b[1;32m   (...)\u001b[0m\n\u001b[0;32m     92\u001b[0m \u001b[38;5;124;03m        the dtype argument passed to check_array.\u001b[39;00m\n\u001b[0;32m     93\u001b[0m \u001b[38;5;124;03m    \"\"\"\u001b[39;00m\n\u001b[1;32m---> 94\u001b[0m     \u001b[43mcheck_consistent_length\u001b[49m\u001b[43m(\u001b[49m\u001b[43my_true\u001b[49m\u001b[43m,\u001b[49m\u001b[43m \u001b[49m\u001b[43my_pred\u001b[49m\u001b[43m)\u001b[49m\n\u001b[0;32m     95\u001b[0m     y_true \u001b[38;5;241m=\u001b[39m check_array(y_true, ensure_2d\u001b[38;5;241m=\u001b[39m\u001b[38;5;28;01mFalse\u001b[39;00m, dtype\u001b[38;5;241m=\u001b[39mdtype)\n\u001b[0;32m     96\u001b[0m     y_pred \u001b[38;5;241m=\u001b[39m check_array(y_pred, ensure_2d\u001b[38;5;241m=\u001b[39m\u001b[38;5;28;01mFalse\u001b[39;00m, dtype\u001b[38;5;241m=\u001b[39mdtype)\n",
      "File \u001b[1;32m~\\anaconda3\\lib\\site-packages\\sklearn\\utils\\validation.py:332\u001b[0m, in \u001b[0;36mcheck_consistent_length\u001b[1;34m(*arrays)\u001b[0m\n\u001b[0;32m    330\u001b[0m uniques \u001b[38;5;241m=\u001b[39m np\u001b[38;5;241m.\u001b[39munique(lengths)\n\u001b[0;32m    331\u001b[0m \u001b[38;5;28;01mif\u001b[39;00m \u001b[38;5;28mlen\u001b[39m(uniques) \u001b[38;5;241m>\u001b[39m \u001b[38;5;241m1\u001b[39m:\n\u001b[1;32m--> 332\u001b[0m     \u001b[38;5;28;01mraise\u001b[39;00m \u001b[38;5;167;01mValueError\u001b[39;00m(\n\u001b[0;32m    333\u001b[0m         \u001b[38;5;124m\"\u001b[39m\u001b[38;5;124mFound input variables with inconsistent numbers of samples: \u001b[39m\u001b[38;5;132;01m%r\u001b[39;00m\u001b[38;5;124m\"\u001b[39m\n\u001b[0;32m    334\u001b[0m         \u001b[38;5;241m%\u001b[39m [\u001b[38;5;28mint\u001b[39m(l) \u001b[38;5;28;01mfor\u001b[39;00m l \u001b[38;5;129;01min\u001b[39;00m lengths]\n\u001b[0;32m    335\u001b[0m     )\n",
      "\u001b[1;31mValueError\u001b[0m: Found input variables with inconsistent numbers of samples: [30, 6]"
     ]
    }
   ],
   "source": [
    "mean_squared_error(y_true=train.loc[:29,['m1']], y_pred=y_test)"
   ]
  },
  {
   "cell_type": "code",
   "execution_count": null,
   "id": "cbcdfff0-b2a0-4ba4-bfe0-571a1d40ea72",
   "metadata": {},
   "outputs": [],
   "source": []
  },
  {
   "cell_type": "code",
   "execution_count": null,
   "id": "05b9638e-d31d-40dd-bf92-987fccb2b4e8",
   "metadata": {},
   "outputs": [],
   "source": []
  },
  {
   "cell_type": "code",
   "execution_count": null,
   "id": "27017410-0031-43a0-aab1-2000799261c8",
   "metadata": {},
   "outputs": [],
   "source": []
  },
  {
   "cell_type": "code",
   "execution_count": null,
   "id": "2315fde1-df7b-476c-9a42-d27768977234",
   "metadata": {},
   "outputs": [],
   "source": []
  },
  {
   "cell_type": "code",
   "execution_count": null,
   "id": "584af6d3-eae9-4106-8226-a1d5fa2f992c",
   "metadata": {},
   "outputs": [],
   "source": []
  },
  {
   "cell_type": "code",
   "execution_count": null,
   "id": "785fa1e8-3b41-498e-a1fe-5c9064589e46",
   "metadata": {},
   "outputs": [],
   "source": []
  },
  {
   "cell_type": "code",
   "execution_count": 281,
   "id": "6e4a9bc9-487e-4701-a60e-e1eca9e64fdd",
   "metadata": {},
   "outputs": [],
   "source": [
    "dataframe.dropna(axis=0,thresh=30,inplace=True)"
   ]
  },
  {
   "cell_type": "code",
   "execution_count": 273,
   "id": "77439eae-a4db-4e7c-96ee-6adccc5c34a3",
   "metadata": {},
   "outputs": [
    {
     "data": {
      "text/html": [
       "<div>\n",
       "<style scoped>\n",
       "    .dataframe tbody tr th:only-of-type {\n",
       "        vertical-align: middle;\n",
       "    }\n",
       "\n",
       "    .dataframe tbody tr th {\n",
       "        vertical-align: top;\n",
       "    }\n",
       "\n",
       "    .dataframe thead th {\n",
       "        text-align: right;\n",
       "    }\n",
       "</style>\n",
       "<table border=\"1\" class=\"dataframe\">\n",
       "  <thead>\n",
       "    <tr style=\"text-align: right;\">\n",
       "      <th></th>\n",
       "      <th>0</th>\n",
       "      <th>1</th>\n",
       "      <th>2</th>\n",
       "      <th>3</th>\n",
       "      <th>4</th>\n",
       "      <th>5</th>\n",
       "      <th>6</th>\n",
       "      <th>7</th>\n",
       "      <th>8</th>\n",
       "      <th>9</th>\n",
       "      <th>...</th>\n",
       "      <th>27</th>\n",
       "      <th>28</th>\n",
       "      <th>29</th>\n",
       "      <th>30</th>\n",
       "      <th>31</th>\n",
       "      <th>32</th>\n",
       "      <th>33</th>\n",
       "      <th>34</th>\n",
       "      <th>35</th>\n",
       "      <th>36</th>\n",
       "    </tr>\n",
       "  </thead>\n",
       "  <tbody>\n",
       "    <tr>\n",
       "      <th>0</th>\n",
       "      <td>NaN</td>\n",
       "      <td>NaN</td>\n",
       "      <td>NaN</td>\n",
       "      <td>NaN</td>\n",
       "      <td>NaN</td>\n",
       "      <td>NaN</td>\n",
       "      <td>NaN</td>\n",
       "      <td>NaN</td>\n",
       "      <td>NaN</td>\n",
       "      <td>NaN</td>\n",
       "      <td>...</td>\n",
       "      <td>NaN</td>\n",
       "      <td>NaN</td>\n",
       "      <td>NaN</td>\n",
       "      <td>NaN</td>\n",
       "      <td>NaN</td>\n",
       "      <td>NaN</td>\n",
       "      <td>NaN</td>\n",
       "      <td>NaN</td>\n",
       "      <td>NaN</td>\n",
       "      <td>NaN</td>\n",
       "    </tr>\n",
       "    <tr>\n",
       "      <th>1</th>\n",
       "      <td>NaN</td>\n",
       "      <td>NaN</td>\n",
       "      <td>NaN</td>\n",
       "      <td>NaN</td>\n",
       "      <td>NaN</td>\n",
       "      <td>NaN</td>\n",
       "      <td>NaN</td>\n",
       "      <td>NaN</td>\n",
       "      <td>NaN</td>\n",
       "      <td>NaN</td>\n",
       "      <td>...</td>\n",
       "      <td>NaN</td>\n",
       "      <td>NaN</td>\n",
       "      <td>NaN</td>\n",
       "      <td>NaN</td>\n",
       "      <td>NaN</td>\n",
       "      <td>NaN</td>\n",
       "      <td>NaN</td>\n",
       "      <td>NaN</td>\n",
       "      <td>NaN</td>\n",
       "      <td>NaN</td>\n",
       "    </tr>\n",
       "    <tr>\n",
       "      <th>2</th>\n",
       "      <td>NaN</td>\n",
       "      <td>NaN</td>\n",
       "      <td>NaN</td>\n",
       "      <td>NaN</td>\n",
       "      <td>NaN</td>\n",
       "      <td>NaN</td>\n",
       "      <td>NaN</td>\n",
       "      <td>NaN</td>\n",
       "      <td>NaN</td>\n",
       "      <td>NaN</td>\n",
       "      <td>...</td>\n",
       "      <td>NaN</td>\n",
       "      <td>NaN</td>\n",
       "      <td>NaN</td>\n",
       "      <td>NaN</td>\n",
       "      <td>NaN</td>\n",
       "      <td>NaN</td>\n",
       "      <td>NaN</td>\n",
       "      <td>NaN</td>\n",
       "      <td>NaN</td>\n",
       "      <td>NaN</td>\n",
       "    </tr>\n",
       "    <tr>\n",
       "      <th>3</th>\n",
       "      <td>NaN</td>\n",
       "      <td>NaN</td>\n",
       "      <td>NaN</td>\n",
       "      <td>NaN</td>\n",
       "      <td>NaN</td>\n",
       "      <td>NaN</td>\n",
       "      <td>NaN</td>\n",
       "      <td>NaN</td>\n",
       "      <td>NaN</td>\n",
       "      <td>NaN</td>\n",
       "      <td>...</td>\n",
       "      <td>NaN</td>\n",
       "      <td>NaN</td>\n",
       "      <td>NaN</td>\n",
       "      <td>NaN</td>\n",
       "      <td>NaN</td>\n",
       "      <td>NaN</td>\n",
       "      <td>NaN</td>\n",
       "      <td>NaN</td>\n",
       "      <td>NaN</td>\n",
       "      <td>NaN</td>\n",
       "    </tr>\n",
       "    <tr>\n",
       "      <th>4</th>\n",
       "      <td>NaN</td>\n",
       "      <td>NaN</td>\n",
       "      <td>NaN</td>\n",
       "      <td>NaN</td>\n",
       "      <td>NaN</td>\n",
       "      <td>NaN</td>\n",
       "      <td>NaN</td>\n",
       "      <td>NaN</td>\n",
       "      <td>NaN</td>\n",
       "      <td>NaN</td>\n",
       "      <td>...</td>\n",
       "      <td>NaN</td>\n",
       "      <td>NaN</td>\n",
       "      <td>NaN</td>\n",
       "      <td>NaN</td>\n",
       "      <td>NaN</td>\n",
       "      <td>NaN</td>\n",
       "      <td>NaN</td>\n",
       "      <td>NaN</td>\n",
       "      <td>NaN</td>\n",
       "      <td>NaN</td>\n",
       "    </tr>\n",
       "    <tr>\n",
       "      <th>...</th>\n",
       "      <td>...</td>\n",
       "      <td>...</td>\n",
       "      <td>...</td>\n",
       "      <td>...</td>\n",
       "      <td>...</td>\n",
       "      <td>...</td>\n",
       "      <td>...</td>\n",
       "      <td>...</td>\n",
       "      <td>...</td>\n",
       "      <td>...</td>\n",
       "      <td>...</td>\n",
       "      <td>...</td>\n",
       "      <td>...</td>\n",
       "      <td>...</td>\n",
       "      <td>...</td>\n",
       "      <td>...</td>\n",
       "      <td>...</td>\n",
       "      <td>...</td>\n",
       "      <td>...</td>\n",
       "      <td>...</td>\n",
       "      <td>...</td>\n",
       "    </tr>\n",
       "    <tr>\n",
       "      <th>195</th>\n",
       "      <td>NaN</td>\n",
       "      <td>NaN</td>\n",
       "      <td>NaN</td>\n",
       "      <td>NaN</td>\n",
       "      <td>NaN</td>\n",
       "      <td>NaN</td>\n",
       "      <td>NaN</td>\n",
       "      <td>NaN</td>\n",
       "      <td>NaN</td>\n",
       "      <td>NaN</td>\n",
       "      <td>...</td>\n",
       "      <td>NaN</td>\n",
       "      <td>NaN</td>\n",
       "      <td>NaN</td>\n",
       "      <td>NaN</td>\n",
       "      <td>NaN</td>\n",
       "      <td>NaN</td>\n",
       "      <td>NaN</td>\n",
       "      <td>NaN</td>\n",
       "      <td>NaN</td>\n",
       "      <td>NaN</td>\n",
       "    </tr>\n",
       "    <tr>\n",
       "      <th>196</th>\n",
       "      <td>NaN</td>\n",
       "      <td>NaN</td>\n",
       "      <td>NaN</td>\n",
       "      <td>NaN</td>\n",
       "      <td>NaN</td>\n",
       "      <td>NaN</td>\n",
       "      <td>NaN</td>\n",
       "      <td>NaN</td>\n",
       "      <td>NaN</td>\n",
       "      <td>NaN</td>\n",
       "      <td>...</td>\n",
       "      <td>NaN</td>\n",
       "      <td>NaN</td>\n",
       "      <td>NaN</td>\n",
       "      <td>NaN</td>\n",
       "      <td>NaN</td>\n",
       "      <td>NaN</td>\n",
       "      <td>NaN</td>\n",
       "      <td>NaN</td>\n",
       "      <td>NaN</td>\n",
       "      <td>NaN</td>\n",
       "    </tr>\n",
       "    <tr>\n",
       "      <th>197</th>\n",
       "      <td>NaN</td>\n",
       "      <td>NaN</td>\n",
       "      <td>NaN</td>\n",
       "      <td>NaN</td>\n",
       "      <td>NaN</td>\n",
       "      <td>NaN</td>\n",
       "      <td>NaN</td>\n",
       "      <td>NaN</td>\n",
       "      <td>NaN</td>\n",
       "      <td>NaN</td>\n",
       "      <td>...</td>\n",
       "      <td>NaN</td>\n",
       "      <td>NaN</td>\n",
       "      <td>NaN</td>\n",
       "      <td>NaN</td>\n",
       "      <td>NaN</td>\n",
       "      <td>NaN</td>\n",
       "      <td>NaN</td>\n",
       "      <td>NaN</td>\n",
       "      <td>NaN</td>\n",
       "      <td>NaN</td>\n",
       "    </tr>\n",
       "    <tr>\n",
       "      <th>198</th>\n",
       "      <td>NaN</td>\n",
       "      <td>NaN</td>\n",
       "      <td>NaN</td>\n",
       "      <td>NaN</td>\n",
       "      <td>NaN</td>\n",
       "      <td>NaN</td>\n",
       "      <td>NaN</td>\n",
       "      <td>NaN</td>\n",
       "      <td>NaN</td>\n",
       "      <td>NaN</td>\n",
       "      <td>...</td>\n",
       "      <td>NaN</td>\n",
       "      <td>NaN</td>\n",
       "      <td>NaN</td>\n",
       "      <td>NaN</td>\n",
       "      <td>NaN</td>\n",
       "      <td>NaN</td>\n",
       "      <td>NaN</td>\n",
       "      <td>NaN</td>\n",
       "      <td>NaN</td>\n",
       "      <td>NaN</td>\n",
       "    </tr>\n",
       "    <tr>\n",
       "      <th>199</th>\n",
       "      <td>NaN</td>\n",
       "      <td>NaN</td>\n",
       "      <td>NaN</td>\n",
       "      <td>NaN</td>\n",
       "      <td>NaN</td>\n",
       "      <td>NaN</td>\n",
       "      <td>NaN</td>\n",
       "      <td>NaN</td>\n",
       "      <td>NaN</td>\n",
       "      <td>NaN</td>\n",
       "      <td>...</td>\n",
       "      <td>NaN</td>\n",
       "      <td>NaN</td>\n",
       "      <td>NaN</td>\n",
       "      <td>NaN</td>\n",
       "      <td>NaN</td>\n",
       "      <td>NaN</td>\n",
       "      <td>NaN</td>\n",
       "      <td>NaN</td>\n",
       "      <td>NaN</td>\n",
       "      <td>NaN</td>\n",
       "    </tr>\n",
       "  </tbody>\n",
       "</table>\n",
       "<p>200 rows × 37 columns</p>\n",
       "</div>"
      ],
      "text/plain": [
       "     0   1   2   3   4   5   6   7   8   9   ...  27  28  29  30  31  32  33  \\\n",
       "0   NaN NaN NaN NaN NaN NaN NaN NaN NaN NaN  ... NaN NaN NaN NaN NaN NaN NaN   \n",
       "1   NaN NaN NaN NaN NaN NaN NaN NaN NaN NaN  ... NaN NaN NaN NaN NaN NaN NaN   \n",
       "2   NaN NaN NaN NaN NaN NaN NaN NaN NaN NaN  ... NaN NaN NaN NaN NaN NaN NaN   \n",
       "3   NaN NaN NaN NaN NaN NaN NaN NaN NaN NaN  ... NaN NaN NaN NaN NaN NaN NaN   \n",
       "4   NaN NaN NaN NaN NaN NaN NaN NaN NaN NaN  ... NaN NaN NaN NaN NaN NaN NaN   \n",
       "..   ..  ..  ..  ..  ..  ..  ..  ..  ..  ..  ...  ..  ..  ..  ..  ..  ..  ..   \n",
       "195 NaN NaN NaN NaN NaN NaN NaN NaN NaN NaN  ... NaN NaN NaN NaN NaN NaN NaN   \n",
       "196 NaN NaN NaN NaN NaN NaN NaN NaN NaN NaN  ... NaN NaN NaN NaN NaN NaN NaN   \n",
       "197 NaN NaN NaN NaN NaN NaN NaN NaN NaN NaN  ... NaN NaN NaN NaN NaN NaN NaN   \n",
       "198 NaN NaN NaN NaN NaN NaN NaN NaN NaN NaN  ... NaN NaN NaN NaN NaN NaN NaN   \n",
       "199 NaN NaN NaN NaN NaN NaN NaN NaN NaN NaN  ... NaN NaN NaN NaN NaN NaN NaN   \n",
       "\n",
       "     34  35  36  \n",
       "0   NaN NaN NaN  \n",
       "1   NaN NaN NaN  \n",
       "2   NaN NaN NaN  \n",
       "3   NaN NaN NaN  \n",
       "4   NaN NaN NaN  \n",
       "..   ..  ..  ..  \n",
       "195 NaN NaN NaN  \n",
       "196 NaN NaN NaN  \n",
       "197 NaN NaN NaN  \n",
       "198 NaN NaN NaN  \n",
       "199 NaN NaN NaN  \n",
       "\n",
       "[200 rows x 37 columns]"
      ]
     },
     "execution_count": 273,
     "metadata": {},
     "output_type": "execute_result"
    }
   ],
   "source": [
    "dataframe[dataframe == np.nan]"
   ]
  },
  {
   "cell_type": "code",
   "execution_count": 300,
   "id": "0a2a40b3-bc8b-4b8e-b6e3-c4d7b2eb8b23",
   "metadata": {},
   "outputs": [
    {
     "ename": "ValueError",
     "evalue": "Found input variables with inconsistent numbers of samples: [30, 31]",
     "output_type": "error",
     "traceback": [
      "\u001b[1;31m---------------------------------------------------------------------------\u001b[0m",
      "\u001b[1;31mValueError\u001b[0m                                Traceback (most recent call last)",
      "Input \u001b[1;32mIn [300]\u001b[0m, in \u001b[0;36m<cell line: 1>\u001b[1;34m()\u001b[0m\n\u001b[1;32m----> 1\u001b[0m X_train, X_test, y_train, y_test \u001b[38;5;241m=\u001b[39m \u001b[43mtrain_test_split\u001b[49m\u001b[43m(\u001b[49m\u001b[43mx\u001b[49m\u001b[43m,\u001b[49m\u001b[43m \u001b[49m\u001b[43my\u001b[49m\u001b[43m,\u001b[49m\u001b[43m \u001b[49m\u001b[43mtest_size\u001b[49m\u001b[38;5;241;43m=\u001b[39;49m\u001b[38;5;241;43m0.2\u001b[39;49m\u001b[43m,\u001b[49m\u001b[43m \u001b[49m\u001b[43mrandom_state\u001b[49m\u001b[38;5;241;43m=\u001b[39;49m\u001b[38;5;241;43m13\u001b[39;49m\u001b[43m)\u001b[49m\n",
      "File \u001b[1;32m~\\anaconda3\\lib\\site-packages\\sklearn\\model_selection\\_split.py:2417\u001b[0m, in \u001b[0;36mtrain_test_split\u001b[1;34m(test_size, train_size, random_state, shuffle, stratify, *arrays)\u001b[0m\n\u001b[0;32m   2414\u001b[0m \u001b[38;5;28;01mif\u001b[39;00m n_arrays \u001b[38;5;241m==\u001b[39m \u001b[38;5;241m0\u001b[39m:\n\u001b[0;32m   2415\u001b[0m     \u001b[38;5;28;01mraise\u001b[39;00m \u001b[38;5;167;01mValueError\u001b[39;00m(\u001b[38;5;124m\"\u001b[39m\u001b[38;5;124mAt least one array required as input\u001b[39m\u001b[38;5;124m\"\u001b[39m)\n\u001b[1;32m-> 2417\u001b[0m arrays \u001b[38;5;241m=\u001b[39m \u001b[43mindexable\u001b[49m\u001b[43m(\u001b[49m\u001b[38;5;241;43m*\u001b[39;49m\u001b[43marrays\u001b[49m\u001b[43m)\u001b[49m\n\u001b[0;32m   2419\u001b[0m n_samples \u001b[38;5;241m=\u001b[39m _num_samples(arrays[\u001b[38;5;241m0\u001b[39m])\n\u001b[0;32m   2420\u001b[0m n_train, n_test \u001b[38;5;241m=\u001b[39m _validate_shuffle_split(\n\u001b[0;32m   2421\u001b[0m     n_samples, test_size, train_size, default_test_size\u001b[38;5;241m=\u001b[39m\u001b[38;5;241m0.25\u001b[39m\n\u001b[0;32m   2422\u001b[0m )\n",
      "File \u001b[1;32m~\\anaconda3\\lib\\site-packages\\sklearn\\utils\\validation.py:378\u001b[0m, in \u001b[0;36mindexable\u001b[1;34m(*iterables)\u001b[0m\n\u001b[0;32m    359\u001b[0m \u001b[38;5;124;03m\"\"\"Make arrays indexable for cross-validation.\u001b[39;00m\n\u001b[0;32m    360\u001b[0m \n\u001b[0;32m    361\u001b[0m \u001b[38;5;124;03mChecks consistent length, passes through None, and ensures that everything\u001b[39;00m\n\u001b[1;32m   (...)\u001b[0m\n\u001b[0;32m    374\u001b[0m \u001b[38;5;124;03m    sparse matrix, or dataframe) or `None`.\u001b[39;00m\n\u001b[0;32m    375\u001b[0m \u001b[38;5;124;03m\"\"\"\u001b[39;00m\n\u001b[0;32m    377\u001b[0m result \u001b[38;5;241m=\u001b[39m [_make_indexable(X) \u001b[38;5;28;01mfor\u001b[39;00m X \u001b[38;5;129;01min\u001b[39;00m iterables]\n\u001b[1;32m--> 378\u001b[0m \u001b[43mcheck_consistent_length\u001b[49m\u001b[43m(\u001b[49m\u001b[38;5;241;43m*\u001b[39;49m\u001b[43mresult\u001b[49m\u001b[43m)\u001b[49m\n\u001b[0;32m    379\u001b[0m \u001b[38;5;28;01mreturn\u001b[39;00m result\n",
      "File \u001b[1;32m~\\anaconda3\\lib\\site-packages\\sklearn\\utils\\validation.py:332\u001b[0m, in \u001b[0;36mcheck_consistent_length\u001b[1;34m(*arrays)\u001b[0m\n\u001b[0;32m    330\u001b[0m uniques \u001b[38;5;241m=\u001b[39m np\u001b[38;5;241m.\u001b[39munique(lengths)\n\u001b[0;32m    331\u001b[0m \u001b[38;5;28;01mif\u001b[39;00m \u001b[38;5;28mlen\u001b[39m(uniques) \u001b[38;5;241m>\u001b[39m \u001b[38;5;241m1\u001b[39m:\n\u001b[1;32m--> 332\u001b[0m     \u001b[38;5;28;01mraise\u001b[39;00m \u001b[38;5;167;01mValueError\u001b[39;00m(\n\u001b[0;32m    333\u001b[0m         \u001b[38;5;124m\"\u001b[39m\u001b[38;5;124mFound input variables with inconsistent numbers of samples: \u001b[39m\u001b[38;5;132;01m%r\u001b[39;00m\u001b[38;5;124m\"\u001b[39m\n\u001b[0;32m    334\u001b[0m         \u001b[38;5;241m%\u001b[39m [\u001b[38;5;28mint\u001b[39m(l) \u001b[38;5;28;01mfor\u001b[39;00m l \u001b[38;5;129;01min\u001b[39;00m lengths]\n\u001b[0;32m    335\u001b[0m     )\n",
      "\u001b[1;31mValueError\u001b[0m: Found input variables with inconsistent numbers of samples: [30, 31]"
     ]
    }
   ],
   "source": [
    "X_train, X_test, y_train, y_test = train_test_split(x, y, test_size=0.2, random_state=13)"
   ]
  },
  {
   "cell_type": "code",
   "execution_count": 258,
   "id": "159d8ce2-8752-4415-9a0e-f1d3db1c6010",
   "metadata": {},
   "outputs": [
    {
     "ename": "ValueError",
     "evalue": "Found input variables with inconsistent numbers of samples: [200, 28007]",
     "output_type": "error",
     "traceback": [
      "\u001b[1;31m---------------------------------------------------------------------------\u001b[0m",
      "\u001b[1;31mValueError\u001b[0m                                Traceback (most recent call last)",
      "Input \u001b[1;32mIn [258]\u001b[0m, in \u001b[0;36m<cell line: 1>\u001b[1;34m()\u001b[0m\n\u001b[1;32m----> 1\u001b[0m \u001b[43mmodel\u001b[49m\u001b[38;5;241;43m.\u001b[39;49m\u001b[43mfit\u001b[49m\u001b[43m(\u001b[49m\u001b[43mdataframe\u001b[49m\u001b[38;5;241;43m.\u001b[39;49m\u001b[43miloc\u001b[49m\u001b[43m[\u001b[49m\u001b[43m:\u001b[49m\u001b[43m,\u001b[49m\u001b[43m:\u001b[49m\u001b[38;5;241;43m6\u001b[39;49m\u001b[43m]\u001b[49m\u001b[43m,\u001b[49m\u001b[43mtrain\u001b[49m\u001b[43m[\u001b[49m\u001b[38;5;124;43m'\u001b[39;49m\u001b[38;5;124;43mm1\u001b[39;49m\u001b[38;5;124;43m'\u001b[39;49m\u001b[43m]\u001b[49m\u001b[43m)\u001b[49m\n",
      "File \u001b[1;32m~\\anaconda3\\lib\\site-packages\\sklearn\\linear_model\\_base.py:662\u001b[0m, in \u001b[0;36mLinearRegression.fit\u001b[1;34m(self, X, y, sample_weight)\u001b[0m\n\u001b[0;32m    658\u001b[0m n_jobs_ \u001b[38;5;241m=\u001b[39m \u001b[38;5;28mself\u001b[39m\u001b[38;5;241m.\u001b[39mn_jobs\n\u001b[0;32m    660\u001b[0m accept_sparse \u001b[38;5;241m=\u001b[39m \u001b[38;5;28;01mFalse\u001b[39;00m \u001b[38;5;28;01mif\u001b[39;00m \u001b[38;5;28mself\u001b[39m\u001b[38;5;241m.\u001b[39mpositive \u001b[38;5;28;01melse\u001b[39;00m [\u001b[38;5;124m\"\u001b[39m\u001b[38;5;124mcsr\u001b[39m\u001b[38;5;124m\"\u001b[39m, \u001b[38;5;124m\"\u001b[39m\u001b[38;5;124mcsc\u001b[39m\u001b[38;5;124m\"\u001b[39m, \u001b[38;5;124m\"\u001b[39m\u001b[38;5;124mcoo\u001b[39m\u001b[38;5;124m\"\u001b[39m]\n\u001b[1;32m--> 662\u001b[0m X, y \u001b[38;5;241m=\u001b[39m \u001b[38;5;28;43mself\u001b[39;49m\u001b[38;5;241;43m.\u001b[39;49m\u001b[43m_validate_data\u001b[49m\u001b[43m(\u001b[49m\n\u001b[0;32m    663\u001b[0m \u001b[43m    \u001b[49m\u001b[43mX\u001b[49m\u001b[43m,\u001b[49m\u001b[43m \u001b[49m\u001b[43my\u001b[49m\u001b[43m,\u001b[49m\u001b[43m \u001b[49m\u001b[43maccept_sparse\u001b[49m\u001b[38;5;241;43m=\u001b[39;49m\u001b[43maccept_sparse\u001b[49m\u001b[43m,\u001b[49m\u001b[43m \u001b[49m\u001b[43my_numeric\u001b[49m\u001b[38;5;241;43m=\u001b[39;49m\u001b[38;5;28;43;01mTrue\u001b[39;49;00m\u001b[43m,\u001b[49m\u001b[43m \u001b[49m\u001b[43mmulti_output\u001b[49m\u001b[38;5;241;43m=\u001b[39;49m\u001b[38;5;28;43;01mTrue\u001b[39;49;00m\n\u001b[0;32m    664\u001b[0m \u001b[43m\u001b[49m\u001b[43m)\u001b[49m\n\u001b[0;32m    666\u001b[0m \u001b[38;5;28;01mif\u001b[39;00m sample_weight \u001b[38;5;129;01mis\u001b[39;00m \u001b[38;5;129;01mnot\u001b[39;00m \u001b[38;5;28;01mNone\u001b[39;00m:\n\u001b[0;32m    667\u001b[0m     sample_weight \u001b[38;5;241m=\u001b[39m _check_sample_weight(sample_weight, X, dtype\u001b[38;5;241m=\u001b[39mX\u001b[38;5;241m.\u001b[39mdtype)\n",
      "File \u001b[1;32m~\\anaconda3\\lib\\site-packages\\sklearn\\base.py:581\u001b[0m, in \u001b[0;36mBaseEstimator._validate_data\u001b[1;34m(self, X, y, reset, validate_separately, **check_params)\u001b[0m\n\u001b[0;32m    579\u001b[0m         y \u001b[38;5;241m=\u001b[39m check_array(y, \u001b[38;5;241m*\u001b[39m\u001b[38;5;241m*\u001b[39mcheck_y_params)\n\u001b[0;32m    580\u001b[0m     \u001b[38;5;28;01melse\u001b[39;00m:\n\u001b[1;32m--> 581\u001b[0m         X, y \u001b[38;5;241m=\u001b[39m check_X_y(X, y, \u001b[38;5;241m*\u001b[39m\u001b[38;5;241m*\u001b[39mcheck_params)\n\u001b[0;32m    582\u001b[0m     out \u001b[38;5;241m=\u001b[39m X, y\n\u001b[0;32m    584\u001b[0m \u001b[38;5;28;01mif\u001b[39;00m \u001b[38;5;129;01mnot\u001b[39;00m no_val_X \u001b[38;5;129;01mand\u001b[39;00m check_params\u001b[38;5;241m.\u001b[39mget(\u001b[38;5;124m\"\u001b[39m\u001b[38;5;124mensure_2d\u001b[39m\u001b[38;5;124m\"\u001b[39m, \u001b[38;5;28;01mTrue\u001b[39;00m):\n",
      "File \u001b[1;32m~\\anaconda3\\lib\\site-packages\\sklearn\\utils\\validation.py:981\u001b[0m, in \u001b[0;36mcheck_X_y\u001b[1;34m(X, y, accept_sparse, accept_large_sparse, dtype, order, copy, force_all_finite, ensure_2d, allow_nd, multi_output, ensure_min_samples, ensure_min_features, y_numeric, estimator)\u001b[0m\n\u001b[0;32m    964\u001b[0m X \u001b[38;5;241m=\u001b[39m check_array(\n\u001b[0;32m    965\u001b[0m     X,\n\u001b[0;32m    966\u001b[0m     accept_sparse\u001b[38;5;241m=\u001b[39maccept_sparse,\n\u001b[1;32m   (...)\u001b[0m\n\u001b[0;32m    976\u001b[0m     estimator\u001b[38;5;241m=\u001b[39mestimator,\n\u001b[0;32m    977\u001b[0m )\n\u001b[0;32m    979\u001b[0m y \u001b[38;5;241m=\u001b[39m _check_y(y, multi_output\u001b[38;5;241m=\u001b[39mmulti_output, y_numeric\u001b[38;5;241m=\u001b[39my_numeric)\n\u001b[1;32m--> 981\u001b[0m \u001b[43mcheck_consistent_length\u001b[49m\u001b[43m(\u001b[49m\u001b[43mX\u001b[49m\u001b[43m,\u001b[49m\u001b[43m \u001b[49m\u001b[43my\u001b[49m\u001b[43m)\u001b[49m\n\u001b[0;32m    983\u001b[0m \u001b[38;5;28;01mreturn\u001b[39;00m X, y\n",
      "File \u001b[1;32m~\\anaconda3\\lib\\site-packages\\sklearn\\utils\\validation.py:332\u001b[0m, in \u001b[0;36mcheck_consistent_length\u001b[1;34m(*arrays)\u001b[0m\n\u001b[0;32m    330\u001b[0m uniques \u001b[38;5;241m=\u001b[39m np\u001b[38;5;241m.\u001b[39munique(lengths)\n\u001b[0;32m    331\u001b[0m \u001b[38;5;28;01mif\u001b[39;00m \u001b[38;5;28mlen\u001b[39m(uniques) \u001b[38;5;241m>\u001b[39m \u001b[38;5;241m1\u001b[39m:\n\u001b[1;32m--> 332\u001b[0m     \u001b[38;5;28;01mraise\u001b[39;00m \u001b[38;5;167;01mValueError\u001b[39;00m(\n\u001b[0;32m    333\u001b[0m         \u001b[38;5;124m\"\u001b[39m\u001b[38;5;124mFound input variables with inconsistent numbers of samples: \u001b[39m\u001b[38;5;132;01m%r\u001b[39;00m\u001b[38;5;124m\"\u001b[39m\n\u001b[0;32m    334\u001b[0m         \u001b[38;5;241m%\u001b[39m [\u001b[38;5;28mint\u001b[39m(l) \u001b[38;5;28;01mfor\u001b[39;00m l \u001b[38;5;129;01min\u001b[39;00m lengths]\n\u001b[0;32m    335\u001b[0m     )\n",
      "\u001b[1;31mValueError\u001b[0m: Found input variables with inconsistent numbers of samples: [200, 28007]"
     ]
    }
   ],
   "source": [
    "model.fit(dataframe.iloc[:,:6],train['m1'])"
   ]
  },
  {
   "cell_type": "code",
   "execution_count": null,
   "id": "910e7b96-0573-4805-a246-2944096abfda",
   "metadata": {},
   "outputs": [],
   "source": []
  },
  {
   "cell_type": "code",
   "execution_count": null,
   "id": "e1400f47-472d-4bc6-b4f4-ab2987b96fc6",
   "metadata": {},
   "outputs": [],
   "source": []
  },
  {
   "cell_type": "code",
   "execution_count": null,
   "id": "c55188cf-166c-4f70-86d5-13d1c55374e8",
   "metadata": {},
   "outputs": [],
   "source": []
  },
  {
   "cell_type": "code",
   "execution_count": 236,
   "id": "a90e74f4-cbbc-41e6-af9e-1a5ea7d7db12",
   "metadata": {},
   "outputs": [
    {
     "data": {
      "text/html": [
       "<div>\n",
       "<style scoped>\n",
       "    .dataframe tbody tr th:only-of-type {\n",
       "        vertical-align: middle;\n",
       "    }\n",
       "\n",
       "    .dataframe tbody tr th {\n",
       "        vertical-align: top;\n",
       "    }\n",
       "\n",
       "    .dataframe thead th {\n",
       "        text-align: right;\n",
       "    }\n",
       "</style>\n",
       "<table border=\"1\" class=\"dataframe\">\n",
       "  <thead>\n",
       "    <tr style=\"text-align: right;\">\n",
       "      <th></th>\n",
       "      <th>0</th>\n",
       "      <th>1</th>\n",
       "      <th>2</th>\n",
       "      <th>3</th>\n",
       "      <th>4</th>\n",
       "      <th>5</th>\n",
       "      <th>6</th>\n",
       "      <th>7</th>\n",
       "      <th>8</th>\n",
       "      <th>9</th>\n",
       "      <th>...</th>\n",
       "      <th>21</th>\n",
       "      <th>22</th>\n",
       "      <th>23</th>\n",
       "      <th>24</th>\n",
       "      <th>25</th>\n",
       "      <th>26</th>\n",
       "      <th>27</th>\n",
       "      <th>28</th>\n",
       "      <th>29</th>\n",
       "      <th>30</th>\n",
       "    </tr>\n",
       "  </thead>\n",
       "  <tbody>\n",
       "    <tr>\n",
       "      <th>0</th>\n",
       "      <td>3600.0</td>\n",
       "      <td>750.0</td>\n",
       "      <td>350.0</td>\n",
       "      <td>65.0</td>\n",
       "      <td>95.0</td>\n",
       "      <td>135.0</td>\n",
       "      <td>85.0</td>\n",
       "      <td>55.0</td>\n",
       "      <td>345.0</td>\n",
       "      <td>155.0</td>\n",
       "      <td>...</td>\n",
       "      <td>120.0</td>\n",
       "      <td>260.0</td>\n",
       "      <td>610.0</td>\n",
       "      <td>230.0</td>\n",
       "      <td>390.0</td>\n",
       "      <td>660.0</td>\n",
       "      <td>1200.0</td>\n",
       "      <td>1320.0</td>\n",
       "      <td>280.0</td>\n",
       "      <td>770.0</td>\n",
       "    </tr>\n",
       "    <tr>\n",
       "      <th>1</th>\n",
       "      <td>3200.0</td>\n",
       "      <td>1200.0</td>\n",
       "      <td>1200.0</td>\n",
       "      <td>1200.0</td>\n",
       "      <td>1200.0</td>\n",
       "      <td>1200.0</td>\n",
       "      <td>NaN</td>\n",
       "      <td>NaN</td>\n",
       "      <td>NaN</td>\n",
       "      <td>NaN</td>\n",
       "      <td>...</td>\n",
       "      <td>NaN</td>\n",
       "      <td>NaN</td>\n",
       "      <td>NaN</td>\n",
       "      <td>NaN</td>\n",
       "      <td>NaN</td>\n",
       "      <td>NaN</td>\n",
       "      <td>NaN</td>\n",
       "      <td>NaN</td>\n",
       "      <td>NaN</td>\n",
       "      <td>NaN</td>\n",
       "    </tr>\n",
       "  </tbody>\n",
       "</table>\n",
       "<p>2 rows × 31 columns</p>\n",
       "</div>"
      ],
      "text/plain": [
       "       0       1       2       3       4       5     6     7      8      9   \\\n",
       "0  3600.0   750.0   350.0    65.0    95.0   135.0  85.0  55.0  345.0  155.0   \n",
       "1  3200.0  1200.0  1200.0  1200.0  1200.0  1200.0   NaN   NaN    NaN    NaN   \n",
       "\n",
       "   ...     21     22     23     24     25     26      27      28     29     30  \n",
       "0  ...  120.0  260.0  610.0  230.0  390.0  660.0  1200.0  1320.0  280.0  770.0  \n",
       "1  ...    NaN    NaN    NaN    NaN    NaN    NaN     NaN     NaN    NaN    NaN  \n",
       "\n",
       "[2 rows x 31 columns]"
      ]
     },
     "execution_count": 236,
     "metadata": {},
     "output_type": "execute_result"
    }
   ],
   "source": [
    "b"
   ]
  },
  {
   "cell_type": "code",
   "execution_count": null,
   "id": "dbd6eca0-5fda-4faa-9c7a-2b46a67b4bdd",
   "metadata": {},
   "outputs": [],
   "source": []
  },
  {
   "cell_type": "code",
   "execution_count": 227,
   "id": "93612b39-7c7c-4f1a-91be-d6134d3b066c",
   "metadata": {},
   "outputs": [],
   "source": [
    "model = LinearRegression()"
   ]
  },
  {
   "cell_type": "code",
   "execution_count": 233,
   "id": "6dc35f33-8289-4c62-b214-b1e63ebfdba8",
   "metadata": {},
   "outputs": [
    {
     "name": "stderr",
     "output_type": "stream",
     "text": [
      "\n",
      "KeyboardInterrupt\n",
      "\n"
     ]
    },
    {
     "name": "stdout",
     "output_type": "stream",
     "text": [
      "Error in callback <function flush_figures at 0x0000013C60D9F700> (for post_execute):\n"
     ]
    },
    {
     "name": "stderr",
     "output_type": "stream",
     "text": [
      "\n",
      "KeyboardInterrupt\n",
      "\n"
     ]
    }
   ],
   "source": [
    "sns.pairplot(b)"
   ]
  },
  {
   "cell_type": "code",
   "execution_count": null,
   "id": "1167cb7b-fe3c-4c37-bc07-bcb612af93c1",
   "metadata": {},
   "outputs": [],
   "source": [
    "model.fit("
   ]
  },
  {
   "cell_type": "code",
   "execution_count": null,
   "id": "16fc957e-993a-45a7-9487-906476cba690",
   "metadata": {},
   "outputs": [],
   "source": []
  },
  {
   "cell_type": "code",
   "execution_count": null,
   "id": "f983f267-7e73-4225-a6c9-59a37122294e",
   "metadata": {},
   "outputs": [],
   "source": []
  },
  {
   "cell_type": "code",
   "execution_count": null,
   "id": "09442e7a-6e6e-48b8-b57f-6bf2b38b8e26",
   "metadata": {},
   "outputs": [],
   "source": []
  },
  {
   "cell_type": "code",
   "execution_count": null,
   "id": "b8c984bb-b562-4237-8a3b-05689ed51a58",
   "metadata": {},
   "outputs": [],
   "source": []
  },
  {
   "cell_type": "code",
   "execution_count": null,
   "id": "57c247c7-e58a-4700-b5a4-25494844bd50",
   "metadata": {},
   "outputs": [],
   "source": []
  },
  {
   "cell_type": "code",
   "execution_count": 105,
   "id": "4ecf066c-0975-4cbe-9d65-048732f79337",
   "metadata": {},
   "outputs": [
    {
     "name": "stderr",
     "output_type": "stream",
     "text": [
      "<>:1: SyntaxWarning: 'generator' object is not callable; perhaps you missed a comma?\n",
      "<>:1: SyntaxWarning: 'generator' object is not callable; perhaps you missed a comma?\n",
      "C:\\Users\\JAMES\\AppData\\Local\\Temp\\ipykernel_14116\\2817875991.py:1: SyntaxWarning: 'generator' object is not callable; perhaps you missed a comma?\n",
      "  (lambda x: x[b] for b in paymentAmount.keys())(paymentAmount)\n",
      "C:\\Users\\JAMES\\AppData\\Local\\Temp\\ipykernel_14116\\2817875991.py:1: SyntaxWarning: 'generator' object is not callable; perhaps you missed a comma?\n",
      "  (lambda x: x[b] for b in paymentAmount.keys())(paymentAmount)\n",
      "C:\\Users\\JAMES\\AppData\\Local\\Temp\\ipykernel_14116\\2817875991.py:1: SyntaxWarning: 'generator' object is not callable; perhaps you missed a comma?\n",
      "  (lambda x: x[b] for b in paymentAmount.keys())(paymentAmount)\n",
      "C:\\Users\\JAMES\\AppData\\Local\\Temp\\ipykernel_14116\\2817875991.py:1: SyntaxWarning: 'generator' object is not callable; perhaps you missed a comma?\n",
      "  (lambda x: x[b] for b in paymentAmount.keys())(paymentAmount)\n"
     ]
    },
    {
     "ename": "TypeError",
     "evalue": "'generator' object is not callable",
     "output_type": "error",
     "traceback": [
      "\u001b[1;31m---------------------------------------------------------------------------\u001b[0m",
      "\u001b[1;31mTypeError\u001b[0m                                 Traceback (most recent call last)",
      "Input \u001b[1;32mIn [105]\u001b[0m, in \u001b[0;36m<cell line: 1>\u001b[1;34m()\u001b[0m\n\u001b[1;32m----> 1\u001b[0m \u001b[43m(\u001b[49m\u001b[38;5;28;43;01mlambda\u001b[39;49;00m\u001b[43m \u001b[49m\u001b[43mx\u001b[49m\u001b[43m:\u001b[49m\u001b[43m \u001b[49m\u001b[43mx\u001b[49m\u001b[43m[\u001b[49m\u001b[43mb\u001b[49m\u001b[43m]\u001b[49m\u001b[43m \u001b[49m\u001b[38;5;28;43;01mfor\u001b[39;49;00m\u001b[43m \u001b[49m\u001b[43mb\u001b[49m\u001b[43m \u001b[49m\u001b[38;5;129;43;01min\u001b[39;49;00m\u001b[43m \u001b[49m\u001b[43mpaymentAmount\u001b[49m\u001b[38;5;241;43m.\u001b[39;49m\u001b[43mkeys\u001b[49m\u001b[43m(\u001b[49m\u001b[43m)\u001b[49m\u001b[43m)\u001b[49m\u001b[43m(\u001b[49m\u001b[43mpaymentAmount\u001b[49m\u001b[43m)\u001b[49m\n",
      "\u001b[1;31mTypeError\u001b[0m: 'generator' object is not callable"
     ]
    }
   ],
   "source": [
    "(lambda x: x[b] for b in paymentAmount.keys())(paymentAmount)"
   ]
  },
  {
   "cell_type": "code",
   "execution_count": null,
   "id": "4364ffb2-4a44-46c9-b4ef-a51e8a37a086",
   "metadata": {},
   "outputs": [],
   "source": []
  },
  {
   "cell_type": "code",
   "execution_count": null,
   "id": "42949c26-bf36-4f24-8266-c385d3f32c89",
   "metadata": {},
   "outputs": [],
   "source": []
  },
  {
   "cell_type": "code",
   "execution_count": null,
   "id": "ca48ac2d-0e51-41e1-b044-8de55384bd06",
   "metadata": {},
   "outputs": [],
   "source": []
  },
  {
   "cell_type": "code",
   "execution_count": 51,
   "id": "3372f346-1b9c-494f-9b49-62ab90577e1f",
   "metadata": {},
   "outputs": [
    {
     "name": "stderr",
     "output_type": "stream",
     "text": [
      "C:\\Users\\JAMES\\AppData\\Local\\Temp\\ipykernel_14116\\1057445955.py:1: FutureWarning: In a future version of pandas all arguments of concat except for the argument 'objs' will be keyword-only.\n",
      "  pd.concat(b,a,keys=paymentAmount.keys())\n"
     ]
    },
    {
     "ename": "TypeError",
     "evalue": "first argument must be an iterable of pandas objects, you passed an object of type \"DataFrame\"",
     "output_type": "error",
     "traceback": [
      "\u001b[1;31m---------------------------------------------------------------------------\u001b[0m",
      "\u001b[1;31mTypeError\u001b[0m                                 Traceback (most recent call last)",
      "Input \u001b[1;32mIn [51]\u001b[0m, in \u001b[0;36m<cell line: 1>\u001b[1;34m()\u001b[0m\n\u001b[1;32m----> 1\u001b[0m \u001b[43mpd\u001b[49m\u001b[38;5;241;43m.\u001b[39;49m\u001b[43mconcat\u001b[49m\u001b[43m(\u001b[49m\u001b[43mb\u001b[49m\u001b[43m,\u001b[49m\u001b[43ma\u001b[49m\u001b[43m,\u001b[49m\u001b[43mkeys\u001b[49m\u001b[38;5;241;43m=\u001b[39;49m\u001b[43mpaymentAmount\u001b[49m\u001b[38;5;241;43m.\u001b[39;49m\u001b[43mkeys\u001b[49m\u001b[43m(\u001b[49m\u001b[43m)\u001b[49m\u001b[43m)\u001b[49m\n",
      "File \u001b[1;32m~\\anaconda3\\lib\\site-packages\\pandas\\util\\_decorators.py:311\u001b[0m, in \u001b[0;36mdeprecate_nonkeyword_arguments.<locals>.decorate.<locals>.wrapper\u001b[1;34m(*args, **kwargs)\u001b[0m\n\u001b[0;32m    305\u001b[0m \u001b[38;5;28;01mif\u001b[39;00m \u001b[38;5;28mlen\u001b[39m(args) \u001b[38;5;241m>\u001b[39m num_allow_args:\n\u001b[0;32m    306\u001b[0m     warnings\u001b[38;5;241m.\u001b[39mwarn(\n\u001b[0;32m    307\u001b[0m         msg\u001b[38;5;241m.\u001b[39mformat(arguments\u001b[38;5;241m=\u001b[39marguments),\n\u001b[0;32m    308\u001b[0m         \u001b[38;5;167;01mFutureWarning\u001b[39;00m,\n\u001b[0;32m    309\u001b[0m         stacklevel\u001b[38;5;241m=\u001b[39mstacklevel,\n\u001b[0;32m    310\u001b[0m     )\n\u001b[1;32m--> 311\u001b[0m \u001b[38;5;28;01mreturn\u001b[39;00m func(\u001b[38;5;241m*\u001b[39margs, \u001b[38;5;241m*\u001b[39m\u001b[38;5;241m*\u001b[39mkwargs)\n",
      "File \u001b[1;32m~\\anaconda3\\lib\\site-packages\\pandas\\core\\reshape\\concat.py:347\u001b[0m, in \u001b[0;36mconcat\u001b[1;34m(objs, axis, join, ignore_index, keys, levels, names, verify_integrity, sort, copy)\u001b[0m\n\u001b[0;32m    143\u001b[0m \u001b[38;5;129m@deprecate_nonkeyword_arguments\u001b[39m(version\u001b[38;5;241m=\u001b[39m\u001b[38;5;28;01mNone\u001b[39;00m, allowed_args\u001b[38;5;241m=\u001b[39m[\u001b[38;5;124m\"\u001b[39m\u001b[38;5;124mobjs\u001b[39m\u001b[38;5;124m\"\u001b[39m])\n\u001b[0;32m    144\u001b[0m \u001b[38;5;28;01mdef\u001b[39;00m \u001b[38;5;21mconcat\u001b[39m(\n\u001b[0;32m    145\u001b[0m     objs: Iterable[NDFrame] \u001b[38;5;241m|\u001b[39m Mapping[Hashable, NDFrame],\n\u001b[1;32m   (...)\u001b[0m\n\u001b[0;32m    154\u001b[0m     copy: \u001b[38;5;28mbool\u001b[39m \u001b[38;5;241m=\u001b[39m \u001b[38;5;28;01mTrue\u001b[39;00m,\n\u001b[0;32m    155\u001b[0m ) \u001b[38;5;241m-\u001b[39m\u001b[38;5;241m>\u001b[39m DataFrame \u001b[38;5;241m|\u001b[39m Series:\n\u001b[0;32m    156\u001b[0m     \u001b[38;5;124;03m\"\"\"\u001b[39;00m\n\u001b[0;32m    157\u001b[0m \u001b[38;5;124;03m    Concatenate pandas objects along a particular axis with optional set logic\u001b[39;00m\n\u001b[0;32m    158\u001b[0m \u001b[38;5;124;03m    along the other axes.\u001b[39;00m\n\u001b[1;32m   (...)\u001b[0m\n\u001b[0;32m    345\u001b[0m \u001b[38;5;124;03m    ValueError: Indexes have overlapping values: ['a']\u001b[39;00m\n\u001b[0;32m    346\u001b[0m \u001b[38;5;124;03m    \"\"\"\u001b[39;00m\n\u001b[1;32m--> 347\u001b[0m     op \u001b[38;5;241m=\u001b[39m \u001b[43m_Concatenator\u001b[49m\u001b[43m(\u001b[49m\n\u001b[0;32m    348\u001b[0m \u001b[43m        \u001b[49m\u001b[43mobjs\u001b[49m\u001b[43m,\u001b[49m\n\u001b[0;32m    349\u001b[0m \u001b[43m        \u001b[49m\u001b[43maxis\u001b[49m\u001b[38;5;241;43m=\u001b[39;49m\u001b[43maxis\u001b[49m\u001b[43m,\u001b[49m\n\u001b[0;32m    350\u001b[0m \u001b[43m        \u001b[49m\u001b[43mignore_index\u001b[49m\u001b[38;5;241;43m=\u001b[39;49m\u001b[43mignore_index\u001b[49m\u001b[43m,\u001b[49m\n\u001b[0;32m    351\u001b[0m \u001b[43m        \u001b[49m\u001b[43mjoin\u001b[49m\u001b[38;5;241;43m=\u001b[39;49m\u001b[43mjoin\u001b[49m\u001b[43m,\u001b[49m\n\u001b[0;32m    352\u001b[0m \u001b[43m        \u001b[49m\u001b[43mkeys\u001b[49m\u001b[38;5;241;43m=\u001b[39;49m\u001b[43mkeys\u001b[49m\u001b[43m,\u001b[49m\n\u001b[0;32m    353\u001b[0m \u001b[43m        \u001b[49m\u001b[43mlevels\u001b[49m\u001b[38;5;241;43m=\u001b[39;49m\u001b[43mlevels\u001b[49m\u001b[43m,\u001b[49m\n\u001b[0;32m    354\u001b[0m \u001b[43m        \u001b[49m\u001b[43mnames\u001b[49m\u001b[38;5;241;43m=\u001b[39;49m\u001b[43mnames\u001b[49m\u001b[43m,\u001b[49m\n\u001b[0;32m    355\u001b[0m \u001b[43m        \u001b[49m\u001b[43mverify_integrity\u001b[49m\u001b[38;5;241;43m=\u001b[39;49m\u001b[43mverify_integrity\u001b[49m\u001b[43m,\u001b[49m\n\u001b[0;32m    356\u001b[0m \u001b[43m        \u001b[49m\u001b[43mcopy\u001b[49m\u001b[38;5;241;43m=\u001b[39;49m\u001b[43mcopy\u001b[49m\u001b[43m,\u001b[49m\n\u001b[0;32m    357\u001b[0m \u001b[43m        \u001b[49m\u001b[43msort\u001b[49m\u001b[38;5;241;43m=\u001b[39;49m\u001b[43msort\u001b[49m\u001b[43m,\u001b[49m\n\u001b[0;32m    358\u001b[0m \u001b[43m    \u001b[49m\u001b[43m)\u001b[49m\n\u001b[0;32m    360\u001b[0m     \u001b[38;5;28;01mreturn\u001b[39;00m op\u001b[38;5;241m.\u001b[39mget_result()\n",
      "File \u001b[1;32m~\\anaconda3\\lib\\site-packages\\pandas\\core\\reshape\\concat.py:382\u001b[0m, in \u001b[0;36m_Concatenator.__init__\u001b[1;34m(self, objs, axis, join, keys, levels, names, ignore_index, verify_integrity, copy, sort)\u001b[0m\n\u001b[0;32m    368\u001b[0m \u001b[38;5;28;01mdef\u001b[39;00m \u001b[38;5;21m__init__\u001b[39m(\n\u001b[0;32m    369\u001b[0m     \u001b[38;5;28mself\u001b[39m,\n\u001b[0;32m    370\u001b[0m     objs: Iterable[NDFrame] \u001b[38;5;241m|\u001b[39m Mapping[Hashable, NDFrame],\n\u001b[1;32m   (...)\u001b[0m\n\u001b[0;32m    379\u001b[0m     sort\u001b[38;5;241m=\u001b[39m\u001b[38;5;28;01mFalse\u001b[39;00m,\n\u001b[0;32m    380\u001b[0m ):\n\u001b[0;32m    381\u001b[0m     \u001b[38;5;28;01mif\u001b[39;00m \u001b[38;5;28misinstance\u001b[39m(objs, (ABCSeries, ABCDataFrame, \u001b[38;5;28mstr\u001b[39m)):\n\u001b[1;32m--> 382\u001b[0m         \u001b[38;5;28;01mraise\u001b[39;00m \u001b[38;5;167;01mTypeError\u001b[39;00m(\n\u001b[0;32m    383\u001b[0m             \u001b[38;5;124m\"\u001b[39m\u001b[38;5;124mfirst argument must be an iterable of pandas \u001b[39m\u001b[38;5;124m\"\u001b[39m\n\u001b[0;32m    384\u001b[0m             \u001b[38;5;124mf\u001b[39m\u001b[38;5;124m'\u001b[39m\u001b[38;5;124mobjects, you passed an object of type \u001b[39m\u001b[38;5;124m\"\u001b[39m\u001b[38;5;132;01m{\u001b[39;00m\u001b[38;5;28mtype\u001b[39m(objs)\u001b[38;5;241m.\u001b[39m\u001b[38;5;18m__name__\u001b[39m\u001b[38;5;132;01m}\u001b[39;00m\u001b[38;5;124m\"\u001b[39m\u001b[38;5;124m'\u001b[39m\n\u001b[0;32m    385\u001b[0m         )\n\u001b[0;32m    387\u001b[0m     \u001b[38;5;28;01mif\u001b[39;00m join \u001b[38;5;241m==\u001b[39m \u001b[38;5;124m\"\u001b[39m\u001b[38;5;124mouter\u001b[39m\u001b[38;5;124m\"\u001b[39m:\n\u001b[0;32m    388\u001b[0m         \u001b[38;5;28mself\u001b[39m\u001b[38;5;241m.\u001b[39mintersect \u001b[38;5;241m=\u001b[39m \u001b[38;5;28;01mFalse\u001b[39;00m\n",
      "\u001b[1;31mTypeError\u001b[0m: first argument must be an iterable of pandas objects, you passed an object of type \"DataFrame\""
     ]
    }
   ],
   "source": [
    "pd.concat(b,a,keys=paymentAmount.keys())"
   ]
  },
  {
   "cell_type": "code",
   "execution_count": null,
   "id": "53899998-d2ed-4602-b168-c74ba66b3209",
   "metadata": {},
   "outputs": [],
   "source": []
  },
  {
   "cell_type": "code",
   "execution_count": 75,
   "id": "e5e72127-caf9-4d04-9f7c-9294cd7f1d98",
   "metadata": {},
   "outputs": [
    {
     "ename": "TypeError",
     "evalue": "can only concatenate list (not \"dict_values\") to list",
     "output_type": "error",
     "traceback": [
      "\u001b[1;31m---------------------------------------------------------------------------\u001b[0m",
      "\u001b[1;31mTypeError\u001b[0m                                 Traceback (most recent call last)",
      "Input \u001b[1;32mIn [75]\u001b[0m, in \u001b[0;36m<cell line: 1>\u001b[1;34m()\u001b[0m\n\u001b[1;32m----> 1\u001b[0m \u001b[43mpd\u001b[49m\u001b[38;5;241;43m.\u001b[39;49m\u001b[43mcrosstab\u001b[49m\u001b[43m(\u001b[49m\u001b[43mtrans_dataWithId\u001b[49m\u001b[38;5;241;43m.\u001b[39;49m\u001b[43mkeys\u001b[49m\u001b[43m(\u001b[49m\u001b[43m)\u001b[49m\u001b[43m,\u001b[49m\u001b[43mcolumns\u001b[49m\u001b[38;5;241;43m=\u001b[39;49m\u001b[43mtrans_dataWithId\u001b[49m\u001b[38;5;241;43m.\u001b[39;49m\u001b[43mvalues\u001b[49m\u001b[43m(\u001b[49m\u001b[43m)\u001b[49m\u001b[43m)\u001b[49m\n",
      "File \u001b[1;32m~\\anaconda3\\lib\\site-packages\\pandas\\core\\reshape\\pivot.py:640\u001b[0m, in \u001b[0;36mcrosstab\u001b[1;34m(index, columns, values, rownames, colnames, aggfunc, margins, margins_name, dropna, normalize)\u001b[0m\n\u001b[0;32m    637\u001b[0m     columns \u001b[38;5;241m=\u001b[39m [columns]\n\u001b[0;32m    639\u001b[0m common_idx \u001b[38;5;241m=\u001b[39m \u001b[38;5;28;01mNone\u001b[39;00m\n\u001b[1;32m--> 640\u001b[0m pass_objs \u001b[38;5;241m=\u001b[39m [x \u001b[38;5;28;01mfor\u001b[39;00m x \u001b[38;5;129;01min\u001b[39;00m \u001b[43mindex\u001b[49m\u001b[43m \u001b[49m\u001b[38;5;241;43m+\u001b[39;49m\u001b[43m \u001b[49m\u001b[43mcolumns\u001b[49m \u001b[38;5;28;01mif\u001b[39;00m \u001b[38;5;28misinstance\u001b[39m(x, (ABCSeries, ABCDataFrame))]\n\u001b[0;32m    641\u001b[0m \u001b[38;5;28;01mif\u001b[39;00m pass_objs:\n\u001b[0;32m    642\u001b[0m     common_idx \u001b[38;5;241m=\u001b[39m get_objs_combined_axis(pass_objs, intersect\u001b[38;5;241m=\u001b[39m\u001b[38;5;28;01mTrue\u001b[39;00m, sort\u001b[38;5;241m=\u001b[39m\u001b[38;5;28;01mFalse\u001b[39;00m)\n",
      "\u001b[1;31mTypeError\u001b[0m: can only concatenate list (not \"dict_values\") to list"
     ]
    }
   ],
   "source": [
    "pd.crosstab(trans_dataWithId.keys(),columns=trans_dataWithId.values())"
   ]
  },
  {
   "cell_type": "code",
   "execution_count": null,
   "id": "0d521bd4-ce40-4061-8bdd-e803742fefd8",
   "metadata": {},
   "outputs": [],
   "source": []
  },
  {
   "cell_type": "code",
   "execution_count": null,
   "id": "6eb0198d-da9e-45d0-8471-f6732059ca65",
   "metadata": {},
   "outputs": [],
   "source": []
  },
  {
   "cell_type": "code",
   "execution_count": null,
   "id": "f57fee6c-7c14-4880-b082-beae59b388a2",
   "metadata": {},
   "outputs": [],
   "source": []
  },
  {
   "cell_type": "code",
   "execution_count": null,
   "id": "4164a6ee-f601-4a43-a489-ab2a7cd1d3c1",
   "metadata": {},
   "outputs": [],
   "source": []
  },
  {
   "cell_type": "code",
   "execution_count": null,
   "id": "5c30d866-a663-4580-8c63-1c1ba6134f3f",
   "metadata": {},
   "outputs": [],
   "source": []
  },
  {
   "cell_type": "code",
   "execution_count": 678,
   "id": "330d55a6-030b-4767-9f80-02e2aec9e89e",
   "metadata": {},
   "outputs": [
    {
     "name": "stdout",
     "output_type": "stream",
     "text": [
      "2018-04-01 00:00:00\n"
     ]
    }
   ],
   "source": [
    "#\n",
    "dic_final= {}\n",
    "lisForDates = []\n",
    "for keys,values in new_data.items():\n",
    "    pattern = rege.compile(r\"\\d{1,2}.\\d{1,4}\")\n",
    "    matches =  pattern.findall(values)\n",
    "    for match in matches:\n",
    "         dic_final[keys] = lisForDates.append(pd.to_datetime(match))\n",
    "\n",
    "            \n",
    "            \n",
    "            \n",
    "print(lisForDates[0])\n",
    "#print(lisForDates)\n",
    "\n",
    "#new_list = {key_num:valu_num for key_num,valu_num in enumerate(new_data):"
   ]
  },
  {
   "cell_type": "code",
   "execution_count": null,
   "id": "8f68be96-89e5-4e3b-b96c-c08b45d4ef1d",
   "metadata": {},
   "outputs": [],
   "source": []
  },
  {
   "cell_type": "code",
   "execution_count": 649,
   "id": "0aad7f15-578a-4d98-bf06-36b264bea522",
   "metadata": {},
   "outputs": [],
   "source": [
    "#pd.DataFrame(new_data,index=len(split_data['TransactionDates'][0]))"
   ]
  },
  {
   "cell_type": "code",
   "execution_count": 658,
   "id": "402dc9da-d880-420a-8658-06d9f7ea53aa",
   "metadata": {},
   "outputs": [],
   "source": [
    "#pd.DataFrame(new_data,index=range(len(new_data)))"
   ]
  },
  {
   "cell_type": "code",
   "execution_count": 645,
   "id": "90865894-7e81-44fc-96e1-862ea9b37d29",
   "metadata": {},
   "outputs": [],
   "source": [
    "dicForDates = {}\n",
    "lisForDates = []\n",
    "for a,b in enumerate(split_data['ID']):\n",
    "    sentence= split_data['TransactionDates'][a]\n",
    "    pattern = rege.compile(r\"\\d{1,2}.\\d{1,4}\")\n",
    "    matches =  pattern.findall(sentence)\n",
    "    for match in matches:\n",
    "         lisForDates.append(pd.to_datetime(match))\n",
    "        \n",
    "    \n",
    "\n",
    "#print(lisForDates)\n",
    " \n",
    "\n",
    "#dic_final = {}\n",
    "#for keys in dicForDates:\n",
    "    #for x in range(len(lisForDates)):\n",
    "     #   dic_final[keys] = lisForDates[x]\n",
    "       \n",
    "    \n",
    "    \n",
    "\n",
    "#print(dic_final)"
   ]
  },
  {
   "cell_type": "code",
   "execution_count": null,
   "id": "e1c03dc4-fde0-4611-9ab9-430aa8cfe623",
   "metadata": {},
   "outputs": [],
   "source": []
  },
  {
   "cell_type": "code",
   "execution_count": 686,
   "id": "aad210f4-b659-4bb5-9111-64fbed3b8912",
   "metadata": {},
   "outputs": [],
   "source": [
    "#split_data"
   ]
  },
  {
   "cell_type": "code",
   "execution_count": 687,
   "id": "c54cdbe4-296a-4895-8ff9-0fe829933ada",
   "metadata": {},
   "outputs": [],
   "source": [
    "#(lambda x: print(x.ID[a for a in x['ID']]) )(split_data)"
   ]
  },
  {
   "cell_type": "code",
   "execution_count": 614,
   "id": "6e7a5f46-ea56-4f1a-aa4e-44244314a8a8",
   "metadata": {},
   "outputs": [
    {
     "data": {
      "text/plain": [
       "200"
      ]
     },
     "execution_count": 614,
     "metadata": {},
     "output_type": "execute_result"
    }
   ],
   "source": [
    "len(split_data)"
   ]
  },
  {
   "cell_type": "code",
   "execution_count": 646,
   "id": "8a6ee9cf-160f-4235-ab30-a95c7361bb17",
   "metadata": {},
   "outputs": [],
   "source": [
    "#split_data.apply(lambda x: {x['ID'][0]:x['PaymentsHistory'][0]})"
   ]
  },
  {
   "cell_type": "code",
   "execution_count": null,
   "id": "59fe87d7-c912-4879-9b69-a2ea8f822d28",
   "metadata": {},
   "outputs": [],
   "source": []
  },
  {
   "cell_type": "code",
   "execution_count": null,
   "id": "223bad39-b0fd-4c88-baca-0a5fbb3b41dc",
   "metadata": {},
   "outputs": [],
   "source": [
    "{}"
   ]
  },
  {
   "cell_type": "code",
   "execution_count": null,
   "id": "11d856a0-9d52-47e1-a888-a53b05568aad",
   "metadata": {},
   "outputs": [],
   "source": []
  },
  {
   "cell_type": "code",
   "execution_count": 590,
   "id": "ccae171f-f51e-4a1a-948a-dde6fceea985",
   "metadata": {},
   "outputs": [],
   "source": [
    "dicForDates = {}\n",
    "lisForDates = []\n",
    "for a,b in enumerate(split_data['ID']):\n",
    "    sentence= train['TransactionDates'][a]\n",
    "    pattern = rege.compile(r\"\\d{1,2}.\\d{1,4}\")\n",
    "    matches =  pattern.findall(sentence)\n",
    "    a=a+1\n",
    "    for match in matches:\n",
    "        dicForDates[b] = lisForDates.append(pd.to_datetime(match))\n",
    "        #print(b)\n",
    "\n",
    "\n",
    "        \n",
    "#dic_final = {}\n",
    "x = 0 \n",
    "while x < len(split_data['TransactionDates']):\n",
    "    #print(split_data['TransactionDates'][x])\n",
    "    for keys in dicForDates:\n",
    "        dic_final[keys] = lisForDates.append(split_data['TransactionDates'][x])\n",
    "        x=x+1\n",
    "    #print(x)\n",
    "    \n",
    "\n",
    "#dic_final"
   ]
  },
  {
   "cell_type": "code",
   "execution_count": 577,
   "id": "2bca2a04-e44e-4110-8333-c97db3528def",
   "metadata": {},
   "outputs": [
    {
     "data": {
      "text/plain": [
       "'ID_PJPNGSA'"
      ]
     },
     "execution_count": 577,
     "metadata": {},
     "output_type": "execute_result"
    }
   ],
   "source": [
    "#b"
   ]
  },
  {
   "cell_type": "code",
   "execution_count": 576,
   "id": "4e375c20-09bb-4d15-84bc-cadc62899731",
   "metadata": {},
   "outputs": [
    {
     "data": {
      "text/plain": [
       "199"
      ]
     },
     "execution_count": 576,
     "metadata": {},
     "output_type": "execute_result"
    }
   ],
   "source": [
    "#a"
   ]
  },
  {
   "cell_type": "code",
   "execution_count": 648,
   "id": "35820844-a7cd-4a5c-a75a-46d858e3b61e",
   "metadata": {},
   "outputs": [],
   "source": [
    "#pd.pivot_table(a,index=split_data['ID'],columns=split_data['ID'])"
   ]
  },
  {
   "cell_type": "code",
   "execution_count": null,
   "id": "6902bdfd-3028-4ca7-b8a6-9f1339fe50a1",
   "metadata": {},
   "outputs": [],
   "source": []
  },
  {
   "cell_type": "code",
   "execution_count": null,
   "id": "e99ec119-3c4a-42a4-a850-f7083f306210",
   "metadata": {},
   "outputs": [],
   "source": []
  },
  {
   "cell_type": "code",
   "execution_count": null,
   "id": "9dae6693-e195-4c1a-a1d4-11f97410fc5d",
   "metadata": {},
   "outputs": [],
   "source": []
  },
  {
   "cell_type": "code",
   "execution_count": null,
   "id": "ef199937-5477-4120-a044-843384ee4344",
   "metadata": {},
   "outputs": [],
   "source": []
  },
  {
   "cell_type": "code",
   "execution_count": 688,
   "id": "5fd76ea3-ed9d-44a2-a25f-48c435d3df8d",
   "metadata": {},
   "outputs": [],
   "source": [
    "#pd.DataFrame(dic_final,index=range(len(dic_final)))"
   ]
  },
  {
   "cell_type": "code",
   "execution_count": 561,
   "id": "2cab50de-0bb8-4fda-a04f-ebbd85ae290d",
   "metadata": {},
   "outputs": [
    {
     "data": {
      "text/html": [
       "<div>\n",
       "<style scoped>\n",
       "    .dataframe tbody tr th:only-of-type {\n",
       "        vertical-align: middle;\n",
       "    }\n",
       "\n",
       "    .dataframe tbody tr th {\n",
       "        vertical-align: top;\n",
       "    }\n",
       "\n",
       "    .dataframe thead th {\n",
       "        text-align: right;\n",
       "    }\n",
       "</style>\n",
       "<table border=\"1\" class=\"dataframe\">\n",
       "  <thead>\n",
       "    <tr style=\"text-align: right;\">\n",
       "      <th></th>\n",
       "      <th>ID</th>\n",
       "      <th>TransactionDates</th>\n",
       "      <th>PaymentsHistory</th>\n",
       "    </tr>\n",
       "  </thead>\n",
       "  <tbody>\n",
       "    <tr>\n",
       "      <th>0</th>\n",
       "      <td>ID_6L67PAA</td>\n",
       "      <td>['12-2015', '01-2016', '02-2016', '03-2016', '...</td>\n",
       "      <td>[4000.0, 1050.0, 1050.0, 1050.0, 1050.0, 400.0]</td>\n",
       "    </tr>\n",
       "    <tr>\n",
       "      <th>1</th>\n",
       "      <td>ID_VJ80SX2</td>\n",
       "      <td>['12-2015', '01-2016', '02-2016', '03-2016', '...</td>\n",
       "      <td>[3000.0, 850.0, 750.0, 1500.0, 650.0, 1250.0, ...</td>\n",
       "    </tr>\n",
       "    <tr>\n",
       "      <th>2</th>\n",
       "      <td>ID_7OU9HLK</td>\n",
       "      <td>['12-2015', '01-2016', '03-2016', '05-2016', '...</td>\n",
       "      <td>[2400.0, 300.0, 500.0, 450.0, 675.0, 700.0, 87...</td>\n",
       "    </tr>\n",
       "    <tr>\n",
       "      <th>3</th>\n",
       "      <td>ID_WVWTPGK</td>\n",
       "      <td>['12-2015', '01-2016', '02-2016', '03-2016', '...</td>\n",
       "      <td>[4700.0, 1200.0, 950.0, 1200.0, 900.0, 1110.0,...</td>\n",
       "    </tr>\n",
       "    <tr>\n",
       "      <th>4</th>\n",
       "      <td>ID_04DSDQS</td>\n",
       "      <td>['12-2015', '01-2016', '02-2016', '03-2016', '...</td>\n",
       "      <td>[4800.0, 750.0, 995.0, 995.0, 1300.0, 750.0, 1...</td>\n",
       "    </tr>\n",
       "    <tr>\n",
       "      <th>...</th>\n",
       "      <td>...</td>\n",
       "      <td>...</td>\n",
       "      <td>...</td>\n",
       "    </tr>\n",
       "    <tr>\n",
       "      <th>9331</th>\n",
       "      <td>ID_ATLMXQX</td>\n",
       "      <td>['02-2020', '03-2020', '04-2020', '05-2020', '...</td>\n",
       "      <td>[2690.0, 270.0, 770.0, 1100.0, 700.0, 550.0, 5...</td>\n",
       "    </tr>\n",
       "    <tr>\n",
       "      <th>9332</th>\n",
       "      <td>ID_DYMC72D</td>\n",
       "      <td>['02-2020', '03-2020', '04-2020', '05-2020', '...</td>\n",
       "      <td>[2950.0, 1550.0, 1500.0, 900.0, 80.0, 1550.0, ...</td>\n",
       "    </tr>\n",
       "    <tr>\n",
       "      <th>9333</th>\n",
       "      <td>ID_5CBGHCN</td>\n",
       "      <td>['02-2020', '03-2020', '04-2020', '05-2020', '...</td>\n",
       "      <td>[2550.0, 500.0, 550.0, 250.0, 200.0, 450.0, 45...</td>\n",
       "    </tr>\n",
       "    <tr>\n",
       "      <th>9334</th>\n",
       "      <td>ID_HYHB585</td>\n",
       "      <td>['02-2020', '03-2020', '04-2020', '05-2020', '...</td>\n",
       "      <td>[2700.0, 800.0, 250.0, 300.0, 1100.0, 950.0, 8...</td>\n",
       "    </tr>\n",
       "    <tr>\n",
       "      <th>9335</th>\n",
       "      <td>ID_WKQPWF3</td>\n",
       "      <td>['02-2020', '03-2020', '04-2020', '05-2020', '...</td>\n",
       "      <td>[2300.0, 1320.0, 1050.0, 1300.0, 1150.0]</td>\n",
       "    </tr>\n",
       "  </tbody>\n",
       "</table>\n",
       "<p>9336 rows × 3 columns</p>\n",
       "</div>"
      ],
      "text/plain": [
       "              ID                                   TransactionDates  \\\n",
       "0     ID_6L67PAA  ['12-2015', '01-2016', '02-2016', '03-2016', '...   \n",
       "1     ID_VJ80SX2  ['12-2015', '01-2016', '02-2016', '03-2016', '...   \n",
       "2     ID_7OU9HLK  ['12-2015', '01-2016', '03-2016', '05-2016', '...   \n",
       "3     ID_WVWTPGK  ['12-2015', '01-2016', '02-2016', '03-2016', '...   \n",
       "4     ID_04DSDQS  ['12-2015', '01-2016', '02-2016', '03-2016', '...   \n",
       "...          ...                                                ...   \n",
       "9331  ID_ATLMXQX  ['02-2020', '03-2020', '04-2020', '05-2020', '...   \n",
       "9332  ID_DYMC72D  ['02-2020', '03-2020', '04-2020', '05-2020', '...   \n",
       "9333  ID_5CBGHCN  ['02-2020', '03-2020', '04-2020', '05-2020', '...   \n",
       "9334  ID_HYHB585  ['02-2020', '03-2020', '04-2020', '05-2020', '...   \n",
       "9335  ID_WKQPWF3  ['02-2020', '03-2020', '04-2020', '05-2020', '...   \n",
       "\n",
       "                                        PaymentsHistory  \n",
       "0       [4000.0, 1050.0, 1050.0, 1050.0, 1050.0, 400.0]  \n",
       "1     [3000.0, 850.0, 750.0, 1500.0, 650.0, 1250.0, ...  \n",
       "2     [2400.0, 300.0, 500.0, 450.0, 675.0, 700.0, 87...  \n",
       "3     [4700.0, 1200.0, 950.0, 1200.0, 900.0, 1110.0,...  \n",
       "4     [4800.0, 750.0, 995.0, 995.0, 1300.0, 750.0, 1...  \n",
       "...                                                 ...  \n",
       "9331  [2690.0, 270.0, 770.0, 1100.0, 700.0, 550.0, 5...  \n",
       "9332  [2950.0, 1550.0, 1500.0, 900.0, 80.0, 1550.0, ...  \n",
       "9333  [2550.0, 500.0, 550.0, 250.0, 200.0, 450.0, 45...  \n",
       "9334  [2700.0, 800.0, 250.0, 300.0, 1100.0, 950.0, 8...  \n",
       "9335           [2300.0, 1320.0, 1050.0, 1300.0, 1150.0]  \n",
       "\n",
       "[9336 rows x 3 columns]"
      ]
     },
     "execution_count": 561,
     "metadata": {},
     "output_type": "execute_result"
    }
   ],
   "source": [
    "#test"
   ]
  },
  {
   "cell_type": "code",
   "execution_count": null,
   "id": "97722933-b02a-44a5-8d4b-709560946745",
   "metadata": {},
   "outputs": [],
   "source": []
  },
  {
   "cell_type": "code",
   "execution_count": null,
   "id": "1e9b28a4-7ead-44df-b9ae-2381ab166915",
   "metadata": {},
   "outputs": [],
   "source": []
  },
  {
   "cell_type": "code",
   "execution_count": 493,
   "id": "b88fa35c-5541-4995-a3df-47804a66592a",
   "metadata": {},
   "outputs": [],
   "source": [
    "\n",
    "b = {}\n",
    "\n",
    "#print(x[x])\n",
    "\n",
    "\n",
    "\n",
    "train['TransactionDates'][0]\n",
    "\n",
    "#sentence.removeprefix('[').removesuffix(']').removeprefix('\"')\n",
    "\n",
    "sentence= train['TransactionDates'][0]\n",
    "#pattern = rege.compile(r'\\d{1,2}.\\d{1,4}')\n",
    "pattern = rege.compile(r\"\\d{1,2}.\\d{1,4}\")\n",
    "\n",
    "matches =  pattern.findall(sentence)\n",
    "#for match in matches:\n",
    "     # a.append(datetime.strptime(match,\"%m-%Y\"))\n",
    "\n",
    "\n",
    "for match in matches:\n",
    "    a.append(pd.to_datetime(match))"
   ]
  },
  {
   "cell_type": "code",
   "execution_count": null,
   "id": "de1c5934-e6bd-40e6-a423-d436ce2e60d8",
   "metadata": {},
   "outputs": [],
   "source": []
  },
  {
   "cell_type": "code",
   "execution_count": 720,
   "id": "2ef9f476-f192-43f4-94f1-29050d0c3671",
   "metadata": {},
   "outputs": [],
   "source": [
    "#rege.compile(r\"\\d{1,2}.\\d{1,4}\");\n",
    "#{values:[float(match) for match in pattern.findall(split_data['PaymentsHistory'][keys]) ] for keys,values in enumerate(split_data['ID'])}"
   ]
  },
  {
   "cell_type": "code",
   "execution_count": 719,
   "id": "a799b8af-d709-4c6d-8cfa-42478f1f802e",
   "metadata": {},
   "outputs": [],
   "source": [
    "#b\n",
    "#(lambda x: [b for b in x])(split_data['PaymentsHistory'][0])"
   ]
  },
  {
   "cell_type": "code",
   "execution_count": 496,
   "id": "6a5714f6-7a93-4335-a894-a63b2b69142b",
   "metadata": {},
   "outputs": [],
   "source": [
    "#sentence= train['PaymentsHistory'][0]\n",
    "#pattern = rege.compile(r'\\d{1,2}.\\d{1,4}')\n",
    "pattern = rege.compile(r\"\\d{1,2}.\\d{1,4}\").\n",
    "\n",
    "matches =  pattern.findall(sentence)\n",
    "b =  []\n",
    "\n",
    "#for match in matches:\n",
    "     # a.append(datetime.strptime(match,\"%m-%Y\"))\n",
    "\n",
    "\n",
    "for match in matches:\n",
    "    b.append(float(match))"
   ]
  },
  {
   "cell_type": "code",
   "execution_count": 721,
   "id": "e1ead311-15b4-47e2-90ef-35a3d1da46c1",
   "metadata": {},
   "outputs": [],
   "source": [
    "#b"
   ]
  },
  {
   "cell_type": "code",
   "execution_count": null,
   "id": "5c5b1f3e-1103-46f4-96da-594b0594a07f",
   "metadata": {},
   "outputs": [],
   "source": []
  },
  {
   "cell_type": "code",
   "execution_count": null,
   "id": "09377373-968c-4418-8d32-3b3b8fbb1ab0",
   "metadata": {},
   "outputs": [],
   "source": []
  },
  {
   "cell_type": "code",
   "execution_count": 468,
   "id": "4ea9d49a-e2b6-45ae-afc9-c5464af3fb8d",
   "metadata": {},
   "outputs": [
    {
     "data": {
      "text/plain": [
       "Timestamp('2018-04-01 00:00:00')"
      ]
     },
     "execution_count": 468,
     "metadata": {},
     "output_type": "execute_result"
    }
   ],
   "source": [
    "a[0]"
   ]
  },
  {
   "cell_type": "code",
   "execution_count": null,
   "id": "b26bd2a5-d7ca-4116-aa0e-3042751cf867",
   "metadata": {},
   "outputs": [],
   "source": [
    "len(train['PaymentsHistory'][0])"
   ]
  },
  {
   "cell_type": "code",
   "execution_count": 68,
   "id": "353c5a5a-b835-48ea-b428-4b0353eff660",
   "metadata": {},
   "outputs": [],
   "source": [
    "train_payments = {ID:[values] for }"
   ]
  },
  {
   "cell_type": "code",
   "execution_count": 466,
   "id": "81d076c8-82db-4ce2-94a1-5c2a246beb77",
   "metadata": {},
   "outputs": [],
   "source": [
    "#for x in range(len(train['PaymentsHistory'])):\n",
    "  #  print(train['PaymentsHistory'][x][1])"
   ]
  },
  {
   "cell_type": "code",
   "execution_count": 471,
   "id": "5b6a52f9-3938-4ed8-ade3-5277a5c8d82b",
   "metadata": {},
   "outputs": [
    {
     "data": {
      "text/plain": [
       "0         880.0\n",
       "1         660.0\n",
       "2         700.0\n",
       "3         580.0\n",
       "4          40.0\n",
       "          ...  \n",
       "28002    1640.0\n",
       "28003     900.0\n",
       "28004     680.0\n",
       "28005    1300.0\n",
       "28006     970.0\n",
       "Name: m1, Length: 28007, dtype: float64"
      ]
     },
     "execution_count": 471,
     "metadata": {},
     "output_type": "execute_result"
    }
   ],
   "source": [
    "train['m1']"
   ]
  },
  {
   "cell_type": "code",
   "execution_count": 498,
   "id": "5a3e3685-b4a4-40db-8e9f-c3fcdf0bee46",
   "metadata": {},
   "outputs": [
    {
     "data": {
      "text/plain": [
       "31"
      ]
     },
     "execution_count": 498,
     "metadata": {},
     "output_type": "execute_result"
    }
   ],
   "source": [
    "len(b)"
   ]
  },
  {
   "cell_type": "code",
   "execution_count": 517,
   "id": "009638ae-625e-4929-8058-544ffc2029c1",
   "metadata": {},
   "outputs": [
    {
     "data": {
      "image/png": "[encoded data removed]",
      "text/plain": [
       "<Figure size 15000x4500 with 1 Axes>"
      ]
     },
     "metadata": {
      "needs_background": "light"
     },
     "output_type": "display_data"
    }
   ],
   "source": [
    "plt.figure(figsize=(50,15),dpi=300)\n",
    "plt.plot_date(a,b,linestyle='--')\n",
    "plt.xticks(a)\n",
    "plt.legend('a vs b')\n",
    "plt.show()"
   ]
  },
  {
   "cell_type": "code",
   "execution_count": null,
   "id": "6b7073c2-8f38-4a7d-9758-7855ecdcd8f3",
   "metadata": {},
   "outputs": [],
   "source": []
  },
  {
   "cell_type": "code",
   "execution_count": 531,
   "id": "9e9e3abe-6f89-4485-8d36-5a99b5bb7790",
   "metadata": {},
   "outputs": [
    {
     "data": {
      "text/plain": [
       "[Timestamp('2018-04-01 00:00:00'),\n",
       " Timestamp('2018-05-01 00:00:00'),\n",
       " Timestamp('2018-06-01 00:00:00'),\n",
       " Timestamp('2018-07-01 00:00:00'),\n",
       " Timestamp('2018-08-01 00:00:00'),\n",
       " Timestamp('2018-09-01 00:00:00'),\n",
       " Timestamp('2018-10-01 00:00:00'),\n",
       " Timestamp('2018-11-01 00:00:00'),\n",
       " Timestamp('2018-12-01 00:00:00'),\n",
       " Timestamp('2019-02-01 00:00:00'),\n",
       " Timestamp('2019-03-01 00:00:00'),\n",
       " Timestamp('2019-04-01 00:00:00'),\n",
       " Timestamp('2019-05-01 00:00:00'),\n",
       " Timestamp('2019-06-01 00:00:00'),\n",
       " Timestamp('2019-07-01 00:00:00'),\n",
       " Timestamp('2019-08-01 00:00:00'),\n",
       " Timestamp('2019-09-01 00:00:00'),\n",
       " Timestamp('2019-10-01 00:00:00'),\n",
       " Timestamp('2019-11-01 00:00:00'),\n",
       " Timestamp('2019-12-01 00:00:00'),\n",
       " Timestamp('2020-01-01 00:00:00'),\n",
       " Timestamp('2020-02-01 00:00:00'),\n",
       " Timestamp('2020-03-01 00:00:00'),\n",
       " Timestamp('2020-04-01 00:00:00'),\n",
       " Timestamp('2020-05-01 00:00:00'),\n",
       " Timestamp('2020-06-01 00:00:00'),\n",
       " Timestamp('2020-07-01 00:00:00'),\n",
       " Timestamp('2020-08-01 00:00:00'),\n",
       " Timestamp('2020-09-01 00:00:00'),\n",
       " Timestamp('2020-10-01 00:00:00'),\n",
       " Timestamp('2020-11-01 00:00:00')]"
      ]
     },
     "execution_count": 531,
     "metadata": {},
     "output_type": "execute_result"
    }
   ],
   "source": [
    "a"
   ]
  },
  {
   "cell_type": "code",
   "execution_count": 534,
   "id": "9e50f572-48d0-497e-b73b-0db392d8116b",
   "metadata": {},
   "outputs": [
    {
     "data": {
      "text/plain": [
       "array({'ID': [Timestamp('2018-04-01 00:00:00'), Timestamp('2018-05-01 00:00:00'), Timestamp('2018-06-01 00:00:00'), Timestamp('2018-07-01 00:00:00'), Timestamp('2018-08-01 00:00:00'), Timestamp('2018-09-01 00:00:00'), Timestamp('2018-10-01 00:00:00'), Timestamp('2018-11-01 00:00:00'), Timestamp('2018-12-01 00:00:00'), Timestamp('2019-02-01 00:00:00'), Timestamp('2019-03-01 00:00:00'), Timestamp('2019-04-01 00:00:00'), Timestamp('2019-05-01 00:00:00'), Timestamp('2019-06-01 00:00:00'), Timestamp('2019-07-01 00:00:00'), Timestamp('2019-08-01 00:00:00'), Timestamp('2019-09-01 00:00:00'), Timestamp('2019-10-01 00:00:00'), Timestamp('2019-11-01 00:00:00'), Timestamp('2019-12-01 00:00:00'), Timestamp('2020-01-01 00:00:00'), Timestamp('2020-02-01 00:00:00'), Timestamp('2020-03-01 00:00:00'), Timestamp('2020-04-01 00:00:00'), Timestamp('2020-05-01 00:00:00'), Timestamp('2020-06-01 00:00:00'), Timestamp('2020-07-01 00:00:00'), Timestamp('2020-08-01 00:00:00'), Timestamp('2020-09-01 00:00:00'), Timestamp('2020-10-01 00:00:00'), Timestamp('2020-11-01 00:00:00')]},\n",
       "      dtype=object)"
      ]
     },
     "execution_count": 534,
     "metadata": {},
     "output_type": "execute_result"
    }
   ],
   "source": [
    "new = {'ID':a}\n",
    "\n",
    "\n",
    "\n",
    "np.array(new)"
   ]
  },
  {
   "cell_type": "code",
   "execution_count": 207,
   "id": "ff57c1f1-b0f7-407f-98e0-6a5e63ff85f8",
   "metadata": {},
   "outputs": [
    {
     "ename": "TypeError",
     "evalue": "crosstab() missing 1 required positional argument: 'columns'",
     "output_type": "error",
     "traceback": [
      "\u001b[1;31m---------------------------------------------------------------------------\u001b[0m",
      "\u001b[1;31mTypeError\u001b[0m                                 Traceback (most recent call last)",
      "Input \u001b[1;32mIn [207]\u001b[0m, in \u001b[0;36m<cell line: 1>\u001b[1;34m()\u001b[0m\n\u001b[1;32m----> 1\u001b[0m \u001b[43mpd\u001b[49m\u001b[38;5;241;43m.\u001b[39;49m\u001b[43mcrosstab\u001b[49m\u001b[43m(\u001b[49m\u001b[43mindex\u001b[49m\u001b[38;5;241;43m=\u001b[39;49m\u001b[43msplit_data\u001b[49m\u001b[43m[\u001b[49m\u001b[38;5;124;43m'\u001b[39;49m\u001b[38;5;124;43mID\u001b[39;49m\u001b[38;5;124;43m'\u001b[39;49m\u001b[43m]\u001b[49m\u001b[38;5;241;43m.\u001b[39;49m\u001b[43miloc\u001b[49m\u001b[43m[\u001b[49m\u001b[43m:\u001b[49m\u001b[38;5;241;43m31\u001b[39;49m\u001b[43m]\u001b[49m\u001b[43m)\u001b[49m\n",
      "\u001b[1;31mTypeError\u001b[0m: crosstab() missing 1 required positional argument: 'columns'"
     ]
    }
   ],
   "source": [
    "pd.crosstab(index=split_data['ID'].iloc[:31],columns=)"
   ]
  },
  {
   "cell_type": "code",
   "execution_count": null,
   "id": "6f7a7b82-33af-453d-b4e7-b45c7cb23e47",
   "metadata": {},
   "outputs": [],
   "source": []
  }
 ],
 "metadata": {
  "kernelspec": {
   "display_name": "Python 3 (ipykernel)",
   "language": "python",
   "name": "python3"
  },
  "language_info": {
   "codemirror_mode": {
    "name": "ipython",
    "version": 3
   },
   "file_extension": ".py",
   "mimetype": "text/x-python",
   "name": "python",
   "nbconvert_exporter": "python",
   "pygments_lexer": "ipython3",
   "version": "3.9.12"
  }
 },
 "nbformat": 4,
 "nbformat_minor": 5
}
